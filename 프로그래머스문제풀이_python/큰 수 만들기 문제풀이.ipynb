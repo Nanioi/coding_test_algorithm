{
 "cells": [
  {
   "cell_type": "code",
   "execution_count": null,
   "metadata": {},
   "outputs": [],
   "source": [
    "## 스택이용\n",
    "\n",
    "def solution(number, k):\n",
    "    stack = [number[0]]\n",
    "    for num in number[1:]:\n",
    "        while len(stack) > 0 and stack[-1] < num and k > 0:\n",
    "            k -= 1\n",
    "            stack.pop()\n",
    "        stack.append(num)\n",
    "    if k != 0:\n",
    "        stack = stack[:-k]\n",
    "    return ''.join(stack)\n",
    "\n",
    "\n",
    "\n",
    "# 1. 빈 스택(lst)를 만들어놓기\n",
    "# 2. number 숫자를 하나씩 탐색한다\n",
    "# 2-1. 스택에 값이 있고 스택의 마지막 값이 현재의 값보다 작고 지울수 있는 k의 개수가 남아있다면 lst에서 제거하고 k값을 뺀다.\n",
    "# 2-2. 만약 k의 개수가 0이라면 즉, 더 이상 지워야할 숫자가 남아있지 않다면 나머지 숫자를 다 append시켜준다.\n",
    "# 2-3. 위 2-2 조건에 걸리지 않는다면 lst에 값을 append시켜준다.\n",
    "# for문을 빠져나왔을때 k값이 0보다 크다면 즉 지워야할 숫자가 남아있다면 그만큼 뒤에서 숫자를 빼준다.\n",
    "# 그리디(탐욕법)을 나타내는 좋은문제이다. 앞에서부터 가장 큰 숫자를 불러와야 뒤에 뭐가 오더라도 크다는것을 의미하는점을 잘 생각해보면 좋을 것 같다. "
   ]
  },
  {
   "cell_type": "code",
   "execution_count": null,
   "metadata": {},
   "outputs": [],
   "source": [
    "def solution(number, k):\n",
    "    st = []\n",
    "    for i in range(len(number)):\n",
    "        while st and k > 0 and st[-1] < number[i]:\n",
    "            st.pop()\n",
    "            k -= 1\n",
    "        st.append(number[i])\n",
    "    return ''.join(st[:len(st) - k])\n"
   ]
  }
 ],
 "metadata": {
  "kernelspec": {
   "display_name": "Python 3",
   "language": "python",
   "name": "python3"
  },
  "language_info": {
   "codemirror_mode": {
    "name": "ipython",
    "version": 3
   },
   "file_extension": ".py",
   "mimetype": "text/x-python",
   "name": "python",
   "nbconvert_exporter": "python",
   "pygments_lexer": "ipython3",
   "version": "3.8.5"
  }
 },
 "nbformat": 4,
 "nbformat_minor": 4
}
