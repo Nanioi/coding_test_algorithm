{
 "cells": [
  {
   "cell_type": "code",
   "execution_count": null,
   "metadata": {},
   "outputs": [],
   "source": [
    "## 내풀이\n",
    "\n",
    "def solution(array, commands):\n",
    "    srt=[]\n",
    "    result=[]\n",
    "    for data in commands:\n",
    "        i,j,k=data[0]-1,data[1],data[2]-1\n",
    "        srt=array[x:y]\n",
    "        srt.sort()\n",
    "        result.append(srt[k])\n",
    "    return result"
   ]
  },
  {
   "cell_type": "code",
   "execution_count": null,
   "metadata": {},
   "outputs": [],
   "source": [
    "def solution(array, commands):\n",
    "    answer = []\n",
    "    for command in commands:\n",
    "        i,j,k = command\n",
    "        answer.append(list(sorted(array[i-1:j]))[k-1])\n",
    "    return answer"
   ]
  },
  {
   "cell_type": "code",
   "execution_count": null,
   "metadata": {},
   "outputs": [],
   "source": [
    "def solution(array, commands):\n",
    "    answer = []\n",
    "    for com in commands:\n",
    "        answer.append(sorted(array[com[0]-1:com[1]])[com[2]-1])\n",
    "    return answer"
   ]
  },
  {
   "cell_type": "code",
   "execution_count": null,
   "metadata": {},
   "outputs": [],
   "source": [
    "## 다른 풀이\n",
    "\n",
    "def solution(array, commands):\n",
    "    return list(map(lambda x:sorted(array[x[0]-1:x[1]])[x[2]-1], commands))\n",
    "\n",
    "# lambda parameters: expression\n",
    "# def <lambda>(parameters):\n",
    "#     return expression\n",
    "\n",
    "# map(fuction, iterable, ...)\n",
    "# 반복문을 쓰지 않고 함수에 배열을 적용시켜 결과값을 리턴해주는 built-in 함수\n",
    "\n",
    "# 일단 이름없는 람다함수와 commands(배열)을 map함수를 이용해 매핑시켜준다. commands가 x 역할을 한다.\n",
    "# 풀어서 쓰면 c = commands라 할때,array[c[0]-1:c[1]] -> array의 i-j까지 슬라이싱한 것을 sorted한다. \n",
    "# 그 후 k번째 숫자를 리턴하는 것인데 그것들을 list로 받음."
   ]
  }
 ],
 "metadata": {
  "kernelspec": {
   "display_name": "Python 3",
   "language": "python",
   "name": "python3"
  },
  "language_info": {
   "codemirror_mode": {
    "name": "ipython",
    "version": 3
   },
   "file_extension": ".py",
   "mimetype": "text/x-python",
   "name": "python",
   "nbconvert_exporter": "python",
   "pygments_lexer": "ipython3",
   "version": "3.8.5"
  }
 },
 "nbformat": 4,
 "nbformat_minor": 4
}
