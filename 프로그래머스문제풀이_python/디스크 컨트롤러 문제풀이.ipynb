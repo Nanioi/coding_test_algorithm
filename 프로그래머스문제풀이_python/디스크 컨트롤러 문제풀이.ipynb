{
 "cells": [
  {
   "cell_type": "code",
   "execution_count": null,
   "metadata": {},
   "outputs": [],
   "source": [
    "## heapq이용\n",
    "\n",
    "def solution(jobs):\n",
    "    import heapq\n",
    "    answer, now, i = 0, 0, 0;\n",
    "    start = -1\n",
    "    heap = []\n",
    "\n",
    "    while i < len(jobs):\n",
    "        for j in jobs:\n",
    "            if start < j[0] <= now:\n",
    "                heapq.heappush(heap, [j[1],j[0]])\n",
    "\n",
    "        if heap:\n",
    "            cur = heapq.heappop(heap)\n",
    "            start = now\n",
    "            now += cur[0]\n",
    "            answer += now - cur[1]\n",
    "            i += 1\n",
    "        else:\n",
    "            now += 1\n",
    "\n",
    "    return int(answer/len(jobs))"
   ]
  },
  {
   "cell_type": "code",
   "execution_count": null,
   "metadata": {},
   "outputs": [],
   "source": [
    "## deque 이용\n",
    "\n",
    "import heapq\n",
    "from collections import deque\n",
    "\n",
    "def solution(jobs):\n",
    "    tasks = deque(sorted([(x[1], x[0]) for x in jobs], key=lambda x: (x[1], x[0])))\n",
    "    q = []\n",
    "    heapq.heappush(q, tasks.popleft())\n",
    "    current_time, total_response_time = 0, 0\n",
    "    while len(q) > 0:\n",
    "        dur, arr = heapq.heappop(q)\n",
    "        current_time = max(current_time + dur, arr + dur)\n",
    "        total_response_time += current_time - arr\n",
    "        while len(tasks) > 0 and tasks[0][1] <= current_time:\n",
    "            heapq.heappush(q, tasks.popleft())\n",
    "        if len(tasks) > 0 and len(q) == 0:\n",
    "            heapq.heappush(q, tasks.popleft())\n",
    "    return total_response_time // len(jobs)\n"
   ]
  },
  {
   "cell_type": "code",
   "execution_count": null,
   "metadata": {},
   "outputs": [],
   "source": [
    "## 그 외\n",
    "\n",
    "def solution(jobs):\n",
    "    answer = 0\n",
    "    start = 0  # 현재까지 진행된 작업 시간\n",
    "    length = len(jobs)\n",
    "\n",
    "    jobs = sorted(jobs, key=lambda x: x[1])  # 소요시간 우선 정렬\n",
    "\n",
    "    while len(jobs) != 0:\n",
    "        for i in range(len(jobs)):\n",
    "            if jobs[i][0] <= start:\n",
    "                start += jobs[i][1]\n",
    "                answer += start - jobs[i][0]\n",
    "                jobs.pop(i)\n",
    "                break\n",
    "            # 해당시점에 아직 작업이 들어오지 않았으면 시간 ++\n",
    "            if i == len(jobs) - 1:\n",
    "                start += 1\n",
    "\n",
    "    return answer // length"
   ]
  }
 ],
 "metadata": {
  "kernelspec": {
   "display_name": "Python 3",
   "language": "python",
   "name": "python3"
  },
  "language_info": {
   "codemirror_mode": {
    "name": "ipython",
    "version": 3
   },
   "file_extension": ".py",
   "mimetype": "text/x-python",
   "name": "python",
   "nbconvert_exporter": "python",
   "pygments_lexer": "ipython3",
   "version": "3.8.5"
  }
 },
 "nbformat": 4,
 "nbformat_minor": 4
}
