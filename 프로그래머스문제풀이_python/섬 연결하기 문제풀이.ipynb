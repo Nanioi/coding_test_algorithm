{
 "cells": [
  {
   "cell_type": "code",
   "execution_count": null,
   "metadata": {},
   "outputs": [],
   "source": [
    "def solution(n, costs):\n",
    "    costs.sort(key=lambda x:x[2])\n",
    "    routes = set([costs[0][0], costs[0][1]])\n",
    "    answer = costs[0][2]\n",
    "    \n",
    "    while n != len(routes):\n",
    "        for i, v in enumerate(costs[1:]):\n",
    "            if v[0] in routes and v[1] in routes:\n",
    "                continue\n",
    "                \n",
    "            if v[0] in routes or v[1] in routes:\n",
    "                routes.update([v[0], v[1]])\n",
    "                answer += v[2]\n",
    "                costs[i+1] = [-1, -1, -1]\n",
    "                break\n",
    "        \n",
    "    return answer"
   ]
  },
  {
   "cell_type": "code",
   "execution_count": null,
   "metadata": {},
   "outputs": [],
   "source": [
    "다리 건설 최소 비용문제이기 때문에 비용을 기준으로 오름차순 정렬을 한다.\n",
    "\n",
    "이후 set자료구조를 사용해서 출발, 도착 처음 지점을 담아준다.\n",
    "\n",
    "이후에 for문을 돌면서 출발, 도착 지점이 둘다 있으면 무시하고 넘어가고 둘중에 하나만 들어가있다면 섬을 연결할 수 있기 때문에 아래 3가지 사항을 진행해준다.\n",
    "\n",
    "(1) set자료구조에 출발, 도착 지점을 추가해주고 -> 중복을 제거해야하기 때문에 set자료구조를 사용\n",
    "\n",
    "(2) answer에 비용을 추가하고 -> 우리가 원하는 정답\n",
    "\n",
    "(3) costs원래 리스트값을 -1로 바꾸어준다. -> 다시 해당 값을 사용하지 않아야 하기 때문에 "
   ]
  },
  {
   "cell_type": "code",
   "execution_count": null,
   "metadata": {},
   "outputs": [],
   "source": [
    "## 크루스칼 이용\n",
    "\n",
    "def ancestor(node, parents):\n",
    "    if parents[node] == node:\n",
    "        return node\n",
    "    else:\n",
    "        return ancestor(parents[node], parents)\n",
    "\n",
    "def solution(n, costs):\n",
    "    answer = 0\n",
    "    edges = sorted([(x[2], x[0], x[1]) for x in costs])\n",
    "    parents = [i for i in range(n)]\n",
    "    bridges = 0\n",
    "    for w, f, t in edges:\n",
    "        if ancestor(f, parents) != ancestor(t, parents):\n",
    "            answer += w\n",
    "            parents[ancestor(f, parents)] = t\n",
    "            bridges += 1\n",
    "        if bridges == n - 1:\n",
    "            break\n",
    "    return answer"
   ]
  },
  {
   "cell_type": "code",
   "execution_count": null,
   "metadata": {},
   "outputs": [],
   "source": [
    "## 크루스칼\n",
    "## find-union\n",
    "\n",
    "def solution(n, costs):\n",
    "    answer = 0\n",
    "    \n",
    "    # 특정 원소가 속한 집합을 찾기\n",
    "    def find_parent(parent, x):\n",
    "        # 루트가 아니라면 찾을 때까지 재귀 호출\n",
    "        if parent[x] != x:\n",
    "            parent[x] = find_parent(parent, parent[x])\n",
    "        return parent[x]\n",
    "\n",
    "    # 두 원소가 속한 집합을 찾기\n",
    "    def union_parent(parent, a, b):\n",
    "        a = find_parent(parent, a)\n",
    "        b = find_parent(parent, b)\n",
    "        if a < b:\n",
    "            parent[b] = a\n",
    "        else:\n",
    "            parent[a] = b\n",
    "    \n",
    "    # 부모 테이블\n",
    "    parent = [0] * n\n",
    "    # 부모를 자기 자신으로 초기화\n",
    "    for i in range(n):\n",
    "        parent[i] = i\n",
    "    \n",
    "    # 크루스칼 알고리즘을 위해 비용순으로 정렬\n",
    "    costs = sorted(costs, key=lambda x:x[2])\n",
    "    \n",
    "    # 크루스칼 알고리즘 수행\n",
    "    # 간선을 하나씩 확인하며\n",
    "    for edge in costs:\n",
    "        a, b, cost = edge\n",
    "        # 사이클이 발생하지 않는 경우에만 집합에 포함\n",
    "        if find_parent(parent, a) != find_parent(parent, b):\n",
    "            union_parent(parent, a, b)\n",
    "            answer += cost\n",
    "    \n",
    "    return answer"
   ]
  }
 ],
 "metadata": {
  "kernelspec": {
   "display_name": "Python 3",
   "language": "python",
   "name": "python3"
  },
  "language_info": {
   "codemirror_mode": {
    "name": "ipython",
    "version": 3
   },
   "file_extension": ".py",
   "mimetype": "text/x-python",
   "name": "python",
   "nbconvert_exporter": "python",
   "pygments_lexer": "ipython3",
   "version": "3.8.5"
  }
 },
 "nbformat": 4,
 "nbformat_minor": 4
}
