{
 "cells": [
  {
   "cell_type": "code",
   "execution_count": null,
   "metadata": {},
   "outputs": [],
   "source": [
    "##bfs\n",
    "\n",
    "def solution(n, edge):\n",
    "    graph =[  [] for _ in range(n + 1) ]\n",
    "    distances = [ 0 for _ in range(n) ]\n",
    "    visit = [False for _ in range(n)]\n",
    "    queue = [0]\n",
    "    visit[0] = True\n",
    "    for (a, b) in edge:\n",
    "        graph[a-1].append(b-1)\n",
    "        graph[b-1].append(a-1)\n",
    "\n",
    "    while queue:\n",
    "        i = queue.pop(0)\n",
    "\n",
    "        for j in graph[i]:\n",
    "            if visit[j] == False:\n",
    "                visit[j] = True\n",
    "                queue.append(j)\n",
    "                distances[j] = distances[i] + 1\n",
    "\n",
    "    distances.sort(reverse=True)\n",
    "    answer = distances.count(distances[0])\n",
    "\n",
    "    return answer"
   ]
  }
 ],
 "metadata": {
  "kernelspec": {
   "display_name": "Python 3",
   "language": "python",
   "name": "python3"
  },
  "language_info": {
   "codemirror_mode": {
    "name": "ipython",
    "version": 3
   },
   "file_extension": ".py",
   "mimetype": "text/x-python",
   "name": "python",
   "nbconvert_exporter": "python",
   "pygments_lexer": "ipython3",
   "version": "3.8.5"
  }
 },
 "nbformat": 4,
 "nbformat_minor": 4
}
