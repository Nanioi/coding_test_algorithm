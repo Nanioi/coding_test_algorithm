{
 "cells": [
  {
   "cell_type": "code",
   "execution_count": null,
   "metadata": {},
   "outputs": [],
   "source": [
    "## 다른사람 코드 \n",
    "\n",
    "def solution(citations):\n",
    "    citations.sort(reverse=True)\n",
    "    answer = max(map(min,enumerate(citations,start=1)))\n",
    "    return answer\n",
    "\n",
    "# 역순으로 뒤집어서 citations[i]와 i를 비교해서 작은 값을 선택\n",
    "\n",
    "# sort로 정렬해서 가장 큰값부터 작은값으로 정렬한후, \n",
    "# enumerate로 (index, value)형태로 묶는다.  => (논문갯수, 인용갯수)\n",
    "# 그리고 최댓값(start = 1)부터 각 value에 대해 최솟값 value의 값을 min으로 추출하고, \n",
    "# 이 추출된 값은 enumerate가 끝나는 citations 리스트의 크기에 해당하는 갯수가 나온다. \n",
    "# 이들을 map으로 묶으면, 한 value의 입장에서 보는 최솟값 value의 집합이 나온다. \n",
    "# 즉 h값들의 집합이나온다. h값중 최대값을 max로 뽑아서 출력하면 된다.\n",
    "\n",
    "# citations에 대해서는 내림차순 정렬을 했기 때문에 만약에 최댓값이 h라면 위 표에서 citations[:h]의 모든 원소는 h보다 같거나 크다.\n",
    "# 하지만 index i가 0~h-2일 때 i+1은 모두 h보다 작으므로 min 값 또한 h보다 작다.\n",
    "\n",
    "# i가 h 이상일 때는 citatations[i]가 h보다 같거나 작다.\n",
    "# 혹여 크다면 min 값이 h보다 커질 것이기 때문에 h가 최댓값이 아니다.\n",
    "\n",
    "# 따라서 enumerate(citations, start=1)에 min 함수를 씌워서 max값을 구하는 것은 h의 최댓값을 구하는 것과 같다."
   ]
  },
  {
   "cell_type": "code",
   "execution_count": null,
   "metadata": {},
   "outputs": [],
   "source": [
    "def solution(citations):\n",
    "    for i in range(max(citations),-1,-1):\n",
    "        if sum(1 for j in citations if j>=i)>=i:break\n",
    "    return i"
   ]
  },
  {
   "cell_type": "code",
   "execution_count": null,
   "metadata": {},
   "outputs": [],
   "source": [
    "def solution(citations):\n",
    "    citations = sorted(citations)\n",
    "    l = len(citations)\n",
    "    for i in range(l):\n",
    "        if citations[i] >= l-i:\n",
    "            return l-i\n",
    "    return 0\n",
    "\n",
    "# if citations[i] >= l-i는 주어진 h번 이상 인용된 논문이 h편 이상이라는 조건을 그대로 풀어쓴 것이었다.\n",
    "# citations[i]는 i번 논문이 인용된 횟수이고 l-i는 인용된 논문의 개수를 최댓값부터 하나씩 줄여나간 것이다. \n",
    "# (최댓값을 찾아야 하므로 가장 큰 값부터 시작)\n",
    "# 그리고 리스트는 오름차순 정렬된 상태이므로 i번째 이후는 모두 i번째보다 큰 값을 가질 것이다."
   ]
  }
 ],
 "metadata": {
  "kernelspec": {
   "display_name": "Python 3",
   "language": "python",
   "name": "python3"
  },
  "language_info": {
   "codemirror_mode": {
    "name": "ipython",
    "version": 3
   },
   "file_extension": ".py",
   "mimetype": "text/x-python",
   "name": "python",
   "nbconvert_exporter": "python",
   "pygments_lexer": "ipython3",
   "version": "3.8.5"
  }
 },
 "nbformat": 4,
 "nbformat_minor": 4
}
