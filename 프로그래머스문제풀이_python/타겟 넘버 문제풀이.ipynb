{
 "cells": [
  {
   "cell_type": "code",
   "execution_count": null,
   "metadata": {},
   "outputs": [],
   "source": [
    "## 완전탐색\n",
    "\n",
    "from itertools import product\n",
    "def solution(numbers, target):\n",
    "    l = [(x, -x) for x in numbers]\n",
    "    s = list(map(sum, product(*l)))\n",
    "    return s.count(target)\n",
    "\n",
    "\n",
    "## Product\n",
    "# 데카르트 곱(cartesian product)\n",
    "# 집합 A의 원소 a와 집합 B의 원소 b를 순서대로 벌여 놓고 괄호로 묶은 순서쌍 (a,b) 전체의 집합 \n",
    "# (DB의 join, 관계 대수의 product를 생각하면 된다). \n",
    "# 이 메소드의 특징은 두 개 이상의 리스트의 모든 조합을 구할 때 사용된다.\n",
    "\n",
    "# _list = [\"012\", \"abc\", \"!@#\"]\n",
    "# pd = list(product(*_list))\n",
    "# [('0', 'a', '!'), ('0', 'a', '@'), ('0', 'b', '!'), ('0', 'b', '@'),\n",
    "#  ('1', 'a', '!'), ('1', 'a', '@'), ('1', 'b', '!'), ('1', 'b', '@')]\n",
    "\n",
    "## 순열 조합 차이\n",
    ">>> from itertools import product, permutations, combinations\n",
    ">>> test = ['A','B']\n",
    "\n",
    "# product 데카르트의 곱\n",
    ">>> list(product(test, repeat=2))\n",
    "[('A', 'A'), ('A', 'B'), ('B', 'A'), ('B', 'B')]\n",
    "\n",
    "# permutations 순열 - 순서 고려해 나열\n",
    ">>> list(permutations(test,2))\n",
    "[('A', 'B'), ('B', 'A')]\n",
    "\n",
    "# combinations 조합 - 순서 고려하지 않음\n",
    ">>> list(combinations(test,2))\n",
    "[('A', 'B')]\n"
   ]
  },
  {
   "cell_type": "code",
   "execution_count": null,
   "metadata": {},
   "outputs": [],
   "source": [
    "def solution(numbers, target):\n",
    "    if not numbers and target == 0 :\n",
    "        return 1\n",
    "    elif not numbers:\n",
    "        return 0\n",
    "    else:\n",
    "        return solution(numbers[1:], target-numbers[0]) + solution(numbers[1:], target+numbers[0])\n"
   ]
  },
  {
   "cell_type": "code",
   "execution_count": null,
   "metadata": {},
   "outputs": [],
   "source": [
    "## bfs \n",
    "\n",
    "import collections\n",
    "\n",
    "def solution(numbers, target):\n",
    "    answer = 0\n",
    "    stack = collections.deque([(0, 0)])\n",
    "    while stack:\n",
    "        current_sum, num_idx = stack.popleft()\n",
    "\n",
    "        if num_idx == len(numbers):\n",
    "            if current_sum == target:\n",
    "                answer += 1\n",
    "        else:\n",
    "            number = numbers[num_idx]\n",
    "            stack.append((current_sum+number, num_idx + 1))\n",
    "            stack.append((current_sum-number, num_idx + 1))\n",
    "\n",
    "    return answer\n",
    "\n"
   ]
  },
  {
   "cell_type": "code",
   "execution_count": null,
   "metadata": {},
   "outputs": [],
   "source": [
    "## dfs\n",
    "\n",
    "answer = 0\n",
    "def DFS(idx, numbers, target, value):\n",
    "    global answer\n",
    "    N = len(numbers)\n",
    "    if(idx== N and target == value):\n",
    "        answer += 1\n",
    "        return\n",
    "    if(idx == N):\n",
    "        return\n",
    "\n",
    "    DFS(idx+1,numbers,target,value+numbers[idx])\n",
    "    DFS(idx+1,numbers,target,value-numbers[idx])\n",
    "\n",
    "def solution(numbers, target):\n",
    "    global answer\n",
    "    DFS(0,numbers,target,0)\n",
    "    return answer"
   ]
  }
 ],
 "metadata": {
  "kernelspec": {
   "display_name": "Python 3",
   "language": "python",
   "name": "python3"
  },
  "language_info": {
   "codemirror_mode": {
    "name": "ipython",
    "version": 3
   },
   "file_extension": ".py",
   "mimetype": "text/x-python",
   "name": "python",
   "nbconvert_exporter": "python",
   "pygments_lexer": "ipython3",
   "version": "3.8.5"
  }
 },
 "nbformat": 4,
 "nbformat_minor": 4
}
