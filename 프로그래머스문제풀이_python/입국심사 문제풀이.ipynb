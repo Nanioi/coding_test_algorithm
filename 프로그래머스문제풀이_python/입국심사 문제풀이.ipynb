{
 "cells": [
  {
   "cell_type": "code",
   "execution_count": null,
   "metadata": {},
   "outputs": [],
   "source": [
    "## 이진탐색\n",
    "\n",
    "\n",
    "def solution(n, times):\n",
    "    answer = 0\n",
    "    # right는 가장 비효율적으로 심사했을 때 걸리는 시간\n",
    "    # 가장 긴 심사시간이 소요되는 심사관에게 n 명 모두 심사받는 경우이다.\n",
    "    left, right = 1, max(times) * n\n",
    "    while left <= right:\n",
    "        mid = (left+ right) // 2\n",
    "        people = 0\n",
    "        for time in times:\n",
    "            # people 은 모든 심사관들이 mid분 동안 심사한 사람의 수\n",
    "            people += mid // time\n",
    "            # 모든 심사관을 거치지 않아도 mid분 동안 n명 이상의 심사를 할 수 있다면 반복문을 나간다.\n",
    "            if people >= n:\n",
    "                break\n",
    "        \n",
    "        # 심사한 사람의 수가 심사 받아야할 사람의 수(n)보다 많거나 같은 경우\n",
    "        if people >= n:\n",
    "            answer = mid\n",
    "            right = mid - 1\n",
    "        # 심사한 사람의 수가 심사 받아야할 사람의 수(n)보다 적은 경우\n",
    "        elif people < n:\n",
    "            left = mid + 1\n",
    "            \n",
    "    return answer"
   ]
  },
  {
   "cell_type": "code",
   "execution_count": null,
   "metadata": {},
   "outputs": [],
   "source": [
    "def solution(n, times):\n",
    "    answer = 0\n",
    "    # right는 가장 비효율적으로 심사했을 때 걸리는 시간\n",
    "    # 가장 긴 심사시간이 소요되는 심사관에게 n 명 모두 심사받는 경우이다.\n",
    "    left, right = 1, max(times) * n\n",
    "    while left < right:\n",
    "        mid = (left+ right) // 2\n",
    "        people = 0\n",
    "        for time in times:\n",
    "            # people 은 모든 심사관들이 mid분 동안 심사한 사람의 수\n",
    "            people += mid // time\n",
    "        if people >= n:\n",
    "            right=mid\n",
    "        else:\n",
    "            left = mid+1\n",
    "    answer = left            \n",
    "    return answer\n",
    "\n",
    "전체 로직은 주어진 심사대와 주어진 인원 수에서 가장 오래 걸리는 최악의 심사 시간을 max로 두고, \n",
    "시간을 이진 탐색 하면서 현재 탐색하는 시간(mid)동안 심사가 가능한지 판단한다. \n",
    "더 많은 인원을 심사할 수 있다면 현재 탐색한 시간보다 아래쪽에서 다시 찾고, \n",
    "심사해야 하는 인원수보다 현재 심사 가능한 인원수가 더 작다면 위쪽에서 다시 찾는다."
   ]
  }
 ],
 "metadata": {
  "kernelspec": {
   "display_name": "Python 3",
   "language": "python",
   "name": "python3"
  },
  "language_info": {
   "codemirror_mode": {
    "name": "ipython",
    "version": 3
   },
   "file_extension": ".py",
   "mimetype": "text/x-python",
   "name": "python",
   "nbconvert_exporter": "python",
   "pygments_lexer": "ipython3",
   "version": "3.8.5"
  }
 },
 "nbformat": 4,
 "nbformat_minor": 4
}
