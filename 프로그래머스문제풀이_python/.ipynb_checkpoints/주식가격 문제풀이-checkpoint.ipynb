{
 "cells": [
  {
   "cell_type": "code",
   "execution_count": null,
   "metadata": {},
   "outputs": [],
   "source": [
    "## 이중 for문 사용\n",
    "\n",
    "def solution(prices):\n",
    "    answer = [0] * len(prices)\n",
    "\n",
    "    for i in range(len(prices)-1):\n",
    "        for j in range(i+1, len(prices)):\n",
    "            answer[i]+=1\n",
    "            if prices[i] >prices[j]:\n",
    "                break\n",
    "    return answer"
   ]
  },
  {
   "cell_type": "code",
   "execution_count": 1,
   "metadata": {},
   "outputs": [],
   "source": [
    "## queue 이용\n",
    "\n",
    "from collections import deque\n",
    "def solution(prices):\n",
    "    answer = []\n",
    "    prices = deque(prices)\n",
    "    while prices:\n",
    "        c = prices.popleft()\n",
    "\n",
    "        count = 0\n",
    "        for i in prices:\n",
    "            count += 1\n",
    "            if c > i:\n",
    "                break\n",
    "\n",
    "        answer.append(count)\n",
    "\n",
    "    return answer"
   ]
  },
  {
   "cell_type": "code",
   "execution_count": null,
   "metadata": {},
   "outputs": [],
   "source": [
    "## stack 사용\n",
    "\n",
    "def solution(p):\n",
    "    ans = [0] * len(p)\n",
    "    stack = [0]\n",
    "    for i in range(1, len(p)):\n",
    "        if p[i] < p[stack[-1]]:\n",
    "            for j in stack[::-1]:\n",
    "                if p[i] < p[j]:\n",
    "                    ans[j] = i-j\n",
    "                    stack.remove(j)\n",
    "                else:\n",
    "                    break\n",
    "        stack.append(i)\n",
    "    for i in range(0, len(stack)-1):\n",
    "        ans[stack[i]] = len(p) - stack[i] - 1\n",
    "    return ans\n",
    "\n",
    "\n",
    "# stack은 '주식 가격이 처음으로 떨어지는 지점을 아직 못찾은 가격의 index 모음'입니다. \n",
    "# i for문을 돌며 'stack에 남은 것들이 i 번째에 처음으로 가격이 떨어지는가?'를 매번 검사합니다. \n",
    "# 이때 queue를 쓰지 않고 stack을 써서 역으로 index를 검사하는 이유는 stack 내 뒤쪽 것이 p[i]보다 가격이 같거나 작다면, \n",
    "# 그 앞의 것들은 i index에서 최초로 가격이 떨어질리 없기에 굳이 검사하지 않고 break로 시간을 줄일 수 있기 때문입니다."
   ]
  }
 ],
 "metadata": {
  "kernelspec": {
   "display_name": "Python 3",
   "language": "python",
   "name": "python3"
  },
  "language_info": {
   "codemirror_mode": {
    "name": "ipython",
    "version": 3
   },
   "file_extension": ".py",
   "mimetype": "text/x-python",
   "name": "python",
   "nbconvert_exporter": "python",
   "pygments_lexer": "ipython3",
   "version": "3.8.5"
  }
 },
 "nbformat": 4,
 "nbformat_minor": 4
}
