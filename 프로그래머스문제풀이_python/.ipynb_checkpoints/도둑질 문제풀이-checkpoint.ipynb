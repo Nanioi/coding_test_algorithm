{
 "cells": [
  {
   "cell_type": "code",
   "execution_count": null,
   "metadata": {},
   "outputs": [],
   "source": [
    "def solution(money):\n",
    "    dp1 = [0] * len(money)\n",
    "    dp1[0] = money[0]\n",
    "    dp1[1] = max(money[0], money[1])\n",
    "\n",
    "    for i in range(2, len(money)-1): # 첫 집을 무조건 터는 경우\n",
    "        dp1[i] = max(dp1[i-1], money[i]+dp1[i-2])\n",
    "\n",
    "    dp2 = [0] * len(money)\n",
    "    dp2[0] = 0\n",
    "    dp2[1] = money[1]\n",
    "\n",
    "    for i in range(2, len(money)): # 마지막 집을 무조건 터는 경우\n",
    "        dp2[i] = max(dp2[i-1], money[i]+dp2[i-2])\n",
    "\n",
    "    return max(max(dp1), max(dp2)) # 두 경우 중 최대\n"
   ]
  },
  {
   "cell_type": "code",
   "execution_count": null,
   "metadata": {},
   "outputs": [],
   "source": [
    "2579번: 계단 오르기와 2156번 : 포도주 시식 1149번: RGB 거리 풀이 방법과 유사하다.\n",
    "각 단계가 인접한 i-1, i+1 단계에서 오지 못하거나 가지 못하는 경우의 문제들이다.\n",
    "\n",
    "이 문제의 경우 아래와 같은 점을 고려해야 한다.\n",
    "\n",
    "i-1, i+1 의 인접한 두 집을 털 경우 경보가 울린다.\n",
    "마을이 동그랗게 이어져 있기 때문에, 첫번째와 마지막 집 또한 이웃이다.\n",
    "첫번째 집과 마지막 집 또한 이웃이라는 점을 어떻게 고려해서 구현해야할지 몰랐기 때문에, 처음에는 그 점을 고려하지 않고 문제를 풀어보았다.\n",
    "즉 마을이 원형이 아닌 일자 형태로 있다고 생각하였다.\n",
    "\n",
    "첫 집 부터, 마지막 집까지 하나씩 추가하면서 최대로 가져올 수 있는 값을 구한다.\n",
    "집이 하나 있을 경우, 그 집을 터는게 최대값\n",
    "집이 두 개 있을 경우, 인접한 집을 털지 못하므로 두 집 중 money가 큰 집을 턴다.\n",
    "집이 3 개만 있을 때, 현재 i 집 money + i-2 번째 집 money 혹은 i-1집 money 중 더 큰 값을 가져오면 된다.\n",
    "\n",
    "즉 아래와 같이 점화식이 나온다.\n",
    "\n",
    "dp[i] = max(dp[i-1], money[i]+ dp[i-2])\n",
    "하지만, 첫 집과 마지막 집이 둘다 포함되는 경우가 생길 수 있기 때문에\n",
    "1) 첫 번째 집을 무조건 털고, 마지막 집은 털지 않는 경우\n",
    "2) 마지막 집을 무조건 털고 첫 번째 집은 털지 않는 경우\n",
    "로 나눠서 생각해야 한다.\n",
    "\n"
   ]
  },
  {
   "cell_type": "code",
   "execution_count": null,
   "metadata": {},
   "outputs": [],
   "source": [
    "def solution(a):\n",
    "    x1, y1, z1 = a[0], a[1], a[0]+a[2]\n",
    "    x2, y2, z2 = 0, a[1], a[2]\n",
    "    for i in a[3:]:\n",
    "        x1, y1, z1 = y1, z1, max(x1, y1)+i\n",
    "        x2, y2, z2 = y2, z2, max(x2, y2)+i\n",
    "    return max(x1, y1, y2, z2)"
   ]
  },
  {
   "cell_type": "code",
   "execution_count": null,
   "metadata": {},
   "outputs": [],
   "source": [
    "초기화에서는 첫 번째 집을 선택했을 경우, 두 번째는 선택하지 않은 경우\n",
    "그 후 반복문에서는 x와 y 중 더 큰 값에 i 의 값을 더한 후에\n",
    "x, y 값을 y, z 값으로 초기화 해주는 방식입니다."
   ]
  },
  {
   "cell_type": "code",
   "execution_count": null,
   "metadata": {},
   "outputs": [],
   "source": [
    "def solution(money):\n",
    "    answer = 0\n",
    "\n",
    "    dp1 = [] # 첫 집을 털었을 때\n",
    "    dp2 = [] # 첫 집을 안 털고 두 번째 집을 털었을 때\n",
    "    dp3 = [] # 첫 집과 두 번째 집을 안 털었을 때\n",
    "    for i in money:\n",
    "        dp1.append(0)\n",
    "        dp2.append(0)\n",
    "        dp3.append(0)\n",
    "    dp1[0] = money[0]\n",
    "    dp1[1] = dp1[0]\n",
    "    dp2[1] = money[1]\n",
    "\n",
    "    for i in range(2, len(money) - 1):\n",
    "        dp1[i] = max(dp1[i - 1], dp1[i - 2] + money[i])\n",
    "        dp2[i] = max(dp2[i - 1], dp2[i - 2] + money[i])\n",
    "        dp3[i] = max(dp3[i - 1], dp3[i - 2] + money[i])\n",
    "    e = len(money) - 1\n",
    "    dp1[e] = dp1[e - 1]\n",
    "    dp2[e] = max(dp2[e - 1], dp2[e - 2] + money[e])\n",
    "    dp3[e] = max(dp3[e - 1], dp3[e - 2] + money[e])\n",
    "    answer = max(dp1[e], dp2[e], dp3[e])\n",
    "\n",
    "    return answer"
   ]
  }
 ],
 "metadata": {
  "kernelspec": {
   "display_name": "Python 3",
   "language": "python",
   "name": "python3"
  },
  "language_info": {
   "codemirror_mode": {
    "name": "ipython",
    "version": 3
   },
   "file_extension": ".py",
   "mimetype": "text/x-python",
   "name": "python",
   "nbconvert_exporter": "python",
   "pygments_lexer": "ipython3",
   "version": "3.8.5"
  }
 },
 "nbformat": 4,
 "nbformat_minor": 4
}
