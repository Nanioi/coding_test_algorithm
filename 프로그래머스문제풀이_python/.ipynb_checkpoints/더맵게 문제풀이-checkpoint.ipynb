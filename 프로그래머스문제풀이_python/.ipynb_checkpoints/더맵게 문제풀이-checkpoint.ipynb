{
 "cells": [
  {
   "cell_type": "code",
   "execution_count": null,
   "metadata": {},
   "outputs": [],
   "source": [
    "## 내코드\n",
    "## 예외처리 실패\n",
    "\n",
    "def solution(scoville, K):\n",
    "    answer = 0\n",
    "    \n",
    "    while min(scoville)<K:\n",
    "        answer+=1\n",
    "        scoville.sort()\n",
    "        a=scoville.pop(0)\n",
    "        b=scoville.pop(0)\n",
    "        scoville.append(a+b*2)\n",
    "        \n",
    "    return answer"
   ]
  },
  {
   "cell_type": "code",
   "execution_count": null,
   "metadata": {},
   "outputs": [],
   "source": [
    "## 다른사람 코드\n",
    "## heapq모듈 사용 -> 이진트리 기반의 최소힙 자료구조 -> 우선순위큐\n",
    "## 항상 정렬된 상태로 추가&삭제\n",
    "\n",
    "import heapq\n",
    "\n",
    "def solution(scoville, k):\n",
    "    heapq.heapify(scoville)\n",
    "    i = 0\n",
    "    while scoville[0] < k:\n",
    "        if len(scoville) > 1:\n",
    "            heapq.heappush(scoville, heapq.heappop(scoville) + (heapq.heappop(scoville) * 2))\n",
    "            i += 1\n",
    "        else:\n",
    "            return -1\n",
    "    return i"
   ]
  }
 ],
 "metadata": {
  "kernelspec": {
   "display_name": "Python 3",
   "language": "python",
   "name": "python3"
  },
  "language_info": {
   "codemirror_mode": {
    "name": "ipython",
    "version": 3
   },
   "file_extension": ".py",
   "mimetype": "text/x-python",
   "name": "python",
   "nbconvert_exporter": "python",
   "pygments_lexer": "ipython3",
   "version": "3.8.5"
  }
 },
 "nbformat": 4,
 "nbformat_minor": 4
}
