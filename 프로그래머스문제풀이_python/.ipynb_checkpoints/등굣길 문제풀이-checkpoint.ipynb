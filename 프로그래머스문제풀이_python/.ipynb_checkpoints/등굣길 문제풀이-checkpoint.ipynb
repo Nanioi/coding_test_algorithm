{
 "cells": [
  {
   "cell_type": "code",
   "execution_count": null,
   "metadata": {},
   "outputs": [],
   "source": [
    "def solution(m, n, puddles):\n",
    "    puddles = [[q,p] for [p,q] in puddles]      # 미리 puddles 좌표 거꾸로\n",
    "    dp = [[0] * (m + 1) for i in range(n + 1)]  # dp 초기화\n",
    "    dp[1][1] = 1           # 집의 위치(시작위치)\n",
    "\n",
    "    for i in range(1, n + 1):\n",
    "        for j in range(1, m + 1):\n",
    "            if i == 1 and j == 1: continue \n",
    "            if [i, j] in puddles:    # 웅덩이 위치의 경우 값을 0으로\n",
    "                dp[i][j] = 0\n",
    "            else:                    # 현재 칸은 왼쪽 칸, 위 칸의 합산!\n",
    "                dp[i][j] = (dp[i - 1][j] + dp[i][j - 1]) % 1000000007\n",
    "    return dp[n][m]\n"
   ]
  },
  {
   "cell_type": "code",
   "execution_count": null,
   "metadata": {},
   "outputs": [],
   "source": [
    "dp[i][j] = dp[i-1][j]+dp[i][j-1]\n",
    "\n",
    "다만 이번 문제에서 주의할 점은, 웅덩이의 위치 puddles의 좌표가 반대로 되어있다는 점입니다.\n",
    "\n",
    "(사실 이 문제의 행렬의 좌표 전체가 일반적인 좌표계와 반대방향으로 구성되어있습니다.)\n",
    "\n",
    " \n",
    "\n",
    "그래서, 조건을 통해 웅덩이의 위치를 파악해줄 때 i,j 좌표를 반대로 적어주어야 합니다."
   ]
  }
 ],
 "metadata": {
  "kernelspec": {
   "display_name": "Python 3",
   "language": "python",
   "name": "python3"
  },
  "language_info": {
   "codemirror_mode": {
    "name": "ipython",
    "version": 3
   },
   "file_extension": ".py",
   "mimetype": "text/x-python",
   "name": "python",
   "nbconvert_exporter": "python",
   "pygments_lexer": "ipython3",
   "version": "3.8.5"
  }
 },
 "nbformat": 4,
 "nbformat_minor": 4
}
