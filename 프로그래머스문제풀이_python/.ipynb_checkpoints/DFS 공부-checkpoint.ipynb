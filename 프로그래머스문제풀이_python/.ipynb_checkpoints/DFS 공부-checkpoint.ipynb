{
 "cells": [
  {
   "cell_type": "code",
   "execution_count": null,
   "metadata": {},
   "outputs": [],
   "source": [
    "- 연결된 그래프를 모두 탐색하는데 사용할 수 있다.\n",
    "- 특정 조합을 뽑는 경우에 사용된다.\n",
    "- 방문 가능한 노드 개수 구하기 ( 인접리스트 ) - 바이러스 문제 등\n",
    "- 서로 인접하지 않은 독립된 지역 개수 구하기 - 그룹묶기"
   ]
  },
  {
   "cell_type": "code",
   "execution_count": null,
   "metadata": {},
   "outputs": [],
   "source": [
    "1. 시작 노드에서 방문하지 않은 인접 노드를 큐에 삽입 (방문 했음을 표시)\n",
    "2. 더 이상 방문할 수 없는 경우 탐색 중단하고 이전 상태로 되돌아옴\n",
    "\n",
    "특징\n",
    "\n",
    "1. 스택 or 재귀함수 사용\n",
    "2. 한 방향으로 최대한 깊게 접근해본다\n",
    "3. (경고) 파이썬 최대 재귀 횟수는 1000번까지 가능하다.\n",
    "    재귀를 많이 호출하는 문제는 제한횟수에 걸려서 런타임 에러가 발생할 수도 있다.\n",
    "    \n",
    "    import sys\n",
    "    sys.setrecursionlimit(제한횟수) 로 제한을 늘릴 수 있다.\n"
   ]
  },
  {
   "cell_type": "code",
   "execution_count": null,
   "metadata": {},
   "outputs": [],
   "source": [
    "# 기본 형태\n",
    "\n",
    "def dfs(arr, cur, visited):\n",
    "    visited[cur] = True\n",
    "    for i in arr[cur]:\n",
    "        if not visited[i]:\n",
    "            dfs(arr, cur, visited)"
   ]
  },
  {
   "cell_type": "code",
   "execution_count": 2,
   "metadata": {},
   "outputs": [
    {
     "name": "stdout",
     "output_type": "stream",
     "text": [
      "[1, 4, 3, 5, 6, 2]\n"
     ]
    }
   ],
   "source": [
    "graph_list= {1: set([3, 4]),\n",
    "              2: set([3, 4, 5]),\n",
    "              3: set([1, 5]),\n",
    "              4: set([1]),\n",
    "              5: set([2, 6]),\n",
    "              6: set([3, 5])}\n",
    "root_node= 1\n",
    "\n",
    "def DFS_with_adj_list(graph, root):\n",
    "    visited= []\n",
    "    stack= [root]\n",
    "    \n",
    "    while stack:\n",
    "        n= stack.pop()\n",
    "        if n not in visited:\n",
    "            visited.append(n)\n",
    "            stack+= graph[n]- set(visited)\n",
    "    return visited\n",
    "\n",
    "print(DFS_with_adj_list(graph_list, root_node))"
   ]
  },
  {
   "cell_type": "code",
   "execution_count": null,
   "metadata": {},
   "outputs": [],
   "source": [
    "# (인접리스트) 방문(전파) 가능한 노드 개수 구하기\n",
    "# 백준 바이러스 2606\n",
    "\n",
    "- a→b, b→c 이러한 인접리스트 형태의 입력\n",
    "- a→b, b→c 이므로 a→b→c 가된다. 즉, a에서는 b와 c 방문가능\n",
    "- 현재 위치에서 인접(갈 수 있는) 노드 中 한 번도 방문한 적 없다면 방문한다.\n",
    "- 방문할 때마다 cnt 1증가시켜서 방문 가능한 위치 개수 구한다.\n",
    "- 방문한 위치는 다시는 방문 못하도록 방문 여부 True로 변경\n",
    "\n",
    "cnt = 0\n",
    "def dfs(cur, arr, visited):\n",
    "    global cnt\n",
    "    visited[cur] = True\n",
    "    for i in arr[cur]:\n",
    "        if not visited[i]:\n",
    "            cnt +=1\n",
    "            dfs(i, arr, visited)"
   ]
  },
  {
   "cell_type": "code",
   "execution_count": null,
   "metadata": {},
   "outputs": [],
   "source": [
    "# (인접 행렬) 서로 인접하지 않은 독립된 지역 개수 구하기\n",
    "# 백준 섬의 개수 4963\n",
    "\n",
    "- 2차원 바둑판 형태의 입력\n",
    "- 상하좌우대각선, 총 8방향으로 1칸이라도 붙어있으면 인접하다고 가정\n",
    "- (0,0)부터 (n,m)까지 이중 for문을 돌면서 방문하지 않은 곳을 시작점으로 잡고 방문가능한 곳을 모두 방문한다. \n",
    "- 즉, BFS/DFS를 수행하면 하나의 독립된 지역을 탐색하는 것이다. 지역+1을 해준다.\n",
    "\n",
    "dx = (1,-1,0,0,-1,-1,1,1)\n",
    "dy = (0,0,1,-1,-1,1,-1,1)\n",
    "\n",
    "def dfs(x,y):\n",
    "    global visited, xx, yy\n",
    "    visited[x][y] = True\n",
    "    for i in range(8):\n",
    "        xx = dx[i]+x\n",
    "        yy = dy[i]+y\n",
    "        # 이 예시에서는 board가 1인 지역을 방문 가능하다고 가정\n",
    "        if 0<=xx<n and 0<=yy<m and board[xx][yy] == 1 and not visited[xx][yy]:\n",
    "            dfs(xx,yy)\n",
    "\n",
    "visited = [[False] * m for _ in range(n)]\n",
    "cnt = 0   # 독립된 지역의 개수\n",
    "for i in range(n):\n",
    "    for j in range(m):\n",
    "        if board[i][j] == 1 and not visited[i][j] :\n",
    "            dfs(i,j) # 하나의 독립된 지역을 탐색\n",
    "            cnt+=1\n",
    "        "
   ]
  },
  {
   "cell_type": "code",
   "execution_count": null,
   "metadata": {},
   "outputs": [],
   "source": [
    "# (인접 행렬) 동일 위치에 재 방문이 가능한 경우\n",
    "# 백트래킹\n",
    "# 백준 알파벳 1987\n",
    "\n",
    "방문 여부 대신에 경로 자체를 기록\n",
    "\n",
    "- 조건 : 최대한 많은 칸을 지나야하는데 각 칸에는 대문자 알파벳있다. 각 알파벳을 단 1번씩만 지나갈 수 있다.\n",
    "- 문제점 : 똑같은 위치에 여러가지 경로를 거쳐서 올 수 있음 (알파벳을 다르게 지나서 도착)\n",
    "- 해결법 : \n",
    "    경로 자체를 큐 또는 리스트에 저장한다.\n",
    "    똑같은 경로로 도달했으면 무시, 다른 경로로 도달했으면 큐 또는 리스트에 넣고 계속 진행\n",
    "    \n",
    "import sys\n",
    "\n",
    "# 좌, 하, 우, 상\n",
    "dx = [-1, 0, 1, 0]\n",
    "dy = [0, -1, 0, 1]\n",
    "\n",
    "\n",
    "def DFS(x, y, ans):\n",
    "    global answer\n",
    "\n",
    "    answer = max(ans, answer)\n",
    "\n",
    "    # 좌우상화 다 확인한다\n",
    "    for i in range(4):\n",
    "        nx = x + dx[i]\n",
    "        ny = y + dy[i]\n",
    "\n",
    "        # index 벗어나지 않는지 체크하고, 새로운 칸이 중복되는 알파벳인지 체크한다\n",
    "        if ((0 <= nx < R) and (0 <= ny < C)) and (board[nx][ny] not in passed):\n",
    "            passed.append(board[nx][ny])\n",
    "            DFS(nx, ny, ans+1)\n",
    "            passed.remove(board[nx][ny])\n",
    "\n",
    "\n",
    "\n",
    "R, C = map(int, sys.stdin.readline().split())\n",
    "board = [list(sys.stdin.readline().strip()) for _ in range(R)]\n",
    "\n",
    "answer = 1\n",
    "DFS(0, 0, answer)\n",
    "print(answer)"
   ]
  }
 ],
 "metadata": {
  "kernelspec": {
   "display_name": "Python 3",
   "language": "python",
   "name": "python3"
  },
  "language_info": {
   "codemirror_mode": {
    "name": "ipython",
    "version": 3
   },
   "file_extension": ".py",
   "mimetype": "text/x-python",
   "name": "python",
   "nbconvert_exporter": "python",
   "pygments_lexer": "ipython3",
   "version": "3.8.5"
  }
 },
 "nbformat": 4,
 "nbformat_minor": 4
}
