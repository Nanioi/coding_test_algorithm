{
 "cells": [
  {
   "cell_type": "code",
   "execution_count": null,
   "metadata": {},
   "outputs": [],
   "source": [
    "# 다익스트라\n",
    "# 간선 길이를 고려하여 노드에 순위를 매기고자 일반적인 큐 대신에 우선순위 큐를 사용하는 것을 말고는 BFS와 같다.\n",
    "\n",
    "import heapq\n",
    "from collections import defaultdict\n",
    "\n",
    "def dijkstra(graph,start):\n",
    "    \n",
    "    distances = {node: float('inf') for node in graph} # 거리 정보 담을 자료구조 \n",
    "    distance[start] = 0\n",
    "    \n",
    "    Q = [] # 우선순위 큐 생성\n",
    "    heapq.heappush(Q,[distance[start],start])\n",
    "    \n",
    "    while Q:\n",
    "        current_distance, current_node = heapq.heappop(Q) # 탐색할 노드 [ 거리,노드 ] \n",
    "        if distance[current_node]<current_distance:\n",
    "            continue # 기존 거리보다 길면 볼 필요가 없음\n",
    "            \n",
    "        for next_node,new_distance = graph[current_node].items(): #인접노드 정보\n",
    "            d = current_distance + new_distance # 해당노드 거쳤을때 다음 노드까지 거리\n",
    "            if d < distance[next_node] : # 기존보다 짧으면\n",
    "                distance[next_node] = d\n",
    "                heapq.heappush(Q,[d,next_node]) \n",
    "                \n",
    "    return distance\n",
    "\n",
    "print(dijkstra(graph, 'A'))\n",
    "{'A': 0, 'B': 6, 'C': 1, 'D': 2, 'E': 5, 'F': 6}"
   ]
  }
 ],
 "metadata": {
  "kernelspec": {
   "display_name": "Python 3",
   "language": "python",
   "name": "python3"
  },
  "language_info": {
   "codemirror_mode": {
    "name": "ipython",
    "version": 3
   },
   "file_extension": ".py",
   "mimetype": "text/x-python",
   "name": "python",
   "nbconvert_exporter": "python",
   "pygments_lexer": "ipython3",
   "version": "3.8.5"
  }
 },
 "nbformat": 4,
 "nbformat_minor": 4
}
