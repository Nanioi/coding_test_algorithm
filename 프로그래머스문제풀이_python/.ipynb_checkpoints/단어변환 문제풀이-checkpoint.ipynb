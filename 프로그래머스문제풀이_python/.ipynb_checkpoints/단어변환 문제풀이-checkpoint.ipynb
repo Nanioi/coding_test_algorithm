{
 "cells": [
  {
   "cell_type": "code",
   "execution_count": null,
   "metadata": {},
   "outputs": [],
   "source": [
    "def solution(begin, target, words):\n",
    "    answer = 0\n",
    "    Q = [begin]\n",
    "\n",
    "    while True:\n",
    "        temp_Q = []\n",
    "        for word_1 in Q:\n",
    "            if word_1 == target:\n",
    "                    return answer\n",
    "            for i in range(len(words)-1, -1, -1):\n",
    "                word_2 = words[i]\n",
    "                if sum([x!=y for x, y in zip(word_1, word_2)]) == 1:\n",
    "                    temp_Q.append(words.pop(i))\n",
    "\n",
    "        if not temp_Q:\n",
    "            return 0\n",
    "        Q = temp_Q\n",
    "        answer += 1"
   ]
  }
 ],
 "metadata": {
  "kernelspec": {
   "display_name": "Python 3",
   "language": "python",
   "name": "python3"
  },
  "language_info": {
   "codemirror_mode": {
    "name": "ipython",
    "version": 3
   },
   "file_extension": ".py",
   "mimetype": "text/x-python",
   "name": "python",
   "nbconvert_exporter": "python",
   "pygments_lexer": "ipython3",
   "version": "3.8.5"
  }
 },
 "nbformat": 4,
 "nbformat_minor": 4
}
