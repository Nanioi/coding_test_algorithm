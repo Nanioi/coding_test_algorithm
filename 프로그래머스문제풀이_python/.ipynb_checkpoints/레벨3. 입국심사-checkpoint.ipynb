{
 "cells": [
  {
   "cell_type": "code",
   "execution_count": null,
   "metadata": {},
   "outputs": [],
   "source": [
    "def solution(n, times):\n",
    "    answer = 0\n",
    "    \n",
    "    left, right = 1, max(times) * n\n",
    "    while left < right:\n",
    "        mid = (left+ right) // 2\n",
    "        people = 0\n",
    "        for time in times:\n",
    "            people += mid // time\n",
    "        if people >= n:\n",
    "            right=mid\n",
    "        else:\n",
    "            left = mid+1\n",
    "    answer = left            \n",
    "    return answer"
   ]
  }
 ],
 "metadata": {
  "kernelspec": {
   "display_name": "Python 3",
   "language": "python",
   "name": "python3"
  },
  "language_info": {
   "codemirror_mode": {
    "name": "ipython",
    "version": 3
   },
   "file_extension": ".py",
   "mimetype": "text/x-python",
   "name": "python",
   "nbconvert_exporter": "python",
   "pygments_lexer": "ipython3",
   "version": "3.8.5"
  }
 },
 "nbformat": 4,
 "nbformat_minor": 4
}
