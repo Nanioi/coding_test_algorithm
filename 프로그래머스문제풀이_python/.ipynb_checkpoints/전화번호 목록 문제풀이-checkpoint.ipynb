{
 "cells": [
  {
   "cell_type": "code",
   "execution_count": null,
   "metadata": {},
   "outputs": [],
   "source": [
    "##해시\n",
    "##내코드\n",
    "\n",
    "from collections import Counter\n",
    "\n",
    "def check(a,b):\n",
    "    for i in range(len(a)):\n",
    "        if a[i]!=b[i]:\n",
    "            return False\n",
    "    return True\n",
    "\n",
    "def solution(phone_book):\n",
    "    l=[]\n",
    "    for i in phone_book:\n",
    "        l.append((len(i),i))\n",
    "    l.sort()\n",
    "    n=len(phone_book)\n",
    "    for x in range(n):\n",
    "        for y in range(x+1,n):\n",
    "            if check(l[x][1],l[y][1]):\n",
    "                return False\n",
    "    \n",
    "    return True\n",
    "\n",
    "## 정확성ㅇ에서 틀림"
   ]
  },
  {
   "cell_type": "code",
   "execution_count": null,
   "metadata": {},
   "outputs": [],
   "source": [
    "def solution(phone_book): \n",
    "    phone_book.sort() \n",
    "    for i in range(len(phone_book)-1): \n",
    "        if phone_book[i] == phone_book[i+1][:len(phone_book[i])]:\n",
    "                return False\n",
    "                \n",
    "    return True"
   ]
  },
  {
   "cell_type": "code",
   "execution_count": null,
   "metadata": {},
   "outputs": [],
   "source": [
    "def solution(phoneBook):\n",
    "    phoneBook = sorted(phoneBook)\n",
    "\n",
    "    for p1, p2 in zip(phoneBook, phoneBook[1:]):\n",
    "        if p2.startswith(p1):\n",
    "            return False\n",
    "    return True"
   ]
  }
 ],
 "metadata": {
  "kernelspec": {
   "display_name": "Python 3",
   "language": "python",
   "name": "python3"
  },
  "language_info": {
   "codemirror_mode": {
    "name": "ipython",
    "version": 3
   },
   "file_extension": ".py",
   "mimetype": "text/x-python",
   "name": "python",
   "nbconvert_exporter": "python",
   "pygments_lexer": "ipython3",
   "version": "3.8.5"
  }
 },
 "nbformat": 4,
 "nbformat_minor": 4
}
