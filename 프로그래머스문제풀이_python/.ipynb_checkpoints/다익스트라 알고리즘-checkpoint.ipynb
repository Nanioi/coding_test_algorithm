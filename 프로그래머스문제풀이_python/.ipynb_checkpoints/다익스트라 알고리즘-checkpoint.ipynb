{
 "cells": [
  {
   "cell_type": "code",
   "execution_count": null,
   "metadata": {},
   "outputs": [],
   "source": [
    "- 가중치 있는 최단경로에 사용\n",
    "- 관련문제 : 백준 1753번 최단경로"
   ]
  },
  {
   "cell_type": "code",
   "execution_count": null,
   "metadata": {},
   "outputs": [],
   "source": [
    "# 다익스트라 알고리즘\n",
    "# 간선 길이가 양의 정수인 그래프에서 최단 거리를 계산\n",
    "# 간선 길이를 고려하여 노드에 순위를 매기고자 일반적인 큐 대신에 우선순위 큐를 사용하는 것을 말고는 BFS와 같다.\n",
    "# 시간 복잡도는 우선순위 큐 구현 방법에 달려있다. 이진 히프(O((V+E)logV), 삽입, 삭제 logV, 최소값 추출 logV\n",
    "# 다익스트라 알고리즘은 시작점부터 가장 가까운 노드를 포함한 그래프를 생성하고, 그래프 밖에 있는 가장 가까운 노드를 그래프에 포함하는 것으로 생각할 수 있다.\n",
    "# 정점의 거리 update의 연속으로 볼 수 있다.\n",
    "\n",
    "import collections\n",
    "import sys\n",
    "import heapq\n",
    "\n",
    "input = sys.stdin.readline\n",
    "\n",
    "V, E = map(int, input().split()) # 정점, 간선 수 입력 받기\n",
    "graph = collections.defaultdict(list) # 빈 그래프 생성\n",
    "\n",
    "for _ in range(V):\n",
    "    u, v, w = map(int, input().split())\n",
    "    graph[u].append(v,w) # 그래프 생성\n",
    "\n",
    "# 다익스트라 알고리즘\n",
    "def dijkstra(graph, start):\n",
    "    Q = [(0, start)] # 우선순위 큐생성 (거리, 정점)\n",
    "    distance = collections.defaultdict(int) # 거리 정보를 담을 자료구조 생성\n",
    "\n",
    "    while Q:\n",
    "        dist, node = heapq.heappop(Q) # 힙 추출\n",
    "        if node not in distance: # 방문한 노드가 아니면 거리 정보 저장\n",
    "            distance[node] = dist\n",
    "            for v, w in graph[node]: # 인점 노드 탐색\n",
    "                update = dist + w # 거리 정보 갱신\n",
    "                heapq.heappush(Q, (Q, (update, v))) # 우선 순위 큐에 삽입\n",
    "\n",
    "    # 최단 경로 존재 여부 판별, distance 수가 전체 정점 수와 같은지 확인\n",
    "    if len(distance) == V:\n",
    "        return max(distance.values()) # 최단 거리 추출\n",
    "    return -1 # 최단 거리가 없으면 -1 반환"
   ]
  },
  {
   "cell_type": "code",
   "execution_count": null,
   "metadata": {},
   "outputs": [],
   "source": [
    "import heapq  # 우선순위 큐 구현을 위함\n",
    "\n",
    "def dijkstra(graph, start):\n",
    "  distances = {node: float('inf') for node in graph}  # start로 부터의 거리 값을 저장하기 위함\n",
    "  distances[start] = 0  # 시작 값은 0이어야 함\n",
    "  queue = []\n",
    "  heapq.heappush(queue, [distances[start], start])  # 시작 노드부터 탐색 시작 하기 위함.\n",
    "\n",
    "  while queue:  # queue에 남아 있는 노드가 없으면 끝\n",
    "    current_distance, current_destination = heapq.heappop(queue)  # 탐색 할 노드, 거리를 가져옴.\n",
    "\n",
    "    if distances[current_destination] < current_distance:  # 기존에 있는 거리보다 길다면, 볼 필요도 없음\n",
    "      continue\n",
    "\n",
    "    for new_destination, new_distance in graph[current_destination].items():\n",
    "      distance = current_distance + new_distance  # 해당 노드를 거쳐 갈 때 거리\n",
    "      if distance < distances[new_destination]:  # 알고 있는 거리 보다 작으면 갱신\n",
    "        distances[new_destination] = distance\n",
    "        heapq.heappush(queue, [distance, new_destination])  # 다음 인접 거리를 계산 하기 위해 큐에 삽입\n",
    "\n",
    "  return distances\n",
    "\n",
    "print(dijkstra(graph, 'A'))\n",
    "{'A': 0, 'B': 6, 'C': 1, 'D': 2, 'E': 5, 'F': 6}"
   ]
  }
 ],
 "metadata": {
  "kernelspec": {
   "display_name": "Python 3",
   "language": "python",
   "name": "python3"
  },
  "language_info": {
   "codemirror_mode": {
    "name": "ipython",
    "version": 3
   },
   "file_extension": ".py",
   "mimetype": "text/x-python",
   "name": "python",
   "nbconvert_exporter": "python",
   "pygments_lexer": "ipython3",
   "version": "3.8.5"
  }
 },
 "nbformat": 4,
 "nbformat_minor": 4
}
