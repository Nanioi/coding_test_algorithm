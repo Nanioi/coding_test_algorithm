{
 "cells": [
  {
   "cell_type": "code",
   "execution_count": null,
   "metadata": {},
   "outputs": [],
   "source": [
    "def solution(n, results):\n",
    "    # wins[key] = key가 이긴 사람들의 집합\n",
    "    # loses[key] = key가 이기지 못한 사람들의 집합\n",
    "    wins, loses = {}, {}\n",
    "    for i in range(1, n+1):\n",
    "        wins[i], loses[i] = set(), set()\n",
    "    \n",
    "    for i in range(1, n+1):\n",
    "        for battle in results:\n",
    "            if battle[0] == i: # i의 승리. i가 이긴 사람들\n",
    "                wins[i].add(battle[1])\n",
    "            if battle[1] == i: # i의 패배. i가 진 사람들\n",
    "                loses[i].add(battle[0])\n",
    "        # i를 이긴 사람들 (loses[i]) => i에게 진 사람(wins[i])은 반드시 이긴다\n",
    "        for winner in loses[i]:\n",
    "            wins[winner].update(wins[i])\n",
    "        # i에게 진 사람들 (wins[i]) => i를 이긴 사람들(loses[i])에게는 반드시 진다\n",
    "        for loser in wins[i]:\n",
    "            loses[loser].update(loses[i])\n",
    "            \n",
    "    cnt = 0\n",
    "    for i in range(1, n+1):\n",
    "        if len(wins[i]) + len(loses[i]) == n - 1:\n",
    "            cnt += 1\n",
    "    return cnt"
   ]
  },
  {
   "cell_type": "code",
   "execution_count": null,
   "metadata": {},
   "outputs": [],
   "source": [
    "from collections import defaultdict\n",
    "def solution(n, results):\n",
    "    answer = 0\n",
    "    win, lose = defaultdict(set), defaultdict(set)\n",
    "    for result in results:\n",
    "            lose[result[1]].add(result[0])\n",
    "            win[result[0]].add(result[1])\n",
    "\n",
    "    for i in range(1, n + 1):\n",
    "        for winner in lose[i]: win[winner].update(win[i])\n",
    "        for loser in win[i]: lose[loser].update(lose[i])\n",
    "\n",
    "    for i in range(1, n+1):\n",
    "        if len(win[i]) + len(lose[i]) == n - 1: answer += 1\n",
    "    return answer\n"
   ]
  }
 ],
 "metadata": {
  "kernelspec": {
   "display_name": "Python 3",
   "language": "python",
   "name": "python3"
  },
  "language_info": {
   "codemirror_mode": {
    "name": "ipython",
    "version": 3
   },
   "file_extension": ".py",
   "mimetype": "text/x-python",
   "name": "python",
   "nbconvert_exporter": "python",
   "pygments_lexer": "ipython3",
   "version": "3.8.5"
  }
 },
 "nbformat": 4,
 "nbformat_minor": 4
}
