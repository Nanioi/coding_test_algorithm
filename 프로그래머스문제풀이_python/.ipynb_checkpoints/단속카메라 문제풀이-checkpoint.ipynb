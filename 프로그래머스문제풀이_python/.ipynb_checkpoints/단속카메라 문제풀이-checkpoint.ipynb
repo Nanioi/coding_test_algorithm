{
 "cells": [
  {
   "cell_type": "code",
   "execution_count": null,
   "metadata": {},
   "outputs": [],
   "source": [
    "def solution(routes):\n",
    "    answer = 1\n",
    "    routes.sort(key=lambda x:x[0], reverse=True)\n",
    "    \n",
    "    now = routes[0][0]\n",
    "    for i in routes[1:]:\n",
    "        if i[1] >= now:\n",
    "            continue\n",
    "        else:\n",
    "            now = i[0]\n",
    "            answer += 1\n",
    "    \n",
    "    return answer"
   ]
  },
  {
   "cell_type": "code",
   "execution_count": null,
   "metadata": {},
   "outputs": [],
   "source": [
    "최소 카메라를 설치하는 문제이기 때문에 greedy방식으로 가장 끝에서부터 확인을 한다.\n",
    "\n",
    " \n",
    "\n",
    "1. 위의 예시에서 routes를 고속도로 진입시점을 기준으로 정렬을 한다. 그 이유는 맨마지막의 진입시점에 카메라를 한대 설치하고 모든 차량의 나가는시점이 그 이후면 카메라를 1대만 설치해도 되기 때문이다.\n",
    "\n",
    "[[-5, -3], [-14, -5], [-18, -13], [-20, 15]]\n",
    "\n",
    " \n",
    "\n",
    "2. -5를 시작점으로 잡고 answer=1을 default로 시작한다\n",
    "\n",
    " \n",
    "\n",
    "3. routes[1:]은 시작점은 이미 포함시켰기 때문에 첫번째 이후의 값을 for문으로 탐색\n",
    "\n",
    " \n",
    "\n",
    "4. 이후 차량의 고속도로 나가는 시점을 확인한다.\n",
    "\n",
    "   (1) 만약 나가는 시점이 now현재 설치되어있는 카메라 시점보다 크거나 같다면 새로운 단속카메라를 설치할 필요가 없기 때문에 무시하고 넘어간다.\n",
    "\n",
    "   (2) 나가는 시점이 now현재 설치되어있는 카메라 시점보다 작다면 새로운 카메라를 설치해야하는데 카메라를 최대한 다른 차량도 포함될수 있도록 고속도로 진입시점에 설치를 한다.\n",
    "\n",
    " \n",
    "\n",
    "ex) now:-5 / 두 번째 차량 나가는 시점:-5 -> 단속카메라에 걸리기 때문에 무시하고 넘어가기\n",
    "\n",
    "     now:-5 / 세 번째 차량 나가는 시점:-13 -> 단속카메라에 걸리지 않기 때문에 새로운 카메라 설치\n",
    "\n",
    "     now=-18 /  answer = 2\n",
    "\n",
    "     now = -18 / 네 번째 차량 나가는 시점: 16 -> 단속카메라에 걸리기 때문에 무시하고 넘어가기\n",
    "\n"
   ]
  },
  {
   "cell_type": "code",
   "execution_count": null,
   "metadata": {},
   "outputs": [],
   "source": [
    "def solution(routes):\n",
    "    routes = sorted(routes, key=lambda x: x[1])\n",
    "    last_camera = -30000\n",
    "\n",
    "    answer = 0\n",
    "\n",
    "    for route in routes:\n",
    "        if last_camera < route[0]:\n",
    "            answer += 1\n",
    "            last_camera = route[1]\n",
    "\n",
    "    return answer"
   ]
  }
 ],
 "metadata": {
  "kernelspec": {
   "display_name": "Python 3",
   "language": "python",
   "name": "python3"
  },
  "language_info": {
   "codemirror_mode": {
    "name": "ipython",
    "version": 3
   },
   "file_extension": ".py",
   "mimetype": "text/x-python",
   "name": "python",
   "nbconvert_exporter": "python",
   "pygments_lexer": "ipython3",
   "version": "3.8.5"
  }
 },
 "nbformat": 4,
 "nbformat_minor": 4
}
