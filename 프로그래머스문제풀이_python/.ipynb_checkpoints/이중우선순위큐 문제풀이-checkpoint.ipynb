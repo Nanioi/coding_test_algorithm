{
 "cells": [
  {
   "cell_type": "code",
   "execution_count": null,
   "metadata": {},
   "outputs": [],
   "source": [
    "## 내풀이\n",
    "## heapq이용\n",
    "## 테스트 6 불통과\n",
    "\n",
    "import heapq\n",
    "\n",
    "def solution(operations):\n",
    "    answer = []\n",
    "    heap=[]\n",
    "    for i in operations:\n",
    "        if i[0]=='I':\n",
    "            a=int(i[2:])\n",
    "            heapq.heappush(heap,a)\n",
    "        elif i[0]=='D':\n",
    "            if heap:\n",
    "                heapq.heapify(heap)\n",
    "                if i[2]=='1':\n",
    "                    heap.pop()\n",
    "                else:\n",
    "                    heapq.heappop(heap)\n",
    "            else:\n",
    "                continue\n",
    "    if heap:\n",
    "        answer.append(heap.pop())\n",
    "        answer.append(heapq.heappop(heap))\n",
    "    else:\n",
    "        answer=[0,0]\n",
    "        \n",
    "    return answer"
   ]
  },
  {
   "cell_type": "code",
   "execution_count": null,
   "metadata": {},
   "outputs": [],
   "source": [
    "## heapq이용\n",
    "## 다른 풀이\n",
    "\n",
    "import heapq\n",
    "\n",
    "def solution(operations):\n",
    "    answer = []\n",
    "    heap=[]\n",
    "    for i in operations:\n",
    "        a,b = i.split(\" \")\n",
    "        if a=='I':\n",
    "            heapq.heappush(heap,int(b))\n",
    "        else:\n",
    "            if heap:\n",
    "                if b=='1':\n",
    "                    heap.pop(heap.index(heapq.nlargest(1,heap)[0]))\n",
    "                else:\n",
    "                    heapq.heappop(heap)\n",
    "            else:\n",
    "                pass\n",
    "    if heap:\n",
    "        return [heapq.nlargest(1,heap)[0],heapq.nsmallest(1,heap)[0]]\n",
    "    else:\n",
    "        return [0,0]"
   ]
  },
  {
   "cell_type": "code",
   "execution_count": null,
   "metadata": {},
   "outputs": [],
   "source": [
    "import heapq\n",
    "\n",
    "def solution(operations):\n",
    "    heap = []\n",
    "\n",
    "    for operation in operations:\n",
    "        operator, operand = operation.split(' ')\n",
    "        operand = int(operand)\n",
    "\n",
    "        if operator == 'I':\n",
    "            heapq.heappush(heap, operand)\n",
    "        elif heap:\n",
    "            if operand < 0:\n",
    "                heapq.heappop(heap)\n",
    "            else:\n",
    "                heap.remove(max(heap))\n",
    "\n",
    "    if not heap:\n",
    "        return [0, 0]\n",
    "\n",
    "    return [max(heap), heap[0]]"
   ]
  }
 ],
 "metadata": {
  "kernelspec": {
   "display_name": "Python 3",
   "language": "python",
   "name": "python3"
  },
  "language_info": {
   "codemirror_mode": {
    "name": "ipython",
    "version": 3
   },
   "file_extension": ".py",
   "mimetype": "text/x-python",
   "name": "python",
   "nbconvert_exporter": "python",
   "pygments_lexer": "ipython3",
   "version": "3.8.5"
  }
 },
 "nbformat": 4,
 "nbformat_minor": 4
}
