{
 "cells": [
  {
   "cell_type": "code",
   "execution_count": 5,
   "metadata": {},
   "outputs": [
    {
     "name": "stdout",
     "output_type": "stream",
     "text": [
      "[2, 1, 1, 0]\n"
     ]
    }
   ],
   "source": [
    "# 1번\n",
    "\n",
    "from collections import defaultdict\n",
    "\n",
    "id_list = [\"muzi\",\"frodo\",\"apeach\",\"neo\"]\n",
    "report = [\"muzi frodo\",\"apeach frodo\",\"frodo neo\",\"muzi neo\",\"apeach muzi\"]\n",
    "k=2\n",
    "\n",
    "answer=[]\n",
    "count = defaultdict(int)\n",
    "report_list = defaultdict(list)\n",
    "\n",
    "for x in report:\n",
    "    a,b = x.split()\n",
    "    if b not in report_list[a]:\n",
    "        report_list[a].append(b)\n",
    "        count[b]+=1\n",
    "\n",
    "for i in id_list:\n",
    "    cnt=0\n",
    "    for b in report_list[i]:\n",
    "        if count[b] >=k:\n",
    "            cnt+=1\n",
    "    answer.append(cnt)\n",
    "\n",
    "print(answer)"
   ]
  },
  {
   "cell_type": "code",
   "execution_count": 14,
   "metadata": {},
   "outputs": [
    {
     "name": "stdout",
     "output_type": "stream",
     "text": [
      "3502006\n",
      "['35', '2', '', '6']\n",
      "3\n"
     ]
    }
   ],
   "source": [
    "# 2번\n",
    "\n",
    "n=437674\n",
    "k=7\n",
    "\n",
    "num=\"\"\n",
    "cnt=0\n",
    "lst=[]\n",
    "\n",
    "#k진수 변환\n",
    "while n//k>=1:\n",
    "    r = n%k\n",
    "    n//=k\n",
    "    num = str(r)+num\n",
    "    if n<k:\n",
    "        num=str(n)+num\n",
    "print(num)\n",
    "lst = num.split('0')\n",
    "print(lst)\n",
    "\n",
    "\n",
    "for i in lst:\n",
    "    if '0' in i or i=='1' or i==\"\":\n",
    "        continue\n",
    "    else:\n",
    "        cnt+=1\n",
    "        \n",
    "print(cnt)"
   ]
  },
  {
   "cell_type": "code",
   "execution_count": 37,
   "metadata": {},
   "outputs": [
    {
     "name": "stdout",
     "output_type": "stream",
     "text": [
      "334\n",
      "670\n",
      "146\n",
      "[14600, 34400, 5000]\n"
     ]
    }
   ],
   "source": [
    "#3번\n",
    "\n",
    "fees = [180,5000,10,600]\n",
    "records = [\"05:34 5961 IN\",\"06:00 0000 IN\", \"06:34 0000 OUT\",\n",
    "           \"07:59 5961 OUT\", \"07:59 0148 IN\", \"18:59 0000 IN\", \n",
    "           \"19:09 0148 OUT\", \"22:59 5961 IN\", \"23:00 5961 OUT\"]\n",
    "\n",
    "from collections import defaultdict\n",
    "import math\n",
    "\n",
    "def cost(time):\n",
    "    if time <= fees[0]:\n",
    "        return fees[1]\n",
    "    else:\n",
    "        c= (time-fees[0])/fees[2]\n",
    "        c=math.ceil(c)*fees[3]\n",
    "        c+=fees[1]\n",
    "        return c\n",
    "    \n",
    "answer=[]\n",
    "car_list = []\n",
    "time_list = defaultdict(int)\n",
    "\n",
    "visit = {}\n",
    "for l in records:\n",
    "    time,car,IO = l.split()\n",
    "    if car not in car_list:\n",
    "        car_list.append(car)\n",
    "    h,m = map(int,time.split(\":\"))\n",
    "    T = m+h*60\n",
    "    if IO =='IN':\n",
    "        time_list[car]-=T\n",
    "        visit[car]=True\n",
    "    if IO == 'OUT':\n",
    "        time_list[car]+=T\n",
    "        visit[car]=False\n",
    "\n",
    "\n",
    "for car,IO in visit.items():\n",
    "    if IO==True:\n",
    "        time_list[car]+=1439\n",
    "\n",
    "car_list.sort()\n",
    "for i in car_list:\n",
    "    print(time_list[i])\n",
    "    answer.append(cost(time_list[i]))\n",
    "\n",
    "print(answer)"
   ]
  },
  {
   "cell_type": "code",
   "execution_count": null,
   "metadata": {},
   "outputs": [],
   "source": [
    "#4번\n",
    "\n"
   ]
  },
  {
   "cell_type": "code",
   "execution_count": null,
   "metadata": {},
   "outputs": [],
   "source": [
    "#5번"
   ]
  },
  {
   "cell_type": "code",
   "execution_count": null,
   "metadata": {},
   "outputs": [],
   "source": [
    "#6번\n",
    "## 메모리 과다\n",
    "## 실패\n",
    "\n",
    "board = [[5,5,5,5,5],[5,5,5,5,5],[5,5,5,5,5],[5,5,5,5,5]]\n",
    "skill = [[1,0,0,3,4,4],[1,2,0,2,3,2],[2,1,0,3,1,2],[1,0,1,3,3,1]]\n",
    "# skill = [type,r1,c1,r2,c2,degree] 1-적, 2-아군\n",
    "\n",
    "import numpy as np\n",
    "\n",
    "lst = np.array(board)\n",
    "for T,r1,c1,r2,c2,d in skill:\n",
    "    if T==1:\n",
    "        lst[r1:r2+1,c1:c2+1]-=d\n",
    "    else:\n",
    "        lst[r1:r2+1,c1:c2+1]+=d\n",
    "# lst2 = list(np.where(lst>0))\n",
    "\n",
    "print(np.count_nonzero(lst>0))\n",
    "print(len(lst[lst>0]))"
   ]
  },
  {
   "cell_type": "code",
   "execution_count": 5,
   "metadata": {},
   "outputs": [
    {
     "name": "stdout",
     "output_type": "stream",
     "text": [
      "10\n"
     ]
    }
   ],
   "source": [
    "#6번 \n",
    "from collections import Counter\n",
    "\n",
    "board = [[5,5,5,5,5],[5,5,5,5,5],[5,5,5,5,5],[5,5,5,5,5]]\n",
    "skill = [[1,0,0,3,4,4],[1,2,0,2,3,2],[2,1,0,3,1,2],[1,0,1,3,3,1]]\n",
    "# row[c1:c2+1] for row in board[r1:r2+1]\n",
    "\n",
    "answer=0\n",
    "for T,r1,c1,r2,c2,d in skill:\n",
    "    for r in range(r1,r2+1):\n",
    "        for c in range(c1,c2+1):\n",
    "            if T==1:\n",
    "                board[r][c]-=d\n",
    "            else:\n",
    "                board[r][c]+=d\n",
    "lst = []\n",
    "for i in board:\n",
    "    lst += list(filter(lambda x:x>0 , i))\n",
    "print(len(lst))"
   ]
  },
  {
   "cell_type": "code",
   "execution_count": null,
   "metadata": {},
   "outputs": [],
   "source": [
    "#7번"
   ]
  }
 ],
 "metadata": {
  "kernelspec": {
   "display_name": "Python 3",
   "language": "python",
   "name": "python3"
  },
  "language_info": {
   "codemirror_mode": {
    "name": "ipython",
    "version": 3
   },
   "file_extension": ".py",
   "mimetype": "text/x-python",
   "name": "python",
   "nbconvert_exporter": "python",
   "pygments_lexer": "ipython3",
   "version": "3.8.5"
  }
 },
 "nbformat": 4,
 "nbformat_minor": 4
}
