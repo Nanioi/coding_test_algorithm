{
 "cells": [
  {
   "cell_type": "code",
   "execution_count": null,
   "metadata": {},
   "outputs": [],
   "source": [
    "def solution(s):\n",
    "    if 'zero' in s:\n",
    "        s = s.replace('zero','0')\n",
    "\n",
    "    if 'one' in s:\n",
    "        s = s.replace('one','1')\n",
    "\n",
    "    if 'two' in s:\n",
    "        s = s.replace('two','2')\n",
    "    if 'three' in s:\n",
    "        s=s.replace('three','3')\n",
    "\n",
    "    if 'four' in s:\n",
    "        s = s.replace('four','4')\n",
    "\n",
    "    if 'five' in s:\n",
    "        s = s.replace('five','5')\n",
    "    if 'six' in s:\n",
    "        s=s.replace('six','6')\n",
    "\n",
    "    if 'seven' in s:\n",
    "        s = s.replace('seven','7')\n",
    "\n",
    "    if 'eight' in s:\n",
    "        s = s.replace('eight','8')\n",
    "    if 'nine' in s:\n",
    "        s=s.replace('nine','9')\n",
    "\n",
    "\n",
    "    print(s)\n",
    "    return int(s)"
   ]
  },
  {
   "cell_type": "code",
   "execution_count": null,
   "metadata": {},
   "outputs": [],
   "source": [
    "num_dic = {\"zero\":\"0\", \"one\":\"1\", \"two\":\"2\", \"three\":\"3\", \"four\":\"4\", \"five\":\"5\", \"six\":\"6\", \"seven\":\"7\", \"eight\":\"8\", \"nine\":\"9\"}\n",
    "\n",
    "def solution(s):\n",
    "    answer = s\n",
    "    for key, value in num_dic.items():\n",
    "        answer = answer.replace(key, value)\n",
    "    return int(answer)"
   ]
  },
  {
   "cell_type": "code",
   "execution_count": null,
   "metadata": {},
   "outputs": [],
   "source": [
    "def solution(s):\n",
    "    words = ['zero', 'one', 'two', 'three', 'four', 'five', 'six', 'seven', 'eight', 'nine']\n",
    "\n",
    "    for i in range(len(words)):\n",
    "        s = s.replace(words[i], str(i))\n",
    "\n",
    "    return int(s)"
   ]
  }
 ],
 "metadata": {
  "kernelspec": {
   "display_name": "Python 3",
   "language": "python",
   "name": "python3"
  },
  "language_info": {
   "codemirror_mode": {
    "name": "ipython",
    "version": 3
   },
   "file_extension": ".py",
   "mimetype": "text/x-python",
   "name": "python",
   "nbconvert_exporter": "python",
   "pygments_lexer": "ipython3",
   "version": "3.8.5"
  }
 },
 "nbformat": 4,
 "nbformat_minor": 4
}
