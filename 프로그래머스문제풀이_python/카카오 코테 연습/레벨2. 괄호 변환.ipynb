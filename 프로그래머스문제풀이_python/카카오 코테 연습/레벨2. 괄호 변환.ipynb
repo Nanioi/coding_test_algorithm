{
 "cells": [
  {
   "cell_type": "code",
   "execution_count": null,
   "metadata": {},
   "outputs": [],
   "source": [
    "def solution(p):\n",
    "    answer = ''\n",
    "    if isCorrect(p): return p\n",
    "    \n",
    "    answer = rec(p)\n",
    "    \n",
    "    return answer\n",
    "\n",
    "def isCorrect(p):\n",
    "    stack = []\n",
    "    for c in p:\n",
    "        if c == '(':\n",
    "            stack.append(c)\n",
    "        else:\n",
    "            if not len(stack):\n",
    "                return False\n",
    "            elif stack[-1] == '(':\n",
    "                stack.pop()\n",
    "    return False if len(stack) else True\n",
    "\n",
    "def sepUV(p):\n",
    "    left =0\n",
    "    right =0\n",
    "    for i in range(len(p)):\n",
    "        if p[i]=='(':\n",
    "            left+=1\n",
    "        else:\n",
    "            right+=1\n",
    "        if left==right:\n",
    "            u = p[:i+1]\n",
    "            v = p[i+1:] if i+1 < len(p) else ''\n",
    "            break\n",
    "    return u,v\n",
    "    \n",
    "def rec(p):\n",
    "    result=''\n",
    "    if not len(p) : return ''\n",
    "    u,v = sepUV(p)\n",
    "    \n",
    "    if isCorrect(u):\n",
    "        result = u+rec(v)\n",
    "    else:\n",
    "        temp='('\n",
    "        temp += rec(v)\n",
    "        temp += ')'\n",
    "        u=u[1:-1]\n",
    "        for i in u:\n",
    "            if i=='(':\n",
    "                temp+=')'\n",
    "            else:\n",
    "                temp+='('\n",
    "        result+= temp\n",
    "    return result"
   ]
  }
 ],
 "metadata": {
  "kernelspec": {
   "display_name": "Python 3",
   "language": "python",
   "name": "python3"
  },
  "language_info": {
   "codemirror_mode": {
    "name": "ipython",
    "version": 3
   },
   "file_extension": ".py",
   "mimetype": "text/x-python",
   "name": "python",
   "nbconvert_exporter": "python",
   "pygments_lexer": "ipython3",
   "version": "3.8.5"
  }
 },
 "nbformat": 4,
 "nbformat_minor": 4
}
