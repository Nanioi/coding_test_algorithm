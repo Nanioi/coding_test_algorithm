{
 "cells": [
  {
   "cell_type": "code",
   "execution_count": null,
   "metadata": {},
   "outputs": [],
   "source": [
    "def solution(numbers): \n",
    "    \n",
    "    numbers = list(map(str, numbers)) \n",
    "    numbers.sort(key = lambda x : x*3, reverse = True) \n",
    "    \n",
    "    return str(int(''.join(numbers)))"
   ]
  },
  {
   "cell_type": "code",
   "execution_count": null,
   "metadata": {},
   "outputs": [],
   "source": [
    "int형의 list를 map을 사용하여 string으로 치환한 뒤, list로 변환한다.\n",
    "\n",
    "변환된 num을 sort()를 사용하여 key 조건에 맞게 정렬한다.\n",
    "\n",
    "lambda x : x * 3은 num 인자 각각의 문자열을 3번 반복한다는 뜻이다.\n",
    "\n",
    "x * 3을 하는 이유?\n",
    "num의 인수값이 1000 이하이므로 3자리수로 맞춘 뒤, 비교하겠다는 뜻.\n",
    "\n",
    "문자열 비교는 ASCII 값으로 치환되어 정렬된다. 따라서 666, 101010, 222의 첫번째 인덱스 값으로 비교한다.\n",
    "6 = 86, 1 = 81, 2 = 82 이므로 6 > 2 > 1순으로 크다.\n",
    "\n",
    "sort()의 기본 정렬 기준은 오름차순이다. reverse = True 전의 sort된 결과값은 10, 2, 6이다.\n",
    "이를 reverse = True를 통해 내림차순 해주면 6,2,10이 된다. 이것을 ‘‘.join(num)을 통해 문자열을 합쳐주면 된다.\n",
    "\n",
    "int로 변환한 뒤, 또 str로 변환해주는 이유?\n",
    "모든 값이 0일 때(즉, ‘000’을 처리하기 위해) int로 변환한 뒤, 다시 str로 변환한다."
   ]
  },
  {
   "cell_type": "code",
   "execution_count": null,
   "metadata": {},
   "outputs": [],
   "source": [
    "3을 곱하는 이유는 2번째 예시를 풀 때 이유를 알게 된다.\n",
    "\n",
    "계산할 때 사전값으로만 정렬을 한다면 [9,5,34,30,3] 이렇게 정렬된다.\n",
    "하지만 3이 30보다 앞에 와야한다.\n",
    "\n",
    "number는 1000이하의 숫자이므로 최대값을 생각해 3을 곱해줬고,\n",
    "\n",
    "3을 곱하게 되면 [999, 555, 343434, 303030, 333] 이렇게 될 것이고, 정렬을 하게 되면 [999, 555, 343434, 333, 303030]이 된다."
   ]
  }
 ],
 "metadata": {
  "kernelspec": {
   "display_name": "Python 3",
   "language": "python",
   "name": "python3"
  },
  "language_info": {
   "codemirror_mode": {
    "name": "ipython",
    "version": 3
   },
   "file_extension": ".py",
   "mimetype": "text/x-python",
   "name": "python",
   "nbconvert_exporter": "python",
   "pygments_lexer": "ipython3",
   "version": "3.8.5"
  }
 },
 "nbformat": 4,
 "nbformat_minor": 4
}
