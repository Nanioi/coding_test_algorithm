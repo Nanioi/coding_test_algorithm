{
 "cells": [
  {
   "cell_type": "code",
   "execution_count": null,
   "metadata": {},
   "outputs": [],
   "source": [
    "def solution(s):\n",
    "    answer = []\n",
    "    s = s[2:-2]\n",
    "    s = s.split(\"},{\")\n",
    "    s.sort(key = len)\n",
    "    for i in s:\n",
    "        ii = i.split(',')\n",
    "        for j in ii:\n",
    "            if int(j) not in answer:\n",
    "                answer.append(int(j))\n",
    "    return answer"
   ]
  },
  {
   "cell_type": "code",
   "execution_count": null,
   "metadata": {},
   "outputs": [],
   "source": [
    "## 정규식 이용\n",
    "\n",
    "## findall메소드는 정규식과 매치되는 모든 문자열을 리스트로 돌려준다.\n",
    "## re.findall(\"\\d+\", j) 👉 숫자에 해당한다면 리스트로 돌려줌\n",
    "\n",
    "import re\n",
    " \n",
    "def solution(s):\n",
    "    answer = []\n",
    "    a = s.split(',{')\n",
    "    a.sort(key = len)\n",
    "    for j in a:\n",
    "        numbers = re.findall(\"\\d+\", j)\n",
    "        for k in numbers:\n",
    "            if int(k) not in answer:\n",
    "                answer.append(int(k))\n",
    "    return answer"
   ]
  },
  {
   "cell_type": "code",
   "execution_count": null,
   "metadata": {},
   "outputs": [],
   "source": [
    "def solution(s):\n",
    "\n",
    "    s = Counter(re.findall('\\d+', s))\n",
    "    return list(map(int, [k for k, v in sorted(s.items(), key=lambda x: x[1], reverse=True)]))\n",
    "\n",
    "import re\n",
    "from collections import Counter"
   ]
  }
 ],
 "metadata": {
  "kernelspec": {
   "display_name": "Python 3",
   "language": "python",
   "name": "python3"
  },
  "language_info": {
   "codemirror_mode": {
    "name": "ipython",
    "version": 3
   },
   "file_extension": ".py",
   "mimetype": "text/x-python",
   "name": "python",
   "nbconvert_exporter": "python",
   "pygments_lexer": "ipython3",
   "version": "3.8.5"
  }
 },
 "nbformat": 4,
 "nbformat_minor": 4
}
