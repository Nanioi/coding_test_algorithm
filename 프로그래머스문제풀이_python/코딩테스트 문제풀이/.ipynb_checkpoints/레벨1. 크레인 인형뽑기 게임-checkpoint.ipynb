{
 "cells": [
  {
   "cell_type": "code",
   "execution_count": null,
   "metadata": {},
   "outputs": [],
   "source": [
    "def solution(board, moves):\n",
    "    answer = 0\n",
    "    lst = [0]\n",
    "    \n",
    "    for j in moves:\n",
    "        for i in range(len(board)):\n",
    "            if board[i][j-1]!=0:\n",
    "                b= board[i][j-1]\n",
    "                board[i][j-1]=0\n",
    "                top=lst[-1]\n",
    "                if top==b:\n",
    "                    answer+=2\n",
    "                    lst.pop()\n",
    "                else:\n",
    "                    lst.append(b)\n",
    "                break\n",
    "        \n",
    "        \n",
    "    return answer"
   ]
  },
  {
   "cell_type": "code",
   "execution_count": null,
   "metadata": {},
   "outputs": [],
   "source": [
    "def solution(board, moves):\n",
    "    stacklist = []\n",
    "    answer = 0\n",
    "\n",
    "    for i in moves:\n",
    "        for j in range(len(board)):\n",
    "            if board[j][i-1] != 0:\n",
    "                stacklist.append(board[j][i-1])\n",
    "                board[j][i-1] = 0\n",
    "\n",
    "                if len(stacklist) > 1:\n",
    "                    if stacklist[-1] == stacklist[-2]:\n",
    "                        stacklist.pop(-1)\n",
    "                        stacklist.pop(-1)\n",
    "                        answer += 2     \n",
    "                break\n",
    "\n",
    "    return answer"
   ]
  },
  {
   "cell_type": "code",
   "execution_count": null,
   "metadata": {},
   "outputs": [],
   "source": [
    "def solution(board, moves):\n",
    "    bucket = []\n",
    "    answer = []\n",
    "    for move in moves:\n",
    "        for i in range(len(board)):\n",
    "            if board[i][move-1] > 0:\n",
    "                bucket.append(board[i][move-1])\n",
    "                board[i][move-1] = 0\n",
    "                if bucket[-1:] == bucket[-2:-1]:\n",
    "                    answer += bucket[-1:]\n",
    "                    bucket = bucket[:-2]\n",
    "                break\n",
    "    return len(answer)*2"
   ]
  }
 ],
 "metadata": {
  "kernelspec": {
   "display_name": "Python 3",
   "language": "python",
   "name": "python3"
  },
  "language_info": {
   "codemirror_mode": {
    "name": "ipython",
    "version": 3
   },
   "file_extension": ".py",
   "mimetype": "text/x-python",
   "name": "python",
   "nbconvert_exporter": "python",
   "pygments_lexer": "ipython3",
   "version": "3.8.5"
  }
 },
 "nbformat": 4,
 "nbformat_minor": 4
}
