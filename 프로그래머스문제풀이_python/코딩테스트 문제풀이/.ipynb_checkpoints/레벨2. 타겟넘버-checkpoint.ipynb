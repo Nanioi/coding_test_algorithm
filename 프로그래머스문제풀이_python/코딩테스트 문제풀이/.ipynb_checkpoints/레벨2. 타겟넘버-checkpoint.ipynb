{
 "cells": [
  {
   "cell_type": "code",
   "execution_count": null,
   "metadata": {},
   "outputs": [],
   "source": [
    "from itertools import product\n",
    "def solution(numbers, target):\n",
    "    l = [(x, -x) for x in numbers]\n",
    "    s = list(map(sum, product(*l)))\n",
    "    return s.count(target)\n",
    "\n",
    "## 완전탐색"
   ]
  },
  {
   "cell_type": "code",
   "execution_count": null,
   "metadata": {},
   "outputs": [],
   "source": [
    "def solution(numbers, target):\n",
    "    if not numbers and target == 0 :\n",
    "        return 1\n",
    "    elif not numbers:\n",
    "        return 0\n",
    "    else:\n",
    "        return solution(numbers[1:], target-numbers[0]) + solution(numbers[1:], target+numbers[0])\n",
    "    \n",
    "## 재귀"
   ]
  },
  {
   "cell_type": "code",
   "execution_count": null,
   "metadata": {},
   "outputs": [],
   "source": [
    "import collections\n",
    "\n",
    "def solution(numbers, target):\n",
    "    answer = 0\n",
    "    queue = collections.deque([(0, 0)])\n",
    "    while queue:\n",
    "        current_sum, num_idx = queue.popleft()\n",
    "\n",
    "        if num_idx == len(numbers):\n",
    "            if current_sum == target:\n",
    "                answer += 1\n",
    "        else:\n",
    "            number = numbers[num_idx]\n",
    "            queue.append((current_sum+number, num_idx + 1))\n",
    "            queue.append((current_sum-number, num_idx + 1))\n",
    "\n",
    "    return answer\n",
    "\n",
    "## bfs"
   ]
  },
  {
   "cell_type": "code",
   "execution_count": null,
   "metadata": {},
   "outputs": [],
   "source": [
    "answer = 0\n",
    "def DFS(idx, numbers, target, value):\n",
    "    global answer\n",
    "    N = len(numbers)\n",
    "    if(idx== N and target == value):\n",
    "        answer += 1\n",
    "        return\n",
    "    if(idx == N):\n",
    "        return\n",
    "\n",
    "    DFS(idx+1,numbers,target,value+numbers[idx])\n",
    "    DFS(idx+1,numbers,target,value-numbers[idx])\n",
    "\n",
    "def solution(numbers, target):\n",
    "    global answer\n",
    "    DFS(0,numbers,target,0)\n",
    "    return answer\n",
    "\n",
    "\n",
    "## dfs"
   ]
  }
 ],
 "metadata": {
  "kernelspec": {
   "display_name": "Python 3",
   "language": "python",
   "name": "python3"
  },
  "language_info": {
   "codemirror_mode": {
    "name": "ipython",
    "version": 3
   },
   "file_extension": ".py",
   "mimetype": "text/x-python",
   "name": "python",
   "nbconvert_exporter": "python",
   "pygments_lexer": "ipython3",
   "version": "3.8.5"
  }
 },
 "nbformat": 4,
 "nbformat_minor": 4
}
