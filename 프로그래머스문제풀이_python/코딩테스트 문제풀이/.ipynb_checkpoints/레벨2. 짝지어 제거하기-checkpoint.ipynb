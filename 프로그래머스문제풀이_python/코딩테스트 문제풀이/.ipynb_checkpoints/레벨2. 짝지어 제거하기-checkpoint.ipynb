{
 "cells": [
  {
   "cell_type": "code",
   "execution_count": null,
   "metadata": {},
   "outputs": [],
   "source": [
    "def solution(s): \n",
    "    stack = []\n",
    "    for i in s:\n",
    "        if len(stack) == 0: stack.append(i)\n",
    "        elif stack[-1] == i: stack.pop()\n",
    "        else: stack.append(i)\n",
    "    if len(stack) == 0: return 1\n",
    "    else: return 0 "
   ]
  },
  {
   "cell_type": "code",
   "execution_count": null,
   "metadata": {},
   "outputs": [],
   "source": [
    "def solution(s):\n",
    "    answer = []\n",
    "    for i in s:\n",
    "        if not(answer):\n",
    "            answer.append(i)\n",
    "        else:\n",
    "            if(answer[-1] == i):\n",
    "                answer.pop()\n",
    "            else:\n",
    "                answer.append(i)    \n",
    "    return not(answer)"
   ]
  }
 ],
 "metadata": {
  "kernelspec": {
   "display_name": "Python 3",
   "language": "python",
   "name": "python3"
  },
  "language_info": {
   "codemirror_mode": {
    "name": "ipython",
    "version": 3
   },
   "file_extension": ".py",
   "mimetype": "text/x-python",
   "name": "python",
   "nbconvert_exporter": "python",
   "pygments_lexer": "ipython3",
   "version": "3.8.5"
  }
 },
 "nbformat": 4,
 "nbformat_minor": 4
}
