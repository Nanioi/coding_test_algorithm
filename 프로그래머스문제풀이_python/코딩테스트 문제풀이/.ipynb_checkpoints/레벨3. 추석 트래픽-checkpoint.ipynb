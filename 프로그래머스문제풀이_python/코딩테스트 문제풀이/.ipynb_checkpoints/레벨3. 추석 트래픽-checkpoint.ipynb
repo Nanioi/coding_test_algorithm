{
 "cells": [
  {
   "cell_type": "code",
   "execution_count": null,
   "metadata": {},
   "outputs": [],
   "source": [
    "def solution(lines):\n",
    "    answer = 0\n",
    "    start_time = []\n",
    "    end_time = []\n",
    "\n",
    "    for t in lines:\n",
    "        time = t.split(\" \")\n",
    "        start_time.append(get_start_time(time[1], time[2]))\n",
    "        end_time.append(get_time(time[1]))\n",
    "    for i in range(len(lines)):\n",
    "        cnt = 0\n",
    "        cur_end_time = end_time[i]\n",
    "        # i번째는 현재 자신의 시작시간이고, i 이하는 그 이전의 시작시간이므로 카운트 할 필요가 없다.\n",
    "        for j in range(i, len(lines)):\n",
    "            if cur_end_time > start_time[j] - 1000:\n",
    "                cnt += 1\n",
    "        answer = max(answer, cnt)\n",
    "    return answer\n",
    "\n",
    "\n",
    "def get_time(time):\n",
    "    hour = int(time[:2]) * 3600\n",
    "    minute = int(time[3:5]) * 60\n",
    "    second = int(time[6:8])\n",
    "    millisecond = int(time[9:])\n",
    "    return (hour + minute + second) * 1000 + millisecond\n",
    "\n",
    "\n",
    "def get_start_time(time, duration_time):\n",
    "    n_time = duration_time[:-1]\n",
    "    int_duration_time = int(float(n_time) * 1000)\n",
    "    return get_time(time) - int_duration_time + 1"
   ]
  }
 ],
 "metadata": {
  "kernelspec": {
   "display_name": "Python 3",
   "language": "python",
   "name": "python3"
  },
  "language_info": {
   "codemirror_mode": {
    "name": "ipython",
    "version": 3
   },
   "file_extension": ".py",
   "mimetype": "text/x-python",
   "name": "python",
   "nbconvert_exporter": "python",
   "pygments_lexer": "ipython3",
   "version": "3.8.5"
  }
 },
 "nbformat": 4,
 "nbformat_minor": 4
}
