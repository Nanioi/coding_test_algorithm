{
 "cells": [
  {
   "cell_type": "code",
   "execution_count": null,
   "metadata": {},
   "outputs": [],
   "source": [
    "import heapq\n",
    "\n",
    "def solution(scoville, k):\n",
    "    heapq.heapify(scoville)\n",
    "    i = 0\n",
    "    while scoville[0] < k:\n",
    "        if len(scoville) > 1:\n",
    "            heapq.heappush(scoville, heapq.heappop(scoville) + (heapq.heappop(scoville) * 2))\n",
    "            i += 1\n",
    "        else:\n",
    "            return -1\n",
    "    return i"
   ]
  }
 ],
 "metadata": {
  "kernelspec": {
   "display_name": "Python 3",
   "language": "python",
   "name": "python3"
  },
  "language_info": {
   "codemirror_mode": {
    "name": "ipython",
    "version": 3
   },
   "file_extension": ".py",
   "mimetype": "text/x-python",
   "name": "python",
   "nbconvert_exporter": "python",
   "pygments_lexer": "ipython3",
   "version": "3.8.5"
  }
 },
 "nbformat": 4,
 "nbformat_minor": 4
}
