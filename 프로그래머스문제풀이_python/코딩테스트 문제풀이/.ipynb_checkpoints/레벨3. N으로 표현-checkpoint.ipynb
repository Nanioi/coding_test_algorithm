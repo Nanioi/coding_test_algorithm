{
 "cells": [
  {
   "cell_type": "code",
   "execution_count": null,
   "metadata": {},
   "outputs": [],
   "source": [
    "## 동적계획법\n",
    "\n",
    "def solution(N, number):\n",
    "    possible_set = [0,[N]] \n",
    "    if N == number:\n",
    "        return 1\n",
    "    for i in range(2, 9):\n",
    "        case_set = [] \n",
    "        basic_num = int(str(N)*i)\n",
    "        case_set.append(basic_num)\n",
    "        for i_half in range(1, i//2+1): \n",
    "            for x in possible_set[i_half]:\n",
    "                for y in possible_set[i-i_half]:\n",
    "                    case_set.append(x+y)\n",
    "                    case_set.append(x-y)\n",
    "                    case_set.append(y-x)\n",
    "                    case_set.append(x*y)\n",
    "                    if y !=0:\n",
    "                        case_set.append(x/y)\n",
    "                    if x !=0:\n",
    "                        case_set.append(y/x)\n",
    "            if number in case_set:\n",
    "                return i\n",
    "            possible_set.append(case_set)\n",
    "    return -1"
   ]
  },
  {
   "cell_type": "code",
   "execution_count": null,
   "metadata": {},
   "outputs": [],
   "source": [
    "주의 ) +, * 연산은 자리가 바뀌어도 같은 값이지만, -, / 연산은 자리가 바뀌게 되면 다른 수를 나타낸다는 점"
   ]
  },
  {
   "cell_type": "code",
   "execution_count": null,
   "metadata": {},
   "outputs": [],
   "source": [
    "< 점화식 >\n",
    "\n",
    "N을 n번 사용해서 만들 수 있는 수 :\n",
    "\n",
    "N을 n번 연달아서 사용할 수 있는 수 U\n",
    "\n",
    "N을 1번 사용했을 때 SET 과 n-1번 사용했을 때 SET을 사칙연산한 수들의 집합 U\n",
    "\n",
    "N을 2번 사용했을 때 SET 과 n-2번 사용했을 때 SET을 사칙연산한 수들의 집합 U\n",
    "\n",
    "... U\n",
    "\n",
    "N을 n-1번 사용했을 때 SET 과 1번 사용했을 때 SET을 사칙연산한 수들의 집합"
   ]
  }
 ],
 "metadata": {
  "kernelspec": {
   "display_name": "Python 3",
   "language": "python",
   "name": "python3"
  },
  "language_info": {
   "codemirror_mode": {
    "name": "ipython",
    "version": 3
   },
   "file_extension": ".py",
   "mimetype": "text/x-python",
   "name": "python",
   "nbconvert_exporter": "python",
   "pygments_lexer": "ipython3",
   "version": "3.8.5"
  }
 },
 "nbformat": 4,
 "nbformat_minor": 4
}
