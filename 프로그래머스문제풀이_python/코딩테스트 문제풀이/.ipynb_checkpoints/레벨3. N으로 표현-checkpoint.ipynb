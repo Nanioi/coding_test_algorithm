{
 "cells": [
  {
   "cell_type": "code",
   "execution_count": null,
   "metadata": {},
   "outputs": [],
   "source": [
    "def solution(N, number):\n",
    "    possible_set = [0,[N]] \n",
    "    if N == number:\n",
    "        return 1\n",
    "    for i in range(2, 9):\n",
    "        case_set = [] \n",
    "        basic_num = int(str(N)*i)\n",
    "        case_set.append(basic_num)\n",
    "        for i_half in range(1, i//2+1): \n",
    "            for x in possible_set[i_half]:\n",
    "                for y in possible_set[i-i_half]:\n",
    "                    case_set.append(x+y)\n",
    "                    case_set.append(x-y)\n",
    "                    case_set.append(y-x)\n",
    "                    case_set.append(x*y)\n",
    "                    if y !=0:\n",
    "                        case_set.append(x/y)\n",
    "                    if x !=0:\n",
    "                        case_set.append(y/x)\n",
    "            if number in case_set:\n",
    "                return i\n",
    "            possible_set.append(case_set)\n",
    "    return -1"
   ]
  }
 ],
 "metadata": {
  "kernelspec": {
   "display_name": "Python 3",
   "language": "python",
   "name": "python3"
  },
  "language_info": {
   "codemirror_mode": {
    "name": "ipython",
    "version": 3
   },
   "file_extension": ".py",
   "mimetype": "text/x-python",
   "name": "python",
   "nbconvert_exporter": "python",
   "pygments_lexer": "ipython3",
   "version": "3.8.5"
  }
 },
 "nbformat": 4,
 "nbformat_minor": 4
}
