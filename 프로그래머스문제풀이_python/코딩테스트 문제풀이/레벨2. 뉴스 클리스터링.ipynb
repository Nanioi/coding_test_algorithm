{
 "cells": [
  {
   "cell_type": "code",
   "execution_count": null,
   "metadata": {},
   "outputs": [],
   "source": [
    "from collections import Counter\n",
    "\n",
    "def solution(str1, str2):\n",
    "    str1_low = str1.lower()\n",
    "    str2_low = str2.lower()\n",
    "    \n",
    "    str1_lst = []\n",
    "    str2_lst = []\n",
    "    \n",
    "    for i in range(len(str1_low)-1):\n",
    "        if str1_low[i].isalpha() and str1_low[i+1].isalpha():\n",
    "            str1_lst.append(str1_low[i] + str1_low[i+1])\n",
    "    for j in range(len(str2_low)-1):\n",
    "        if str2_low[j].isalpha() and str2_low[j+1].isalpha():\n",
    "            str2_lst.append(str2_low[j] + str2_low[j+1])\n",
    "            \n",
    "    Counter1 = Counter(str1_lst)\n",
    "    Counter2 = Counter(str2_lst)\n",
    "    \n",
    "    inter = list((Counter1 & Counter2).elements())\n",
    "    union = list((Counter1 | Counter2).elements())\n",
    "    \n",
    "    if len(union) == 0 and len(inter) == 0:\n",
    "        return 65536\n",
    "    else:\n",
    "        return int(len(inter) / len(union) * 65536)"
   ]
  },
  {
   "cell_type": "code",
   "execution_count": null,
   "metadata": {},
   "outputs": [],
   "source": [
    "from collections import Counter\n",
    "def solution(str1, str2):\n",
    "    # make sets\n",
    "    s1 = [str1[i:i+2].lower() for i in range(len(str1)-1) if str1[i:i+2].isalpha()]\n",
    "    s2 = [str2[i:i+2].lower() for i in range(len(str2)-1) if str2[i:i+2].isalpha()]\n",
    "    if not s1 and not s2:\n",
    "        return 65536\n",
    "    c1 = Counter(s1)\n",
    "    c2 = Counter(s2)\n",
    "    answer = int(float(sum((c1&c2).values()))/float(sum((c1|c2).values())) * 65536)\n",
    "    return answer"
   ]
  },
  {
   "cell_type": "code",
   "execution_count": null,
   "metadata": {},
   "outputs": [],
   "source": [
    "def solution(str1, str2):\n",
    "    set1 = [str1[i:i+2].lower() for i in range(len(str1) - 1) if str1[i:i+2].lower().isalpha()]\n",
    "    set2 = [str2[i:i+2].lower() for i in range(len(str2) - 1) if str2[i:i+2].lower().isalpha()]\n",
    "\n",
    "    uu = sum([min(set1.count(u), set2.count(u)) for u in list(set(set1) & set(set2))])\n",
    "    nn = sum([max(set1.count(n), set2.count(n)) for n in list(set(set1) | set(set2))])\n",
    "\n",
    "    if nn == 0 and uu == 0:\n",
    "        return 65536\n",
    "    return int(float(uu)/float(nn) * 65536)"
   ]
  },
  {
   "cell_type": "code",
   "execution_count": null,
   "metadata": {},
   "outputs": [],
   "source": [
    "import re\n",
    "import math\n",
    "\n",
    "def solution(str1, str2):\n",
    "    str1 = [str1[i:i+2].lower() for i in range(0, len(str1)-1) if not re.findall('[^a-zA-Z]+', str1[i:i+2])]\n",
    "    str2 = [str2[i:i+2].lower() for i in range(0, len(str2)-1) if not re.findall('[^a-zA-Z]+', str2[i:i+2])]\n",
    "\n",
    "    gyo = set(str1) & set(str2)\n",
    "    hap = set(str1) | set(str2)\n",
    "\n",
    "    if len(hap) == 0 :\n",
    "        return 65536\n",
    "\n",
    "    gyo_sum = sum([min(str1.count(gg), str2.count(gg)) for gg in gyo])\n",
    "    hap_sum = sum([max(str1.count(hh), str2.count(hh)) for hh in hap])\n",
    "\n",
    "    return math.floor((gyo_sum/hap_sum)*65536)"
   ]
  },
  {
   "cell_type": "code",
   "execution_count": null,
   "metadata": {},
   "outputs": [],
   "source": [
    "def solution(str1, str2):\n",
    "\n",
    "    list1 = [str1[n:n+2].lower() for n in range(len(str1)-1) if str1[n:n+2].isalpha()]\n",
    "    list2 = [str2[n:n+2].lower() for n in range(len(str2)-1) if str2[n:n+2].isalpha()]\n",
    "\n",
    "    tlist = set(list1) | set(list2)\n",
    "    res1 = [] #합집합\n",
    "    res2 = [] #교집합\n",
    "\n",
    "    if tlist:\n",
    "        for i in tlist:\n",
    "            res1.extend([i]*max(list1.count(i), list2.count(i)))\n",
    "            res2.extend([i]*min(list1.count(i), list2.count(i)))\n",
    "\n",
    "        answer = int(len(res2)/len(res1)*65536)\n",
    "        return answer\n",
    "\n",
    "    else:\n",
    "        return 65536\n"
   ]
  }
 ],
 "metadata": {
  "kernelspec": {
   "display_name": "Python 3",
   "language": "python",
   "name": "python3"
  },
  "language_info": {
   "codemirror_mode": {
    "name": "ipython",
    "version": 3
   },
   "file_extension": ".py",
   "mimetype": "text/x-python",
   "name": "python",
   "nbconvert_exporter": "python",
   "pygments_lexer": "ipython3",
   "version": "3.8.5"
  }
 },
 "nbformat": 4,
 "nbformat_minor": 4
}
