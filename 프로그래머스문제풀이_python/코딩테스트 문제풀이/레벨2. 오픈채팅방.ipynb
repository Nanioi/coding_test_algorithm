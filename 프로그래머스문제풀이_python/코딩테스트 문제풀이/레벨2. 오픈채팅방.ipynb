{
 "cells": [
  {
   "cell_type": "code",
   "execution_count": null,
   "metadata": {},
   "outputs": [],
   "source": [
    "def solution(record):\n",
    "    answer = []\n",
    "    result=[]\n",
    "    uid = {}\n",
    "    for r in record:\n",
    "        l = r.split()\n",
    "        if l[0] == 'Enter':\n",
    "            answer.append(('E',l[1]))\n",
    "            uid[l[1]] = l[2]\n",
    "        elif l[0] == 'Leave':\n",
    "            answer.append(('L',l[1]))\n",
    "        else:\n",
    "            uid[l[1]]=l[2]\n",
    "    for i in answer:\n",
    "        r=''\n",
    "        if i[0]=='E':\n",
    "            r+=uid[i[1]]+\"님이 들어왔습니다.\"\n",
    "        else:\n",
    "            r+=uid[i[1]]+\"님이 나갔습니다.\"\n",
    "        result.append(r)\n",
    "    return result"
   ]
  }
 ],
 "metadata": {
  "kernelspec": {
   "display_name": "Python 3",
   "language": "python",
   "name": "python3"
  },
  "language_info": {
   "codemirror_mode": {
    "name": "ipython",
    "version": 3
   },
   "file_extension": ".py",
   "mimetype": "text/x-python",
   "name": "python",
   "nbconvert_exporter": "python",
   "pygments_lexer": "ipython3",
   "version": "3.8.5"
  }
 },
 "nbformat": 4,
 "nbformat_minor": 4
}
