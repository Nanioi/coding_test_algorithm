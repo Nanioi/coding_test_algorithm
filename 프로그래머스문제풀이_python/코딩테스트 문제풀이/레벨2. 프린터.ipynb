{
 "cells": [
  {
   "cell_type": "code",
   "execution_count": null,
   "metadata": {},
   "outputs": [],
   "source": [
    "from collections import deque\n",
    "\n",
    "def solution(priorities, location):\n",
    "  answer = 0\n",
    "  d = deque([(v,i) for i,v in enumerate(priorities)])\n",
    "\n",
    "  while len(d):\n",
    "      item = d.popleft()\n",
    "      if d and max(d)[0] > item[0]:\n",
    "          d.append(item)\n",
    "      else:\n",
    "          answer += 1\n",
    "          if item[1] == location:\n",
    "              break\n",
    "  return answer"
   ]
  }
 ],
 "metadata": {
  "kernelspec": {
   "display_name": "Python 3",
   "language": "python",
   "name": "python3"
  },
  "language_info": {
   "codemirror_mode": {
    "name": "ipython",
    "version": 3
   },
   "file_extension": ".py",
   "mimetype": "text/x-python",
   "name": "python",
   "nbconvert_exporter": "python",
   "pygments_lexer": "ipython3",
   "version": "3.8.5"
  }
 },
 "nbformat": 4,
 "nbformat_minor": 4
}
