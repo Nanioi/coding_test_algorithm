{
 "cells": [
  {
   "cell_type": "code",
   "execution_count": null,
   "metadata": {},
   "outputs": [],
   "source": [
    "def solution(N, stages):\n",
    "    answer=[]\n",
    "    user = len(stages)\n",
    "    ls = {i : 0 for i in range(N)}\n",
    "    cs = min(stages)\n",
    "    \n",
    "    for i in range(cs,N+1):\n",
    "        loser= stages.count(i)\n",
    "        ls[i-1] = loser/user\n",
    "        user-=loser\n",
    "    ls = sorted(ls.items(), key=lambda x:x[1],reverse = True)\n",
    "    \n",
    "    for i in ls:\n",
    "        answer.append(i[0]+1)\n",
    "    \n",
    "    return answer\n",
    "\n",
    "# 내코드\n",
    "# 런타임 에러"
   ]
  },
  {
   "cell_type": "code",
   "execution_count": null,
   "metadata": {},
   "outputs": [],
   "source": [
    "def solution(N, stages):\n",
    "    answer = {}         # 딕셔너리\n",
    "    user = len(stages)  # 스테이지에 도달한 플레이어의 수\n",
    "\n",
    "    for stage in range(1, N+1):\n",
    "        if user != 0:\n",
    "            count = stages.count(stage)\n",
    "            answer[stage] = count/temp  # 각 스테이지당 실패율을 저장\n",
    "            temp -= count               # 스테이지가 올라갈 수록 남아있는 사람의 수는 줄어듦\n",
    "        # 다 깬 사람의 경우\n",
    "        else:\n",
    "            answer[stage] = 0\n",
    "    \n",
    "    return sorted(answer, key=lambda x:answer[x], reverse=True)\n",
    "\n",
    "##람다식 공부 더하기 "
   ]
  }
 ],
 "metadata": {
  "kernelspec": {
   "display_name": "Python 3",
   "language": "python",
   "name": "python3"
  },
  "language_info": {
   "codemirror_mode": {
    "name": "ipython",
    "version": 3
   },
   "file_extension": ".py",
   "mimetype": "text/x-python",
   "name": "python",
   "nbconvert_exporter": "python",
   "pygments_lexer": "ipython3",
   "version": "3.8.5"
  }
 },
 "nbformat": 4,
 "nbformat_minor": 4
}
