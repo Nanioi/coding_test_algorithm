{
 "cells": [
  {
   "cell_type": "code",
   "execution_count": null,
   "metadata": {},
   "outputs": [],
   "source": [
    "def solution(s):\n",
    "    answer = 1001\n",
    "\n",
    "    for n in range(1,len(s)//2+2):\n",
    "        tmp = s[:n]\n",
    "        cnt=1\n",
    "        ls=''\n",
    "        for i in range(n,len(s),n):\n",
    "            if tmp == s[i:i+n]:\n",
    "                cnt+=1\n",
    "            else:\n",
    "                if cnt!=1:\n",
    "                    ls+=str(cnt)\n",
    "                    cnt=1\n",
    "                ls+=tmp\n",
    "                tmp=s[i:i+n]\n",
    "        if cnt!=1:\n",
    "            ls+=str(cnt)\n",
    "        ls += tmp\n",
    "        answer = min(answer,len(ls))\n",
    "    return answer"
   ]
  }
 ],
 "metadata": {
  "kernelspec": {
   "display_name": "Python 3",
   "language": "python",
   "name": "python3"
  },
  "language_info": {
   "codemirror_mode": {
    "name": "ipython",
    "version": 3
   },
   "file_extension": ".py",
   "mimetype": "text/x-python",
   "name": "python",
   "nbconvert_exporter": "python",
   "pygments_lexer": "ipython3",
   "version": "3.8.5"
  }
 },
 "nbformat": 4,
 "nbformat_minor": 4
}
