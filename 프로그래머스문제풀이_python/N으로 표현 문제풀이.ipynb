{
 "cells": [
  {
   "cell_type": "code",
   "execution_count": null,
   "metadata": {},
   "outputs": [],
   "source": [
    "# 1. 주어진 숫자 N으로 각 횟수당 만들수 있는 숫자 조합을 만든다.\n",
    "# 2. 만들어진 숫자 조합에 number로 주어진 숫자가 있는지 확인한다.\n",
    "# 3. 만약 있다면 그 시점에서의 횟수를 답으로 리턴한다.\n",
    "# 4. 없다면 횟수를 하나 늘리고 가능한 숫자 조합을 만들고 1~3을 반복한다.\n",
    "\n",
    "# N이 2인 숫자 조합을 만들기 위해서는 N이 1일때 경우의 수와 N이 1일때 경우의 수를 각각 사칙연산했다.\n",
    "# N이 3인 숫자 조합을 만들기 위해서는 N이 1일때 경우의 수와 N이 2일때 경우의 수를 각각 사칙연산했다\n",
    "# 즉, 특정 숫자만큼 5를 사용한 조합을 만들고 싶다면, 해당 숫자를 만들수 있는 덧셈 조합의 경우의 수 끼리 사칙연산을 해 주면 되는 것이다.\n",
    "# 복잡하긴 하지만, N의 최대 수가 8이기 때문에 그리 많은 연산을 하지는 않을 것으로 보고 문제를 푼다.\n",
    "\n",
    "# 개인적으로 DP문제임을 몰랐으면 풀기 쉽지 않았을 것 같다. 문제를 보고 어떤 문제 유형인지를 유추해야하는데 \n",
    "# 프로그래머스의 DP 문제 중 하나로 분류 되어 있어서 \n",
    "# 개인적으로 DP 문제라는 것은 이전에 실행의 결과 값이 다음 실행에 영향을 주는 것으로 인식해서 이전 값들의 조합을 살펴보게 된다.\n",
    "# 문제 지문을 보고 연습장에 한번 직접 적어서 해보면 조금 감을 빨리 잡는 듯 하다.\n",
    "# 그리고 약간 꼼수? 이지만 제한 사항에 8번이라는 비교적 작은 숫자가 걸려 있으면 시간 복잡도가 엥간하면 다 돌기 때문에 \n",
    "# 거꾸로 생각하면 시간 복잡도가 복잡한 문제로 볼 수 있다"
   ]
  },
  {
   "cell_type": "code",
   "execution_count": null,
   "metadata": {},
   "outputs": [],
   "source": [
    "def solution(N, number):\n",
    "    possible_set = [0,[N]] # 조합으로 나올수 있는 가능한 숫자들, 여기에 계속 append하며 이후에 사용함\n",
    "    if N == number: #주어진 숫자와 사용해야 하는 숫자가 같은 경우는 1개면 족하므로 1으로 놓는다. \n",
    "        return 1\n",
    "    for i in range(2, 9): # 2부터 8까지로 횟수를 늘려 간다. \n",
    "        case_set = [] # 임시로 사용할 케이스 셋, 각 I 별로 셋을 만들어 possible set에 붙인다.\n",
    "        basic_num = int(str(N)*i) # 같은 숫자 반복되는 거 하나를 추가한다.\n",
    "        case_set.append(basic_num)\n",
    "        for i_half in range(1, i//2+1): # 사용되는 숫자의 횟수를 구해야 하는데, 절반 이상으로 넘어가면 같은 결과만 나올 뿐이므로 절반까지만을 사용한다. \n",
    "            for x in possible_set[i_half]:\n",
    "                for y in possible_set[i-i_half]: # x와 y를 더하면 i 가 되도록 만든 수다. \n",
    "                    case_set.append(x+y)# 각 사칙연산 결과를 더한다.\n",
    "                    case_set.append(x-y)\n",
    "                    case_set.append(y-x)\n",
    "                    case_set.append(x*y)\n",
    "                    if y !=0:\n",
    "                        case_set.append(x/y)\n",
    "                    if x !=0:\n",
    "                        case_set.append(y/x)\n",
    "            if number in case_set:\n",
    "                return i\n",
    "            possible_set.append(case_set) # 최종 결과물 set에 사칙 연산 결과를 더한다.\n",
    "    return -1 #N 이 8까지 답이 없으면 -1을 출력한다."
   ]
  }
 ],
 "metadata": {
  "kernelspec": {
   "display_name": "Python 3",
   "language": "python",
   "name": "python3"
  },
  "language_info": {
   "codemirror_mode": {
    "name": "ipython",
    "version": 3
   },
   "file_extension": ".py",
   "mimetype": "text/x-python",
   "name": "python",
   "nbconvert_exporter": "python",
   "pygments_lexer": "ipython3",
   "version": "3.8.5"
  }
 },
 "nbformat": 4,
 "nbformat_minor": 4
}
