{
 "cells": [
  {
   "cell_type": "code",
   "execution_count": null,
   "metadata": {},
   "outputs": [],
   "source": [
    "def solution(bridge_length, weight, truck_weights):\n",
    "    answer = 0\n",
    "    trucks_on_bridge = [0] * bridge_length\n",
    "    while len(trucks_on_bridge):\n",
    "        answer += 1\n",
    "        trucks_on_bridge.pop(0)\n",
    "        if truck_weights:\n",
    "            if sum(trucks_on_bridge) + truck_weights[0] <= weight:\n",
    "                trucks_on_bridge.append(truck_weights.pop(0))\n",
    "            else:\n",
    "                trucks_on_bridge.append(0)\n",
    "    return answer\n",
    "\n",
    "# 다리라는 스택을 만들고 다음에 들어가야할 차가 무게를 초과하면 \n",
    "# 현재 올라가있는 차가 지나가고나서 올라갈 수 있으니 현재 올라가있는 \n",
    "# 차를 보내고(스택에서 제거하고), 다리의 길이만큼 시간이 초과됐으니 \n",
    "# answer에 해당 초만큼을 더하고 새로운 차량을 올리는 식으로. \n",
    "# 하지만 이미 올라가있는 차량에 대한 처리가 안되므로 또 기각되었다.\n",
    "# 위 과정까지 진행되니 시간은 무조건 1초씩 더해야 한다는 점까지 알아냈다. \n",
    "# 그렇게 위처럼 빈 도로를 0으로 표현하는 형태의 코드가 완성"
   ]
  },
  {
   "cell_type": "code",
   "execution_count": null,
   "metadata": {},
   "outputs": [],
   "source": [
    "from collections import deque\n",
    "\n",
    "def solution(bridge_length, weight, truck_weights):\n",
    "    bridge = deque(0 for _ in range(bridge_length))\n",
    "    total_weight = 0\n",
    "    step = 0\n",
    "    truck_weights.reverse()\n",
    "\n",
    "    while truck_weights:\n",
    "        total_weight -= bridge.popleft()\n",
    "        if total_weight + truck_weights[-1] > weight:\n",
    "            bridge.append(0)\n",
    "        else:\n",
    "            truck = truck_weights.pop()\n",
    "            bridge.append(truck)\n",
    "            total_weight += truck\n",
    "        step += 1\n",
    "\n",
    "    step += bridge_length\n",
    "\n",
    "    return step\n"
   ]
  }
 ],
 "metadata": {
  "kernelspec": {
   "display_name": "Python 3",
   "language": "python",
   "name": "python3"
  },
  "language_info": {
   "codemirror_mode": {
    "name": "ipython",
    "version": 3
   },
   "file_extension": ".py",
   "mimetype": "text/x-python",
   "name": "python",
   "nbconvert_exporter": "python",
   "pygments_lexer": "ipython3",
   "version": "3.8.5"
  }
 },
 "nbformat": 4,
 "nbformat_minor": 4
}
