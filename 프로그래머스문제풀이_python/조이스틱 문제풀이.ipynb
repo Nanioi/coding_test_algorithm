{
 "cells": [
  {
   "cell_type": "code",
   "execution_count": null,
   "metadata": {},
   "outputs": [],
   "source": [
    "def solution(name):\n",
    "    make_name = [min(ord(i) - ord(\"A\"), ord(\"Z\") - ord(i)+1) for i in name]\n",
    "    idx, answer = 0, 0\n",
    "    while True:\n",
    "        answer += make_name[idx]\n",
    "        make_name[idx] = 0\n",
    "        if sum(make_name) ==0:\n",
    "            break\n",
    "        left, right = 1, 1\n",
    "        while make_name[idx - left] ==0:\n",
    "            left +=1\n",
    "        while make_name[idx + right] ==0:\n",
    "            right +=1\n",
    "        answer += left if left < right else right\n",
    "        idx += -left if left < right else right\n",
    "    return answer"
   ]
  },
  {
   "cell_type": "code",
   "execution_count": null,
   "metadata": {},
   "outputs": [],
   "source": [
    "def solution(name):\n",
    "    answer = 0\n",
    "    min_move = len(name) - 1\n",
    "    next = 0\n",
    "    \n",
    "    for i, char in enumerate(name):\n",
    "        answer += min(ord(char) - ord('A'), ord('Z') - ord(char) + 1)\n",
    "        \n",
    "        next = i + 1\n",
    "        while next < len(name) and name[next] == 'A':\n",
    "            next += 1\n",
    "        \n",
    "        min_move = min(min_move, i + i + len(name) - next)\n",
    "    answer += min_move\n",
    "    return answer"
   ]
  }
 ],
 "metadata": {
  "kernelspec": {
   "display_name": "Python 3",
   "language": "python",
   "name": "python3"
  },
  "language_info": {
   "codemirror_mode": {
    "name": "ipython",
    "version": 3
   },
   "file_extension": ".py",
   "mimetype": "text/x-python",
   "name": "python",
   "nbconvert_exporter": "python",
   "pygments_lexer": "ipython3",
   "version": "3.8.5"
  }
 },
 "nbformat": 4,
 "nbformat_minor": 4
}
