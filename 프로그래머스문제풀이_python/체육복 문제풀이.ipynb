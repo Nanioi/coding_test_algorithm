{
 "cells": [
  {
   "cell_type": "code",
   "execution_count": null,
   "metadata": {},
   "outputs": [],
   "source": [
    "def solution(n, lost, reserve):\n",
    "    reallost = set(lost) - set(reserve)\n",
    "    realreser = set(reserve) - set(lost)\n",
    "    for data in realreser:\n",
    "        if data-1 in reallost:\n",
    "            reallost.remove(data-1)\n",
    "        elif data+1 in reallost:\n",
    "            reallost.remove(data+1)\n",
    "    return n - len(reallost)"
   ]
  }
 ],
 "metadata": {
  "kernelspec": {
   "display_name": "Python 3",
   "language": "python",
   "name": "python3"
  },
  "language_info": {
   "codemirror_mode": {
    "name": "ipython",
    "version": 3
   },
   "file_extension": ".py",
   "mimetype": "text/x-python",
   "name": "python",
   "nbconvert_exporter": "python",
   "pygments_lexer": "ipython3",
   "version": "3.8.5"
  }
 },
 "nbformat": 4,
 "nbformat_minor": 4
}
