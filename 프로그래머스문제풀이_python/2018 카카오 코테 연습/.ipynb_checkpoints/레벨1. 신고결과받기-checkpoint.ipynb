{
 "cells": [
  {
   "cell_type": "code",
   "execution_count": null,
   "metadata": {},
   "outputs": [],
   "source": [
    "from collections import defaultdict\n",
    "\n",
    "def solution(id_list, report, k):\n",
    "    answer = []\n",
    "    list_dict = defaultdict(list)\n",
    "    int_dict = defaultdict(int)\n",
    "    \n",
    "    for i in report:\n",
    "        a,b=i.split()\n",
    "        if b not in list_dict[a]:\n",
    "            list_dict[a].append(b)\n",
    "            int_dict[b]+=1\n",
    "    for i in id_list:\n",
    "        cnt=0\n",
    "        for j in list_dict[i]:\n",
    "            if int_dict[j]>=k:\n",
    "                cnt+=1\n",
    "        answer.append(cnt)\n",
    "        \n",
    "    return answer"
   ]
  }
 ],
 "metadata": {
  "kernelspec": {
   "display_name": "Python 3",
   "language": "python",
   "name": "python3"
  },
  "language_info": {
   "codemirror_mode": {
    "name": "ipython",
    "version": 3
   },
   "file_extension": ".py",
   "mimetype": "text/x-python",
   "name": "python",
   "nbconvert_exporter": "python",
   "pygments_lexer": "ipython3",
   "version": "3.8.5"
  }
 },
 "nbformat": 4,
 "nbformat_minor": 4
}
