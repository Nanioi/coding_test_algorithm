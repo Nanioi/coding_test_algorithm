{
 "cells": [
  {
   "cell_type": "code",
   "execution_count": null,
   "metadata": {},
   "outputs": [],
   "source": [
    "def solution(n, arr1, arr2):\n",
    "    answer = []\n",
    "    \n",
    "    for i in range(n):\n",
    "        tmp = bin(arr1[i] | arr2[i])\n",
    "        # tmp결과 ex) '0b1101'\n",
    "        tmp = tmp[2:].zfill(n)\n",
    "        # tmp결과 ex) '01101'\n",
    "        tmp = tmp.replace('1','#').replace('0',' ')\n",
    "        # tmp결과 ex) ' ## #'\n",
    "        answer.append(tmp)\n",
    "    \n",
    "    return answer"
   ]
  }
 ],
 "metadata": {
  "kernelspec": {
   "display_name": "Python 3",
   "language": "python",
   "name": "python3"
  },
  "language_info": {
   "codemirror_mode": {
    "name": "ipython",
    "version": 3
   },
   "file_extension": ".py",
   "mimetype": "text/x-python",
   "name": "python",
   "nbconvert_exporter": "python",
   "pygments_lexer": "ipython3",
   "version": "3.8.5"
  }
 },
 "nbformat": 4,
 "nbformat_minor": 4
}
