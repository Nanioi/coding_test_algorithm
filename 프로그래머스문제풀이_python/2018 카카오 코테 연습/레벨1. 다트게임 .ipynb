{
 "cells": [
  {
   "cell_type": "code",
   "execution_count": null,
   "metadata": {},
   "outputs": [],
   "source": [
    "def solution(dartResult):\n",
    "    answer = []\n",
    "    dartResult = dartResult.replace('10','k')\n",
    "    point = ['10' if i == 'k' else i for i in dartResult]\n",
    "    print(point)\n",
    "\n",
    "    i = -1\n",
    "    sdt = ['S', 'D', 'T']\n",
    "    for j in point:\n",
    "        if j in sdt :\n",
    "            answer[i] = answer[i] ** (sdt.index(j)+1)\n",
    "        elif j == '*':\n",
    "            answer[i] = answer[i] * 2\n",
    "            if i != 0 :\n",
    "                answer[i - 1] = answer[i - 1] * 2\n",
    "        elif j == '#':\n",
    "            answer[i] = answer[i] * (-1)\n",
    "        else:\n",
    "            answer.append(int(j))\n",
    "            i += 1\n",
    "    return sum(answer)"
   ]
  }
 ],
 "metadata": {
  "kernelspec": {
   "display_name": "Python 3",
   "language": "python",
   "name": "python3"
  },
  "language_info": {
   "codemirror_mode": {
    "name": "ipython",
    "version": 3
   },
   "file_extension": ".py",
   "mimetype": "text/x-python",
   "name": "python",
   "nbconvert_exporter": "python",
   "pygments_lexer": "ipython3",
   "version": "3.8.5"
  }
 },
 "nbformat": 4,
 "nbformat_minor": 4
}
