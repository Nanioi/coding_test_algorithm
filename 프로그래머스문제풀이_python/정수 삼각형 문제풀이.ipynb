{
 "cells": [
  {
   "cell_type": "code",
   "execution_count": null,
   "metadata": {},
   "outputs": [],
   "source": [
    "## 동적계획법\n",
    "\n",
    "def solution(triangle):\n",
    "    # 첫째 줄은 index가 0이므로, 둘째 줄부터 계산한다.\n",
    "    for rows in range(1, len(triangle)):\n",
    "        # 각 줄의 index 값별로 비교한다.\n",
    "        for idx in range(rows + 1):\n",
    "            # 가장 왼쪽 값인 경우\n",
    "            if idx == 0:\n",
    "                triangle[rows][idx] += triangle[rows-1][idx]\n",
    "            # 가장 오른쪽 값인 경우\n",
    "            elif idx == rows:\n",
    "                triangle[rows][idx] += triangle[rows-1][-1]\n",
    "            else:\n",
    "                triangle[rows][idx] += max(triangle[rows-1][idx-1], triangle[rows-1][idx])\n",
    "    # 가장 마지막 줄의 최댓값을 구하면 된다.\n",
    "    return max(triangle[-1])"
   ]
  },
  {
   "cell_type": "code",
   "execution_count": null,
   "metadata": {},
   "outputs": [],
   "source": [
    "solution = lambda t, l = []: max(l) if not t else solution(t[1:], [max(x,y)+z for x,y,z in zip([0]+l, l+[0], t[0])])"
   ]
  }
 ],
 "metadata": {
  "kernelspec": {
   "display_name": "Python 3",
   "language": "python",
   "name": "python3"
  },
  "language_info": {
   "codemirror_mode": {
    "name": "ipython",
    "version": 3
   },
   "file_extension": ".py",
   "mimetype": "text/x-python",
   "name": "python",
   "nbconvert_exporter": "python",
   "pygments_lexer": "ipython3",
   "version": "3.8.5"
  }
 },
 "nbformat": 4,
 "nbformat_minor": 4
}
