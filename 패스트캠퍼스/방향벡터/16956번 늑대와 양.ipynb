{
 "cells": [
  {
   "cell_type": "code",
   "execution_count": null,
   "metadata": {},
   "outputs": [],
   "source": [
    "import sys\n",
    "\n",
    "R,C = map(int,input().split())\n",
    "\n",
    "lst = []\n",
    "flag = 0\n",
    "dx,dy = [1,-1,0,0],[0,0,1,-1]\n",
    "for i in range(R):\n",
    "    l=list(input())\n",
    "    lst.append(l)\n",
    "    \n",
    "for i in range(R):\n",
    "    for j in range(C):\n",
    "        if lst[i][j]=='W':\n",
    "            for k in range(4):\n",
    "                ii,jj = i+dx[k],j+dy[k]\n",
    "                if ii<0 or ii>=R or jj<0 or jj>=C:\n",
    "                    continue\n",
    "                if lst[ii][jj]=='S':\n",
    "                    print(0)\n",
    "                    sys.exit()\n",
    "print(1)\n",
    "for i in range(R):\n",
    "    for j in range(C):\n",
    "        if lst[i][j] not in 'SW':\n",
    "            lst[i][j]='D'\n",
    "for i in lst:\n",
    "    print(''.join(i))"
   ]
  },
  {
   "cell_type": "code",
   "execution_count": null,
   "metadata": {},
   "outputs": [],
   "source": [
    "R, C =map(int,input().split())\n",
    "M = [list(input()) for i in range(R)]\n",
    "\n",
    "dx,dy = [0,1,0,-1],[1,0,-1,0]\n",
    "\n",
    "ck=False\n",
    "\n",
    "for i in range(R):\n",
    "    for j in range(C):\n",
    "        if M[i][j]=='W':\n",
    "            for w in range(4):\n",
    "                ii,jj = i+dx[w],j+dy[w]\n",
    "                if ii<0 or ii==R or jj<0 or jj==C: #범위넘어가는거 예외처리\n",
    "                    continue\n",
    "                if M[ii][jj]=='S':\n",
    "                    ck=True\n",
    "if ck:\n",
    "    print(0)\n",
    "else:\n",
    "    print(1)\n",
    "    for i in range(R):\n",
    "        for j in range(C):\n",
    "            # 빈칸인 경우\n",
    "            if M[i][j] not in 'SW':\n",
    "                M[i][j]='D'\n",
    "    for i in M:\n",
    "        print(''.join(i))\n"
   ]
  }
 ],
 "metadata": {
  "kernelspec": {
   "display_name": "Python 3",
   "language": "python",
   "name": "python3"
  },
  "language_info": {
   "codemirror_mode": {
    "name": "ipython",
    "version": 3
   },
   "file_extension": ".py",
   "mimetype": "text/x-python",
   "name": "python",
   "nbconvert_exporter": "python",
   "pygments_lexer": "ipython3",
   "version": "3.8.5"
  }
 },
 "nbformat": 4,
 "nbformat_minor": 4
}
