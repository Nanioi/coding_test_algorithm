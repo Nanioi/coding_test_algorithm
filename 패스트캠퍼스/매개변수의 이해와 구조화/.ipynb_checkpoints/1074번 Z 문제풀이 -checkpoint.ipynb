{
 "cells": [
  {
   "cell_type": "code",
   "execution_count": null,
   "metadata": {},
   "outputs": [],
   "source": [
    "N,r,c = map(int,input().split())\n",
    "\n",
    "# Z : 0,0 기준으로 x,y의 숫자 \n",
    "# (0,0),(0,1),(1,0),(1,1) = 0,1,2,3 = i*2+j\n",
    "# (2*i+j)*사이즈 해당숫자\n",
    "# sz = 사각형 한변의 길이\n",
    "\n",
    "def Z(sz,x,y):\n",
    "    if sz ==1:\n",
    "        return 0\n",
    "    sz //=2\n",
    "    for i in range(2):\n",
    "        for j in range(2):\n",
    "            if x <sz*(i+1) and y <sz*(j+1):\n",
    "                return (i*2+j)*sz*sz + Z(sz,x-sz*i,y-sz*j)\n",
    "    \n",
    "print(Z(2**N,r,c))\n",
    "    "
   ]
  },
  {
   "cell_type": "code",
   "execution_count": null,
   "metadata": {},
   "outputs": [],
   "source": [
    "def solve(n,x,y):\n",
    "    global result\n",
    "    if n==2:\n",
    "        if x==X and y==Y:\n",
    "            print(result)\n",
    "            return\n",
    "        result+=1\n",
    "        if x==X and y+1==Y:\n",
    "            print(result)\n",
    "            return\n",
    "        result+=1\n",
    "        if x+1==X and y==Y:\n",
    "            print(result)\n",
    "            return\n",
    "        result+=1\n",
    "        if x+1==X and y+1==Y:\n",
    "            print(result)\n",
    "            return\n",
    "        result+=1\n",
    "        return\n",
    "    solve(n/2,x,y)\n",
    "    solve(n/2,x,y+n/2)\n",
    "    solve(n/2,x+n/2,y)\n",
    "    solve(n/2,x+n/2,y+n/2)\n",
    "    \n",
    "result=0\n",
    "N,X,Y=map(int,input().split(' '))\n",
    "solve(2**N,0,0)"
   ]
  },
  {
   "cell_type": "code",
   "execution_count": null,
   "metadata": {},
   "outputs": [],
   "source": [
    "N, r, c = map(int, input().split())\n",
    "\n",
    "ans = 0\n",
    "\n",
    "while N != 0:\n",
    "\n",
    "\tN -= 1\n",
    "\n",
    "\t# 1사분면\n",
    "\tif r < 2 ** N and c < 2 ** N:\n",
    "\t\tans += ( 2 ** N ) * ( 2 ** N ) * 0\n",
    "\n",
    "\t# 2사분면\n",
    "\telif r < 2 ** N and c >= 2 ** N: \n",
    "\t\tans += ( 2 ** N ) * ( 2 ** N ) * 1\n",
    "\t\tc -= ( 2 ** N )\n",
    "        \n",
    "\t# 3사분면    \n",
    "\telif r >= 2 ** N and c < 2 ** N: \n",
    "\t\tans += ( 2 ** N ) * ( 2 ** N ) * 2\n",
    "\t\tr -= ( 2 ** N )\n",
    "        \n",
    "\t# 4사분면    \n",
    "\telse:\n",
    "\t\tans += ( 2 ** N ) * ( 2 ** N ) * 3\n",
    "\t\tr -= ( 2 ** N )\n",
    "\t\tc -= ( 2 ** N )\n",
    "    \n",
    "print(ans)"
   ]
  },
  {
   "cell_type": "code",
   "execution_count": null,
   "metadata": {},
   "outputs": [],
   "source": [
    "N, r, c = map(int, input().split())\n",
    "\n",
    "def sol(N, r, c):\n",
    "\n",
    "\tif N == 0:\n",
    "\t\treturn 0\n",
    "        \n",
    "\treturn 2*(r%2)+(c%2) + 4*sol(N-1, int(r/2), int(c/2))\n",
    "\n",
    "print(sol(N, r, c))\n"
   ]
  }
 ],
 "metadata": {
  "kernelspec": {
   "display_name": "Python 3",
   "language": "python",
   "name": "python3"
  },
  "language_info": {
   "codemirror_mode": {
    "name": "ipython",
    "version": 3
   },
   "file_extension": ".py",
   "mimetype": "text/x-python",
   "name": "python",
   "nbconvert_exporter": "python",
   "pygments_lexer": "ipython3",
   "version": "3.8.5"
  }
 },
 "nbformat": 4,
 "nbformat_minor": 4
}
