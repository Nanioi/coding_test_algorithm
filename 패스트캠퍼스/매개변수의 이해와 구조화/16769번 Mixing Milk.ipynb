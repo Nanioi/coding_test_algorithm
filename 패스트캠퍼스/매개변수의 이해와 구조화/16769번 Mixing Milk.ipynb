{
 "cells": [
  {
   "cell_type": "code",
   "execution_count": 2,
   "metadata": {},
   "outputs": [
    {
     "name": "stdout",
     "output_type": "stream",
     "text": [
      "10 3\n",
      "11 4\n",
      "12 5\n",
      "0\n",
      "10\n",
      "2\n"
     ]
    }
   ],
   "source": [
    "# C : 용량 capacity, M : 현재있는우유, milk\n",
    "\n",
    "C, M = [],[]\n",
    "\n",
    "for i in range(3):\n",
    "    c,m = map(int,input().split())\n",
    "    C.append(c)\n",
    "    M.append(m)\n",
    "    \n",
    "for i in range(100):\n",
    "    a = min(M[(i)%3],C[(i+1)%3] - M[(i+1)%3])\n",
    "    \n",
    "    M[(i)%3]-=a\n",
    "    M[(i+1)%3]+=a\n",
    "    \n",
    "for i in range(3):\n",
    "    print(M[i])\n",
    "    "
   ]
  },
  {
   "cell_type": "code",
   "execution_count": null,
   "metadata": {},
   "outputs": [],
   "source": [
    "C, M = list(),list()\n",
    "  \n",
    "for i in range(3):\n",
    "    a,b=map(int,input().split())\n",
    "    C.append(a)\n",
    "    M.append(b)\n",
    "\n",
    "\n",
    "for i in range(100):\n",
    "    idx = i%3\n",
    "    nxt = (idx+1)%3\n",
    "\n",
    "    M[idx], M[nxt] = max(M[idx]-(C[nxt]-M[nxt])\n",
    "    ,0),min(C[nxt],M[nxt]+M[idx])\n",
    "\n",
    "\n",
    "for i in M:\n",
    "    print(i)"
   ]
  },
  {
   "cell_type": "code",
   "execution_count": null,
   "metadata": {},
   "outputs": [],
   "source": [
    "C, M = [0,0,0],[0,0,0]\n",
    "  \n",
    "for i in range(3):\n",
    "    C[i],M[i]= map(int,input().split())\n",
    "\n",
    "\n",
    "for i in range(100):\n",
    "    idx, nxt = i%3 , (i+1)%3\n",
    "\n",
    "    M[idx], M[nxt] = max(M[idx]-(C[nxt]-M[nxt])\n",
    "    ,0),min(C[nxt],M[nxt]+M[idx])\n",
    "\n",
    "\n",
    "for i in M:\n",
    "    print(i)"
   ]
  }
 ],
 "metadata": {
  "kernelspec": {
   "display_name": "Python 3",
   "language": "python",
   "name": "python3"
  },
  "language_info": {
   "codemirror_mode": {
    "name": "ipython",
    "version": 3
   },
   "file_extension": ".py",
   "mimetype": "text/x-python",
   "name": "python",
   "nbconvert_exporter": "python",
   "pygments_lexer": "ipython3",
   "version": "3.8.5"
  }
 },
 "nbformat": 4,
 "nbformat_minor": 4
}
