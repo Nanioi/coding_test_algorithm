{
 "cells": [
  {
   "cell_type": "code",
   "execution_count": null,
   "metadata": {},
   "outputs": [],
   "source": [
    "N,M = map(int, input().split())\n",
    "\n",
    "\n",
    "team_mem,mem_team = {},{}\n",
    "\n",
    "for i in range(N):\n",
    "    name,num = input(), int(input())\n",
    "    team_mem[name]=[]\n",
    "    for j in range(num):\n",
    "        mem_name = input()\n",
    "        team_mem[name].append(mem_name)\n",
    "        mem_team[mem_name]=name\n",
    "\n",
    "for m in range(M):\n",
    "    q,k = input(),int(input())\n",
    "    if k:\n",
    "        print(mem_team[q])\n",
    "    else:\n",
    "        for i in sorted(team_mem[q]):\n",
    "            print(i)"
   ]
  }
 ],
 "metadata": {
  "kernelspec": {
   "display_name": "Python 3",
   "language": "python",
   "name": "python3"
  },
  "language_info": {
   "codemirror_mode": {
    "name": "ipython",
    "version": 3
   },
   "file_extension": ".py",
   "mimetype": "text/x-python",
   "name": "python",
   "nbconvert_exporter": "python",
   "pygments_lexer": "ipython3",
   "version": "3.8.5"
  }
 },
 "nbformat": 4,
 "nbformat_minor": 4
}
