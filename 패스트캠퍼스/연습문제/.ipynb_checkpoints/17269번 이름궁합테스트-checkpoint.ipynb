{
 "cells": [
  {
   "cell_type": "code",
   "execution_count": null,
   "metadata": {},
   "outputs": [],
   "source": [
    "n,m = map(int,input().split())\n",
    "a,b = input().split()\n",
    "\n",
    "alp = [3,2,1,2,4,3,1,3,1,1,3,1,3,2,1,2,2,2,1,2,1,1,1,2,2,1]\n",
    "\n",
    "ab=''\n",
    "min_len = min(n,m)\n",
    "for i in range(min_len):\n",
    "    ab += a[i]+b[i]\n",
    "\n",
    "ab+=a[min_len:] + b[min_len:]\n",
    "\n",
    "lst= [ alp[ord(i)-ord('A')] for i in ab]\n",
    "\n",
    "for i in range(n+m-2):\n",
    "    for j in range(n+m-1-i):\n",
    "        lst[j] +=lst[j+1]\n",
    "\n",
    "\n",
    "print(\"{}%\".format(lst[0]%10*10 + lst[1]%10))"
   ]
  }
 ],
 "metadata": {
  "kernelspec": {
   "display_name": "Python 3",
   "language": "python",
   "name": "python3"
  },
  "language_info": {
   "codemirror_mode": {
    "name": "ipython",
    "version": 3
   },
   "file_extension": ".py",
   "mimetype": "text/x-python",
   "name": "python",
   "nbconvert_exporter": "python",
   "pygments_lexer": "ipython3",
   "version": "3.8.5"
  }
 },
 "nbformat": 4,
 "nbformat_minor": 4
}
