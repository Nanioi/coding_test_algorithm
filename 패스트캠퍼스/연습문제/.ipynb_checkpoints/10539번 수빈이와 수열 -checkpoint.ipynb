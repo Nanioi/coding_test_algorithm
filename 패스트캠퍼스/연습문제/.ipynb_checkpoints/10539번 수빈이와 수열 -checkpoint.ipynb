{
 "cells": [
  {
   "cell_type": "code",
   "execution_count": 3,
   "metadata": {},
   "outputs": [
    {
     "name": "stdout",
     "output_type": "stream",
     "text": [
      "4\n",
      "3 2 3 5\n",
      "3 1 5 11 "
     ]
    }
   ],
   "source": [
    "n,lst = int(input()), list(map(int,input().split()))\n",
    "\n",
    "result = []\n",
    "\n",
    "if n==1:\n",
    "    print(lst)\n",
    "    \n",
    "else:\n",
    "    result.append(lst[0])\n",
    "    for i in range(1,n):\n",
    "        result.append(lst[i]*(i+1)-sum(result))\n",
    "    \n",
    "for i in result:\n",
    "    print(i,end=' ')\n",
    "    "
   ]
  },
  {
   "cell_type": "code",
   "execution_count": null,
   "metadata": {},
   "outputs": [],
   "source": [
    "n,lst = int(input()), list(map(int,input().split()))\n",
    "\n",
    "result = [lst[0]]\n",
    "\n",
    "for i in range(1,n):\n",
    "    result.append(lst[i]*(i+1)-sum(result))\n",
    "    \n",
    "for i in result:\n",
    "    print(i,end=' ')"
   ]
  }
 ],
 "metadata": {
  "kernelspec": {
   "display_name": "Python 3",
   "language": "python",
   "name": "python3"
  },
  "language_info": {
   "codemirror_mode": {
    "name": "ipython",
    "version": 3
   },
   "file_extension": ".py",
   "mimetype": "text/x-python",
   "name": "python",
   "nbconvert_exporter": "python",
   "pygments_lexer": "ipython3",
   "version": "3.8.5"
  }
 },
 "nbformat": 4,
 "nbformat_minor": 4
}
