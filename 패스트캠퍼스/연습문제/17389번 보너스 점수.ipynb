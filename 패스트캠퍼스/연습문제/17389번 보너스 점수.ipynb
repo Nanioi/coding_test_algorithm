{
 "cells": [
  {
   "cell_type": "code",
   "execution_count": 2,
   "metadata": {},
   "outputs": [
    {
     "name": "stdout",
     "output_type": "stream",
     "text": [
      "8\n",
      "XOOOXOOX\n",
      "26\n"
     ]
    }
   ],
   "source": [
    "N = int(input())\n",
    "ox = input()\n",
    "\n",
    "bn = 0\n",
    "score = 0\n",
    "\n",
    "for i in range(N):\n",
    "    if ox[i] == 'X':\n",
    "        bn =0\n",
    "    else:\n",
    "        score += (i+1)\n",
    "        score += bn\n",
    "        bn+=1\n",
    "        \n",
    "print(score)\n",
    "    "
   ]
  },
  {
   "cell_type": "code",
   "execution_count": 3,
   "metadata": {},
   "outputs": [
    {
     "name": "stdout",
     "output_type": "stream",
     "text": [
      "8\n",
      "XOOOXOOX\n",
      "26\n"
     ]
    }
   ],
   "source": [
    "N,S = int(input()),input()\n",
    "\n",
    "score, bonus = 0,0\n",
    "\n",
    "for idx,OX in enumerate(S):\n",
    "    if OX=='O':\n",
    "        score,bonus = score+idx+1+bonus, bonus+1\n",
    "    else:\n",
    "        bonus =0\n",
    "\n",
    "print(score)"
   ]
  }
 ],
 "metadata": {
  "kernelspec": {
   "display_name": "Python 3",
   "language": "python",
   "name": "python3"
  },
  "language_info": {
   "codemirror_mode": {
    "name": "ipython",
    "version": 3
   },
   "file_extension": ".py",
   "mimetype": "text/x-python",
   "name": "python",
   "nbconvert_exporter": "python",
   "pygments_lexer": "ipython3",
   "version": "3.8.5"
  }
 },
 "nbformat": 4,
 "nbformat_minor": 4
}
