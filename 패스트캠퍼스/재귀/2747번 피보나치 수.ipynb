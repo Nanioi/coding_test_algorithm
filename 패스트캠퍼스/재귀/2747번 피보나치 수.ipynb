{
 "cells": [
  {
   "cell_type": "code",
   "execution_count": 2,
   "metadata": {},
   "outputs": [
    {
     "name": "stdout",
     "output_type": "stream",
     "text": [
      "10\n",
      "55\n"
     ]
    }
   ],
   "source": [
    "def fibo(n):\n",
    "    if n==0:\n",
    "        return 0\n",
    "    elif n==1:\n",
    "        return 1\n",
    "    else:\n",
    "        return fibo(n-1)+fibo(n-2)\n",
    "\n",
    "n = int(input())\n",
    "\n",
    "print(fibo(n))"
   ]
  },
  {
   "cell_type": "code",
   "execution_count": 3,
   "metadata": {},
   "outputs": [
    {
     "name": "stdout",
     "output_type": "stream",
     "text": [
      "10\n",
      "55\n"
     ]
    }
   ],
   "source": [
    "n= int(input())\n",
    "\n",
    "a,b = 0,1\n",
    "\n",
    "while n>0:\n",
    "    a,b = b,a+b\n",
    "    n-=1\n",
    "\n",
    "print(a)"
   ]
  }
 ],
 "metadata": {
  "kernelspec": {
   "display_name": "Python 3",
   "language": "python",
   "name": "python3"
  },
  "language_info": {
   "codemirror_mode": {
    "name": "ipython",
    "version": 3
   },
   "file_extension": ".py",
   "mimetype": "text/x-python",
   "name": "python",
   "nbconvert_exporter": "python",
   "pygments_lexer": "ipython3",
   "version": "3.8.5"
  }
 },
 "nbformat": 4,
 "nbformat_minor": 4
}
