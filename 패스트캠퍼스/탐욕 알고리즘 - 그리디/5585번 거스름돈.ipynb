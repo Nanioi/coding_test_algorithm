{
 "cells": [
  {
   "cell_type": "code",
   "execution_count": 3,
   "metadata": {},
   "outputs": [
    {
     "name": "stdout",
     "output_type": "stream",
     "text": [
      "1\n",
      "15\n"
     ]
    }
   ],
   "source": [
    "n=int(input())\n",
    "\n",
    "k = 1000-n\n",
    "\n",
    "m = [500,100,50,10,5,1]\n",
    "\n",
    "result=0\n",
    "while k>0:\n",
    "    for i in m:\n",
    "        c=k//i\n",
    "        result+=c\n",
    "        k-=i*c\n",
    "        \n",
    "print(result)"
   ]
  },
  {
   "cell_type": "code",
   "execution_count": null,
   "metadata": {},
   "outputs": [],
   "source": [
    "changes = 1000-int(input())\n",
    "count=0\n",
    "\n",
    "for i in [500,100,50,10,5,1]:\n",
    "    count+=changes//i\n",
    "    changes%=i\n",
    "    \n",
    "print(count)"
   ]
  },
  {
   "cell_type": "code",
   "execution_count": null,
   "metadata": {},
   "outputs": [],
   "source": [
    "n=int(input())\n",
    "\n",
    "money = 1000-n\n",
    "m=[500,100,50,10,5,1]\n",
    "cnt=0\n",
    "\n",
    "for i in m:\n",
    "    if money<=0:\n",
    "        break\n",
    "    while money>=i:\n",
    "        money-=i\n",
    "        cnt+=1\n",
    "\n",
    "print(cnt)"
   ]
  }
 ],
 "metadata": {
  "kernelspec": {
   "display_name": "Python 3",
   "language": "python",
   "name": "python3"
  },
  "language_info": {
   "codemirror_mode": {
    "name": "ipython",
    "version": 3
   },
   "file_extension": ".py",
   "mimetype": "text/x-python",
   "name": "python",
   "nbconvert_exporter": "python",
   "pygments_lexer": "ipython3",
   "version": "3.8.5"
  }
 },
 "nbformat": 4,
 "nbformat_minor": 4
}
