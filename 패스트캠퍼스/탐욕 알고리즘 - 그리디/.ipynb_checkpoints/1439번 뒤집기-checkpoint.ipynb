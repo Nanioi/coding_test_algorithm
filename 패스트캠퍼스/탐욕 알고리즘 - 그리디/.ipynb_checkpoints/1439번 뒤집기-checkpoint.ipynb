{
 "cells": [
  {
   "cell_type": "code",
   "execution_count": 2,
   "metadata": {},
   "outputs": [
    {
     "name": "stdout",
     "output_type": "stream",
     "text": [
      "0001100\n",
      "1\n"
     ]
    }
   ],
   "source": [
    "s= input()\n",
    "\n",
    "c1 = 0\n",
    "c0 = 0\n",
    "\n",
    "if s[0]=='1':\n",
    "    c1+=1\n",
    "    flag=1\n",
    "else:\n",
    "    c0+=1\n",
    "    flag=0\n",
    "\n",
    "for i in s:\n",
    "    if flag==0 and i=='1':\n",
    "        c1+=1\n",
    "        flag=1\n",
    "    if flag==1 and i=='0':\n",
    "        c0+=1\n",
    "        flag=0\n",
    "\n",
    "print(min(c1,c0))"
   ]
  },
  {
   "cell_type": "code",
   "execution_count": null,
   "metadata": {},
   "outputs": [],
   "source": [
    "data=input()\n",
    "c0=0 #전부 0으로 바꾸는 경우\n",
    "c1=0 #전부 1로 바꾸는 경우\n",
    "\n",
    "if data[0]=='1':\n",
    "    c0+=1\n",
    "else:\n",
    "    c1+=1\n",
    "    \n",
    "for i in range(len(data)-1):\n",
    "    if data[i] !=data[i+1]:\n",
    "        #다음 수에서 1로 바뀌는 경우\n",
    "        if data[i+1]=='1':\n",
    "            c0+=1\n",
    "        #다음 수에서 0으로 바뀌는 경우\n",
    "        else:\n",
    "            c1+=1\n",
    "print(min(c0,c1))"
   ]
  },
  {
   "cell_type": "code",
   "execution_count": null,
   "metadata": {},
   "outputs": [],
   "source": [
    "s,tot=input(),0\n",
    "for i in range(1,len(s)):\n",
    "    if s[i]!=s[i-1]:\n",
    "        tot+=1\n",
    "print((tot+1)//2)"
   ]
  }
 ],
 "metadata": {
  "kernelspec": {
   "display_name": "Python 3",
   "language": "python",
   "name": "python3"
  },
  "language_info": {
   "codemirror_mode": {
    "name": "ipython",
    "version": 3
   },
   "file_extension": ".py",
   "mimetype": "text/x-python",
   "name": "python",
   "nbconvert_exporter": "python",
   "pygments_lexer": "ipython3",
   "version": "3.8.5"
  }
 },
 "nbformat": 4,
 "nbformat_minor": 4
}
