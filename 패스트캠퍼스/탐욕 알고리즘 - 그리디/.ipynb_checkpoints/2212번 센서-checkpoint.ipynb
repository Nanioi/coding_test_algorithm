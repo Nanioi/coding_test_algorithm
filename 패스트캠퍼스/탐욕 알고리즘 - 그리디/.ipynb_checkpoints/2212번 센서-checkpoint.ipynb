{
 "cells": [
  {
   "cell_type": "code",
   "execution_count": null,
   "metadata": {},
   "outputs": [],
   "source": [
    "import sys\n",
    "\n",
    "n=int(input())\n",
    "k=int(input())\n",
    "\n",
    "## 각 센서 위치에 모두 설치하면 되므로 정답은 0\n",
    "if k>=n:\n",
    "    print(0)\n",
    "    sys.exit()\n",
    "\n",
    "sensor=list(map(int,input().split()))\n",
    "sensor.sort()\n",
    "\n",
    "\n",
    "d=[]\n",
    "for i in range(0,n-1):\n",
    "    d.append(sensor[i+1]-sensor[i])\n",
    "\n",
    "d.sort(reverse=True)\n",
    "# 가장 긴 거리부터 하나씩 제거\n",
    "for i in range(k-1):\n",
    "    d[i]=0\n",
    "\n",
    "print(sum(d))"
   ]
  },
  {
   "cell_type": "code",
   "execution_count": null,
   "metadata": {},
   "outputs": [],
   "source": [
    "import sys\n",
    "\n",
    "n=int(input())\n",
    "k=int(input())\n",
    "\n",
    "## 각 센서 위치에 모두 설치하면 되므로 정답은 0\n",
    "if k>=n:\n",
    "    print(0)\n",
    "    sys.exit()\n",
    "    \n",
    "sensor=list(map(int,input().split()))\n",
    "sensor.sort()\n",
    "\n",
    "\n",
    "a=[]\n",
    "for i in range(0,n-1):\n",
    "    if sensor[i+1]-sensor[i]!=0:\n",
    "        a.append(sensor[i+1]-sensor[i])\n",
    "\n",
    "a.sort()\n",
    "result=0\n",
    "for i in range(len(a)-(k-1)):\n",
    "    result+=a[i]\n",
    "\n",
    "print(result)"
   ]
  }
 ],
 "metadata": {
  "kernelspec": {
   "display_name": "Python 3",
   "language": "python",
   "name": "python3"
  },
  "language_info": {
   "codemirror_mode": {
    "name": "ipython",
    "version": 3
   },
   "file_extension": ".py",
   "mimetype": "text/x-python",
   "name": "python",
   "nbconvert_exporter": "python",
   "pygments_lexer": "ipython3",
   "version": "3.8.5"
  }
 },
 "nbformat": 4,
 "nbformat_minor": 4
}
