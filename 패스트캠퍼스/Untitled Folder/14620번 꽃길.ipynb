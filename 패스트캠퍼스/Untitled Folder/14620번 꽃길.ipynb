{
 "cells": [
  {
   "cell_type": "code",
   "execution_count": null,
   "metadata": {},
   "outputs": [],
   "source": [
    "#전수조사,방향벡터\n",
    "\n",
    "N=int(input())\n",
    "G=[list(map(int,input().split())) for i in range(N)]\n",
    "\n",
    "ans = 10000\n",
    "\n",
    "dx,dy = [0,0,0,1,-1],[0,1,-1,0,0]\n",
    "\n",
    "#꽃이 a,b,c있을때 비용 가능할때만 리턴\n",
    "def ck(lst):\n",
    "    ret=0\n",
    "    F=[] # 꽃 위치들!! \n",
    "    for flower in lst:\n",
    "        x=flower // N\n",
    "        y=flower % N\n",
    "        if x==0 or x==N-1 or y==0 or y==N-1 :\n",
    "            return 10000\n",
    "        for w in range(5):\n",
    "            F.append((x+dx[w],y+dy[w])) \n",
    "            ret += G[x+dx[w]][y+dy[w]]\n",
    "    if len(set(F))!=15: #겹치는게 있는경우\n",
    "        return 10000\n",
    "    return ret\n",
    "\n",
    "\n",
    "# 전수조사\n",
    "for i in range(N*N):\n",
    "    for j in range(i+1, N*N):\n",
    "        for k in range(j+1 ,N*N):\n",
    "            ans = min(ans,ck([i,j,k]))\n",
    "\n",
    "print(ans)"
   ]
  }
 ],
 "metadata": {
  "kernelspec": {
   "display_name": "Python 3",
   "language": "python",
   "name": "python3"
  },
  "language_info": {
   "codemirror_mode": {
    "name": "ipython",
    "version": 3
   },
   "file_extension": ".py",
   "mimetype": "text/x-python",
   "name": "python",
   "nbconvert_exporter": "python",
   "pygments_lexer": "ipython3",
   "version": "3.8.5"
  }
 },
 "nbformat": 4,
 "nbformat_minor": 4
}
