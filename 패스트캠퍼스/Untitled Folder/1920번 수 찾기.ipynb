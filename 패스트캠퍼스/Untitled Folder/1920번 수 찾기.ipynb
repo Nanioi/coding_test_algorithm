{
 "cells": [
  {
   "cell_type": "code",
   "execution_count": 1,
   "metadata": {},
   "outputs": [
    {
     "name": "stdout",
     "output_type": "stream",
     "text": [
      "5\n",
      "4 1 5 2 3\n",
      "5\n",
      "1 3 7 9 5\n",
      "1\n",
      "1\n",
      "0\n",
      "0\n",
      "1\n"
     ]
    }
   ],
   "source": [
    "N,A = int(input()), list(map(int, input().split()))\n",
    "M,B = int(input()), list(map(int, input().split()))\n",
    "\n",
    "for i in B:\n",
    "    if i in A:\n",
    "        print(1)\n",
    "    else:\n",
    "        print(0)"
   ]
  },
  {
   "cell_type": "code",
   "execution_count": null,
   "metadata": {},
   "outputs": [],
   "source": [
    "# set \n",
    "\n",
    "n = int(input())\n",
    "a = set(map(int,input().split()))\n",
    "m = int(input())\n",
    "b = list(map(int,input().split()))\n",
    "\n",
    "for i in b:\n",
    "    if i not in a:\n",
    "        print('0')\n",
    "    else:\n",
    "        print('1')"
   ]
  },
  {
   "cell_type": "code",
   "execution_count": null,
   "metadata": {},
   "outputs": [],
   "source": [
    "# dict\n",
    "\n",
    "n,A = int(input()) , {i: 1 for i in map(int,input().split())}\n",
    "m = int(input())\n",
    "for i in list(map(int,input().split())) :\n",
    "    print(A.get(i,0)) # == print( 1 if i in A else 0 )"
   ]
  }
 ],
 "metadata": {
  "kernelspec": {
   "display_name": "Python 3",
   "language": "python",
   "name": "python3"
  },
  "language_info": {
   "codemirror_mode": {
    "name": "ipython",
    "version": 3
   },
   "file_extension": ".py",
   "mimetype": "text/x-python",
   "name": "python",
   "nbconvert_exporter": "python",
   "pygments_lexer": "ipython3",
   "version": "3.8.5"
  }
 },
 "nbformat": 4,
 "nbformat_minor": 4
}
