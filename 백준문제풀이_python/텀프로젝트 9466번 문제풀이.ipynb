{
 "cells": [
  {
   "cell_type": "code",
   "execution_count": null,
   "metadata": {},
   "outputs": [],
   "source": [
    "## 그래프이론, 그래프 탐색\n",
    "## 깊이 우선 탐색(bfs)\n",
    "\n",
    "import heapq\n",
    "        \n",
    "def bfs(x):\n",
    "    global a,result,cycle\n",
    "    q=[]\n",
    "    b=[]\n",
    "    heapq.heappush(q,x)\n",
    "    while q:\n",
    "        e=heapq.heappop(q)\n",
    "        b.append(e)\n",
    "        if x==a[e-1]:\n",
    "            cycle+=len(b)+1\n",
    "            while i in b:\n",
    "                check[i]=1\n",
    "            b.clear()\n",
    "        else:\n",
    "            if e==a[e-1]:\n",
    "                result+=1\n",
    "                break\n",
    "            heapq.heappush(q,a[e-1])\n",
    "        \n",
    "\n",
    "tc=int(input())\n",
    "for _ in range(tc):\n",
    "    n=int(input())\n",
    "    a=list(map(int,input().split()))\n",
    "    result=0\n",
    "    cycle=0\n",
    "    check=[0]*(n+1)\n",
    "    for i in range(n):\n",
    "        if i+1==a[i]:\n",
    "            check[i+1]=1\n",
    "            cycle+=1\n",
    "        if check[i+1]==0:\n",
    "            bfs(i+1)\n",
    "    print(cycle)\n",
    "    print(result)\n",
    "    print(check)\n",
    "    print(n-result)\n",
    "    =\n",
    "    \n",
    "=> 실패함 다시 풀기"
   ]
  }
 ],
 "metadata": {
  "kernelspec": {
   "display_name": "Python 3",
   "language": "python",
   "name": "python3"
  },
  "language_info": {
   "codemirror_mode": {
    "name": "ipython",
    "version": 3
   },
   "file_extension": ".py",
   "mimetype": "text/x-python",
   "name": "python",
   "nbconvert_exporter": "python",
   "pygments_lexer": "ipython3",
   "version": "3.8.5"
  }
 },
 "nbformat": 4,
 "nbformat_minor": 4
}
