{
 "cells": [
  {
   "cell_type": "code",
   "execution_count": null,
   "metadata": {},
   "outputs": [],
   "source": [
    "import copy\n",
    "\n",
    "def recursive(array,n):\n",
    "    if len(array)==n:\n",
    "        operators_list.append(copy.deepcopy(array))\n",
    "        return\n",
    "    array.append(' ')\n",
    "    recursive(array,n)\n",
    "    array.pop()\n",
    "    \n",
    "    array.append('+')\n",
    "    recursive(array,n)\n",
    "    array.pop()\n",
    "    \n",
    "    array.append('-')\n",
    "    recursive(array,n)\n",
    "    array.pop()\n",
    "    \n",
    "test_case = int(input())\n",
    "\n",
    "for _ in range(test_case):\n",
    "    operators_list=[]\n",
    "    n=int(input())\n",
    "    recursive([],n-1)\n",
    "    \n",
    "    integers = [i for i in range(1,n+1)]\n",
    "    \n",
    "    for operators in operators_list:\n",
    "        string=\"\"\n",
    "        for i in range(n-1):\n",
    "            string+=str(integers[i])+operators[i]\n",
    "        string+=str(integers[-1])\n",
    "        if eval(string.replace(\" \",\"\"))==0:\n",
    "            print(string)\n",
    "    print()"
   ]
  }
 ],
 "metadata": {
  "kernelspec": {
   "display_name": "Python 3",
   "language": "python",
   "name": "python3"
  },
  "language_info": {
   "codemirror_mode": {
    "name": "ipython",
    "version": 3
   },
   "file_extension": ".py",
   "mimetype": "text/x-python",
   "name": "python",
   "nbconvert_exporter": "python",
   "pygments_lexer": "ipython3",
   "version": "3.8.5"
  }
 },
 "nbformat": 4,
 "nbformat_minor": 4
}
