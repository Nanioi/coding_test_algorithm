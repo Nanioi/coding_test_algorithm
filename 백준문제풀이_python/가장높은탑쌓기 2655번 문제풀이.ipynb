{
 "cells": [
  {
   "cell_type": "code",
   "execution_count": null,
   "metadata": {},
   "outputs": [],
   "source": [
    "## 난이도 상\n",
    "## 동적프로그래밍, LCS\n",
    "\n",
    "n= int(input())\n",
    "a=[]\n",
    "a.append((0,0,0,0))\n",
    "\n",
    "for i in range(1,n+1):\n",
    "    width,height,weight=map(int,input().split())\n",
    "    a.append((i,width,height,weight))\n",
    "\n",
    "##무게기준데이터정렬\n",
    "a.sort(key=lambda data:data[3])\n",
    "\n",
    "D=[0]*(n+1)\n",
    "\n",
    "for i in range(1,n+1):\n",
    "    for j in range(0,i):\n",
    "        if a[i][1]>a[j][1]:\n",
    "            D[i]=max(D[i],D[j]+a[i][2])\n",
    "\n",
    "max_height=max(D)\n",
    "index=n\n",
    "result=[]\n",
    "\n",
    "while index!=0:\n",
    "    if max_height == D[index]:\n",
    "        result.append(a[index][0])\n",
    "        max_height-=a[index][2]\n",
    "    index-=1\n",
    "\n",
    "result.reverse()\n",
    "print(len(result))\n",
    "[print(i) for i in result]\n"
   ]
  }
 ],
 "metadata": {
  "kernelspec": {
   "display_name": "Python 3",
   "language": "python",
   "name": "python3"
  },
  "language_info": {
   "codemirror_mode": {
    "name": "ipython",
    "version": 3
   },
   "file_extension": ".py",
   "mimetype": "text/x-python",
   "name": "python",
   "nbconvert_exporter": "python",
   "pygments_lexer": "ipython3",
   "version": "3.8.5"
  }
 },
 "nbformat": 4,
 "nbformat_minor": 4
}
