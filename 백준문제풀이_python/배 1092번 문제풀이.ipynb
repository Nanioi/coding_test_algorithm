{
 "cells": [
  {
   "cell_type": "code",
   "execution_count": null,
   "metadata": {},
   "outputs": [],
   "source": [
    "## 탐욕알고리즘, 그리디\n",
    "## 난이도 중\n",
    "\n",
    "import sys\n",
    "\n",
    "n=int(input())\n",
    "crane=list(map(int,input().split()))\n",
    "m=int(input())\n",
    "box=list(map(int,input().split()))\n",
    "\n",
    "crane.sort(reverse=True)\n",
    "box.sort(reverse=True)\n",
    "\n",
    "if crane[0]<box[0]:\n",
    "    print(-1)\n",
    "    sys.exit()\n",
    "\n",
    "#각 크레인이 현재 옮겨야하는 박스의 번호\n",
    "position=[0]*n\n",
    "#옮겼는지 여부\n",
    "check=[False]*m\n",
    "\n",
    "cnt=0\n",
    "result=0\n",
    "\n",
    "while True:\n",
    "    if cnt==len(box):\n",
    "        break\n",
    "    for i in range(n):\n",
    "        while position[i]<len(box):\n",
    "            if not check[position[i]] and crane[i]>=box[position[i]]:\n",
    "                check[position[i]]=True\n",
    "                position[i]+=1\n",
    "                cnt+=1\n",
    "                break\n",
    "            position[i]+=1\n",
    "    result+=1\n",
    "\n",
    "print(result)\n"
   ]
  }
 ],
 "metadata": {
  "kernelspec": {
   "display_name": "Python 3",
   "language": "python",
   "name": "python3"
  },
  "language_info": {
   "codemirror_mode": {
    "name": "ipython",
    "version": 3
   },
   "file_extension": ".py",
   "mimetype": "text/x-python",
   "name": "python",
   "nbconvert_exporter": "python",
   "pygments_lexer": "ipython3",
   "version": "3.8.5"
  }
 },
 "nbformat": 4,
 "nbformat_minor": 4
}
