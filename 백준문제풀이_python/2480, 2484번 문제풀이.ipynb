{
 "cells": [
  {
   "cell_type": "code",
   "execution_count": null,
   "metadata": {},
   "outputs": [],
   "source": [
    "#2480\n",
    "\n",
    "lst = sorted(list(map(int,input().split())))\n",
    "\n",
    "if len(set(lst)) == 1:\n",
    "    print(lst[0]*1000+10000)\n",
    "elif len(set(lst)) == 2 : \n",
    "    print(1000+lst[1]*100)\n",
    "else:\n",
    "    print(lst[2]*100)"
   ]
  },
  {
   "cell_type": "code",
   "execution_count": null,
   "metadata": {},
   "outputs": [],
   "source": [
    "#2484\n",
    "\n",
    "def money():\n",
    "    lst = sorted(map(int,input().split()))\n",
    "    if len(set(lst)) == 1:\n",
    "        return lst[0]*5000 + 50000\n",
    "    if len(set(lst))==2:\n",
    "        if lst[1] == lst[2]:\n",
    "            return 10000+lst[1]*1000\n",
    "        else:\n",
    "            return 2000 + (lst[1]+lst[2])*500\n",
    "    for i in range(3):\n",
    "        if lst[i] == lst[i+1]:\n",
    "            return 1000+lst[i]*100\n",
    "    return lst[-1]*100\n",
    "\n",
    "\n",
    "\n",
    "n = int(input())\n",
    "\n",
    "print(max(money() for i in range(n)))"
   ]
  }
 ],
 "metadata": {
  "kernelspec": {
   "display_name": "Python 3",
   "language": "python",
   "name": "python3"
  },
  "language_info": {
   "codemirror_mode": {
    "name": "ipython",
    "version": 3
   },
   "file_extension": ".py",
   "mimetype": "text/x-python",
   "name": "python",
   "nbconvert_exporter": "python",
   "pygments_lexer": "ipython3",
   "version": "3.8.5"
  }
 },
 "nbformat": 4,
 "nbformat_minor": 4
}
