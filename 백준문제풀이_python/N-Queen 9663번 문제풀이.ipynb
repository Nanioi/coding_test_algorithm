{
 "cells": [
  {
   "cell_type": "code",
   "execution_count": null,
   "metadata": {},
   "outputs": [],
   "source": [
    "## 백트래킹\n",
    "## 난이도 중\n",
    "\n",
    "# x번째 행에 놓은 queen에 대해 검증\n",
    "def check(x):\n",
    "    #이전 행의 queen들 확인\n",
    "    for i in range(x):\n",
    "        if row[x]==row[i]: #위\n",
    "            return False\n",
    "        if abs(row[x]-row[i])==x-i: #대각선\n",
    "            return False\n",
    "    return True\n",
    "\n",
    "#x번째 행에 대해 처리\n",
    "def dfs(x):\n",
    "    global result\n",
    "    if x==n:\n",
    "        result+=1\n",
    "    else:\n",
    "        #x번째 행의 각 열에 queen을 둔다고 가정\n",
    "        for i in range(n):\n",
    "            row[x]=i\n",
    "            if check(x):\n",
    "                dfs(x+1)\n",
    "n=int(input())\n",
    "row=[0]*n\n",
    "result=0\n",
    "dfs(0)\n",
    "print(result)"
   ]
  }
 ],
 "metadata": {
  "kernelspec": {
   "display_name": "Python 3",
   "language": "python",
   "name": "python3"
  },
  "language_info": {
   "codemirror_mode": {
    "name": "ipython",
    "version": 3
   },
   "file_extension": ".py",
   "mimetype": "text/x-python",
   "name": "python",
   "nbconvert_exporter": "python",
   "pygments_lexer": "ipython3",
   "version": "3.8.5"
  }
 },
 "nbformat": 4,
 "nbformat_minor": 4
}
