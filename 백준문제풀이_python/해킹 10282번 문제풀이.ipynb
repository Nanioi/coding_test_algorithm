{
 "cells": [
  {
   "cell_type": "code",
   "execution_count": null,
   "metadata": {},
   "outputs": [],
   "source": [
    "## 다익스트라 최단경로\n",
    "## 난이도 중\n",
    "\n",
    "import heapq\n",
    "import sys\n",
    "from typing import Counter\n",
    "input = sys.stdin.readline\n",
    "\n",
    "\n",
    "def dijkstra(start):\n",
    "    heap_data=[]\n",
    "    heapq.heappush(heap_data,(0,start))\n",
    "    distance[start]=0\n",
    "    while heap_data:\n",
    "        current_distance,now_pos=heapq.heappop(heap_data)\n",
    "        if distance[now_pos]<current_distance:\n",
    "            continue\n",
    "        for i in adj[now_pos]:\n",
    "            cost=current_distance+i[1]\n",
    "            if distance[i[0]]>cost:\n",
    "                distance[i[0]]=cost\n",
    "                heapq.heappush(heap_data,(cost,i[0]))\n",
    "\n",
    "tc = int(input())\n",
    "for _ in range(tc):\n",
    "    n,d,c = map(int,input().split())\n",
    "    adj=[[]for _ in range(n+1)]\n",
    "    distance = [1e9]*(n+1)\n",
    "    for _ in range(d):\n",
    "        a,b,s=map(int,input().split())\n",
    "        adj[b].append((a,s))\n",
    "    dijkstra(c)\n",
    "    count=0\n",
    "    max_distance=0\n",
    "    for i in distance:\n",
    "        if i!=1e9:\n",
    "            count+=1\n",
    "            if i>max_distance:\n",
    "                max_distance=i\n",
    "    print(count, max_distance)\n"
   ]
  }
 ],
 "metadata": {
  "kernelspec": {
   "display_name": "Python 3",
   "language": "python",
   "name": "python3"
  },
  "language_info": {
   "codemirror_mode": {
    "name": "ipython",
    "version": 3
   },
   "file_extension": ".py",
   "mimetype": "text/x-python",
   "name": "python",
   "nbconvert_exporter": "python",
   "pygments_lexer": "ipython3",
   "version": "3.8.5"
  }
 },
 "nbformat": 4,
 "nbformat_minor": 4
}
