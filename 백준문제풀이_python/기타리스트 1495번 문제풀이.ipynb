{
 "cells": [
  {
   "cell_type": "code",
   "execution_count": null,
   "metadata": {},
   "outputs": [],
   "source": [
    "## 난이도 중\n",
    "## 동적프로그래밍\n",
    "\n",
    "n,s,m=map(int,input().split())\n",
    "v=list(map(int,input().split()))\n",
    "\n",
    "d=[[False]*(m+1) for _ in range(n+1)]\n",
    "d[0][s]=True\n",
    "\n",
    "for i in range(1,n+1):\n",
    "    for j in range(m+1):\n",
    "        if d[i-1][j]==False:\n",
    "            continue\n",
    "        if j-v[i-1]>=0:\n",
    "            d[i][j-v[i-1]]=True\n",
    "        if j+v[i-1]<=m:\n",
    "            d[i][j+v[i-1]]=True\n",
    "        \n",
    "result=-1\n",
    "for i in range(m,-1,-1):\n",
    "    if d[n][i]==True:\n",
    "        result=i\n",
    "        break\n",
    "print(result)"
   ]
  }
 ],
 "metadata": {
  "kernelspec": {
   "display_name": "Python 3",
   "language": "python",
   "name": "python3"
  },
  "language_info": {
   "codemirror_mode": {
    "name": "ipython",
    "version": 3
   },
   "file_extension": ".py",
   "mimetype": "text/x-python",
   "name": "python",
   "nbconvert_exporter": "python",
   "pygments_lexer": "ipython3",
   "version": "3.8.5"
  }
 },
 "nbformat": 4,
 "nbformat_minor": 4
}
