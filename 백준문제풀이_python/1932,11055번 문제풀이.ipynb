{
 "cells": [
  {
   "cell_type": "code",
   "execution_count": null,
   "metadata": {},
   "outputs": [],
   "source": [
    "#1932\n",
    "\n",
    "N = int(input())\n",
    "#dp[i][j] : i,j 도착 시 최댓값\n",
    "#dp[i][j] = max(dp[i-1][j-1],dp[i-1][j])+A[i][j]\n",
    "A = [[0 for _ in range(N+1)]for i in range(N+1)]\n",
    "dp = [[0 for _ in range(N+1)]for i in range(N+1)]\n",
    "\n",
    "for i in range(1,N+1):\n",
    "    tmp = list(map(int,input().split()))\n",
    "    for j in range(1,i+1):\n",
    "        A[i][j] = tmp[j-1]\n",
    "\n",
    "for i in range(1,N+1):\n",
    "    for j in range(1,i+1):\n",
    "        dp[i][j] = max(dp[i-1][j-1],dp[i-1][j])+A[i][j]\n",
    "\n",
    "print(max(dp[-1]))"
   ]
  },
  {
   "cell_type": "code",
   "execution_count": null,
   "metadata": {},
   "outputs": [],
   "source": [
    "#11055\n",
    "\n",
    "import copy\n",
    "\n",
    "n,arr = int(input()),list(map(int,input().split()))\n",
    "\n",
    "# dp[i] : i 까지 왔을 때, 합의 최대\n",
    "\n",
    "dp = copy.deepcopy(arr)\n",
    "\n",
    "for i in range(1,n):\n",
    "    for j in range(i):\n",
    "        if arr[i]>arr[j]:\n",
    "            dp[i]=max(arr[i]+dp[j],dp[i])\n",
    "\n",
    "\n",
    "print(max(dp))"
   ]
  },
  {
   "cell_type": "code",
   "execution_count": null,
   "metadata": {},
   "outputs": [],
   "source": [
    "#11055 변형 -> 경로추적하기\n",
    "\n",
    "import copy\n",
    "\n",
    "n,arr = int(input()),list(map(int,input().split()))\n",
    "\n",
    "# dp[i] : i 까지 왔을 때, 합의 최대\n",
    "\n",
    "dp = copy.deepcopy(arr)\n",
    "rev = [i for i in range(n)]\n",
    "\n",
    "idx=0\n",
    "\n",
    "for i in range(1,n):\n",
    "    for j in range(i):\n",
    "        if arr[i]>arr[j] and dp[i]<arr[i]+dp[j]:\n",
    "            dp[i]=arr[i]+dp[j]\n",
    "            rev[i] = j\n",
    "    if dp[idx]<dp[i]:\n",
    "        idx=i\n",
    "\n",
    "print(max(dp))\n",
    "\n",
    "# 경로 추적\n",
    "while rev[idx]!=idx:\n",
    "    print(arr[idx],sep=\" \")\n",
    "    idx = rev[idx]\n",
    "print(arr[idx])"
   ]
  }
 ],
 "metadata": {
  "kernelspec": {
   "display_name": "Python 3",
   "language": "python",
   "name": "python3"
  },
  "language_info": {
   "codemirror_mode": {
    "name": "ipython",
    "version": 3
   },
   "file_extension": ".py",
   "mimetype": "text/x-python",
   "name": "python",
   "nbconvert_exporter": "python",
   "pygments_lexer": "ipython3",
   "version": "3.8.5"
  }
 },
 "nbformat": 4,
 "nbformat_minor": 4
}
