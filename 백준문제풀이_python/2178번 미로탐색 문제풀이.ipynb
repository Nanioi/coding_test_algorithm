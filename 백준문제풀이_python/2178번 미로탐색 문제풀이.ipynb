{
 "cells": [
  {
   "cell_type": "code",
   "execution_count": null,
   "metadata": {},
   "outputs": [],
   "source": [
    "미로에서 1은 이동할 수 있는 칸을 나타내고, 0은 이동할 수 없는 칸을 나타낸다. \n",
    "(1, 1)에서 출발하여 (N, M)의 위치로 이동할 때 지나야 하는 최소의 칸 수를 구하는 프로그램을 작성하시오.\n",
    "한 칸에서 다른 칸으로 이동할 때, 서로 인접한 칸으로만 이동할 수 있다.\n",
    "\n",
    "위의 예에서는 15칸을 지나야 (N, M)의 위치로 이동할 수 있다. 칸을 셀 때에는 시작 위치와 도착 위치도 포함한다.\n",
    "\n",
    "\n",
    "4 6\n",
    "101111\n",
    "101010\n",
    "101011\n",
    "111011   => 15\n",
    "\n",
    "4 6\n",
    "110110\n",
    "110110\n",
    "111111\n",
    "111101   => 9\n",
    "\n",
    "2 25\n",
    "1011101110111011101110111\n",
    "1110111011101110111011101    => 38\n",
    "\n",
    "7 7\n",
    "1011111\n",
    "1110001\n",
    "1000001\n",
    "1000001\n",
    "1000001\n",
    "1000001\n",
    "1111111   => 13"
   ]
  },
  {
   "cell_type": "code",
   "execution_count": 5,
   "metadata": {},
   "outputs": [
    {
     "name": "stdout",
     "output_type": "stream",
     "text": [
      "7 7\n",
      "1011111\n",
      "1110001\n",
      "1000001\n",
      "1000001\n",
      "1000001\n",
      "1000001\n",
      "1111111\n",
      "13\n"
     ]
    }
   ],
   "source": [
    "from collections import deque\n",
    "\n",
    "def bfs():\n",
    "    \n",
    "    q= deque()\n",
    "    q.append([0,0,1])\n",
    "    v[0][0]=1\n",
    "    \n",
    "    while q:\n",
    "        x,y,c = q.popleft()\n",
    "        if x==n-1 and y==m-1:\n",
    "            return c\n",
    "        for i in range(4):\n",
    "            nx,ny = x+dx[i],y+dy[i]\n",
    "            if 0<=nx<n and 0<=ny<m and a[nx][ny]=='1' and v[nx][ny]==0:\n",
    "                v[nx][ny]=1\n",
    "                q.append([nx,ny,c+1])\n",
    "\n",
    "\n",
    "n,m = map(int,input().split())\n",
    "dx,dy=[0,-1,0,1],[1,0,-1,0]\n",
    "v = [[0]*m for _ in range(n)]\n",
    "a = []\n",
    "for _ in range(n):\n",
    "    a.append(input())\n",
    "    \n",
    "print(bfs())"
   ]
  }
 ],
 "metadata": {
  "kernelspec": {
   "display_name": "Python 3",
   "language": "python",
   "name": "python3"
  },
  "language_info": {
   "codemirror_mode": {
    "name": "ipython",
    "version": 3
   },
   "file_extension": ".py",
   "mimetype": "text/x-python",
   "name": "python",
   "nbconvert_exporter": "python",
   "pygments_lexer": "ipython3",
   "version": "3.8.5"
  }
 },
 "nbformat": 4,
 "nbformat_minor": 4
}
