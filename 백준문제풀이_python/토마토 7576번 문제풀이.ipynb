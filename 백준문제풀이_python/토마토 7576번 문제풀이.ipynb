{
 "cells": [
  {
   "cell_type": "code",
   "execution_count": null,
   "metadata": {},
   "outputs": [],
   "source": [
    "from collections import deque\n",
    "\n",
    "m,n = map(int,input().split())\n",
    "board = [list(map(int, input().split())) for _ in range(n)]\n",
    "\n",
    "dx,dy = [-1,0,1,0],[0,1,0,-1]\n",
    "q= deque()\n",
    "\n",
    "for i in range(n):\n",
    "    for j in range(m):\n",
    "        if board[i][j]==1:\n",
    "            q.append((i,j,0))\n",
    "            \n",
    "while q: \n",
    "    x,y,day = q.popleft()\n",
    "    for i in range(4):\n",
    "        nx,ny = x+dx[i],y+dy[i]\n",
    "        max_day = max(max_day,day)\n",
    "        if 0<=nx<n and 0<=ny<m:\n",
    "            next_day = day+1\n",
    "            if board[nx][ny]==0:\n",
    "                board[nx][ny]=1\n",
    "                q.append((nx,ny,next_day))\n",
    "\n",
    "print(max_day)"
   ]
  },
  {
   "cell_type": "code",
   "execution_count": null,
   "metadata": {},
   "outputs": [],
   "source": [
    "from collections import deque\n",
    "\n",
    "m, n = map(int, input().split())\n",
    "matrix = [list(map(int, input().split())) for _ in range(n)]\n",
    "queue = deque([])\n",
    "dx, dy = [-1, 1, 0, 0], [0, 0, -1, 1]\n",
    "res = 0\n",
    "\n",
    "for i in range(n):\n",
    "    for j in range(m):\n",
    "        if matrix[i][j] == 1:\n",
    "            queue.append([i, j])\n",
    "\n",
    "def bfs():\n",
    "    while queue:\n",
    "        x, y = queue.popleft()\n",
    "        for i in range(4):\n",
    "            nx, ny = dx[i] + x, dy[i] + y\n",
    "            if 0 <= nx < n and 0 <= ny < m and matrix[nx][ny] == 0:\n",
    "                matrix[nx][ny] = matrix[x][y] + 1\n",
    "                queue.append([nx, ny])\n",
    "\n",
    "bfs()\n",
    "for i in matrix:\n",
    "    for j in i:\n",
    "        if j == 0:\n",
    "            print(-1)\n",
    "            exit(0)\n",
    "    res = max(res, max(i))\n",
    "print(res - 1)"
   ]
  },
  {
   "cell_type": "code",
   "execution_count": null,
   "metadata": {},
   "outputs": [],
   "source": []
  }
 ],
 "metadata": {
  "kernelspec": {
   "display_name": "Python 3",
   "language": "python",
   "name": "python3"
  },
  "language_info": {
   "codemirror_mode": {
    "name": "ipython",
    "version": 3
   },
   "file_extension": ".py",
   "mimetype": "text/x-python",
   "name": "python",
   "nbconvert_exporter": "python",
   "pygments_lexer": "ipython3",
   "version": "3.8.5"
  }
 },
 "nbformat": 4,
 "nbformat_minor": 4
}
