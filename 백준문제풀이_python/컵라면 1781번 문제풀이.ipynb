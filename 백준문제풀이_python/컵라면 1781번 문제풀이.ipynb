{
 "cells": [
  {
   "cell_type": "code",
   "execution_count": null,
   "metadata": {},
   "outputs": [],
   "source": [
    "## 탐욕알고리즘, 그리디\n",
    "## 난이도 중\n",
    "\n",
    "import heapq\n",
    "\n",
    "\n",
    "n=int(input())\n",
    "a=[]\n",
    "q=[]\n",
    "\n",
    "#문제정보를 데드라인 기준으로 정렬\n",
    "for i in range(n):\n",
    "    d,cup=map(int,input().split())\n",
    "    a.append((d,cup))\n",
    "\n",
    "a.sort(key=lambda x:x[0])\n",
    "# == a.sort()\n",
    "\n",
    "for i in a:\n",
    "    dead=i[0]\n",
    "    heapq.heappush(q,i[1])\n",
    "    ##데드라인 초과시 최소원소제거\n",
    "    if dead<len(q):\n",
    "        heapq.heappop(q)\n",
    "print(sum(q))\n"
   ]
  }
 ],
 "metadata": {
  "kernelspec": {
   "display_name": "Python 3",
   "language": "python",
   "name": "python3"
  },
  "language_info": {
   "codemirror_mode": {
    "name": "ipython",
    "version": 3
   },
   "file_extension": ".py",
   "mimetype": "text/x-python",
   "name": "python",
   "nbconvert_exporter": "python",
   "pygments_lexer": "ipython3",
   "version": "3.8.5"
  }
 },
 "nbformat": 4,
 "nbformat_minor": 4
}
