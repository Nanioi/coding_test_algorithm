{
 "cells": [
  {
   "cell_type": "code",
   "execution_count": null,
   "metadata": {},
   "outputs": [],
   "source": [
    "## 탐욕알고리즘, 그리디\n",
    "## 난이도 하\n",
    "\n",
    "n=int(input())\n",
    "a=[0]*n\n",
    "for i in range(n):\n",
    "    a[i]=int(input())\n",
    "\n",
    "a.sort()\n",
    "result=0      \n",
    "\n",
    "for i in range(1,n+1):\n",
    "    if a[i-1]-i>0:\n",
    "        result+=a[i-1]-i\n",
    "    else:\n",
    "        result+=i-a[i-1]\n",
    "\n",
    "print(result)"
   ]
  },
  {
   "cell_type": "code",
   "execution_count": null,
   "metadata": {},
   "outputs": [],
   "source": [
    "## 강의 풀이\n",
    "\n",
    "n=int(input())\n",
    "a=[]\n",
    "for i in range(n):\n",
    "    a.append(int(input()))\n",
    "\n",
    "a.sort()\n",
    "result=0      \n",
    "\n",
    "for i in range(1,n+1):\n",
    "    result+= abs(i-a[i-1])\n",
    "\n",
    "print(result)"
   ]
  }
 ],
 "metadata": {
  "kernelspec": {
   "display_name": "Python 3",
   "language": "python",
   "name": "python3"
  },
  "language_info": {
   "codemirror_mode": {
    "name": "ipython",
    "version": 3
   },
   "file_extension": ".py",
   "mimetype": "text/x-python",
   "name": "python",
   "nbconvert_exporter": "python",
   "pygments_lexer": "ipython3",
   "version": "3.8.5"
  }
 },
 "nbformat": 4,
 "nbformat_minor": 4
}
