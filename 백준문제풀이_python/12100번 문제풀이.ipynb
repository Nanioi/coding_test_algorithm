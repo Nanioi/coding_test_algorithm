{
 "cells": [
  {
   "cell_type": "code",
   "execution_count": null,
   "metadata": {},
   "outputs": [],
   "source": [
    "from copy import deepcopy\n",
    "\n",
    "N = int(input())\n",
    "Board = [list(map(int,input().split())) for i in range(N)]\n",
    "\n",
    "\n",
    "def rotate90(B,N):\n",
    "    NB = deepcopy(B)\n",
    "    for i in range(N):\n",
    "        for j in range(N):\n",
    "            NB[j][N-i-1]=B[i][j]\n",
    "    return NB \n",
    "\n",
    "def convert(lst,N):\n",
    "    new_list = [i for i in lst if i] #양수만 복사\n",
    "    for i in range(1,len(new_list)):\n",
    "        if new_list[i-1] == new_list[i]:\n",
    "            new_list[i-1]*=2\n",
    "            new_list[i]=0\n",
    "    new_list = [i for i in new_list if i]\n",
    "    return new_list + [0] *(N-len(new_list)) #나머지 0으로 채우고 리턴\n",
    "\n",
    "def dfs(N,B,count):\n",
    "    ret = max([max(i) for i in B])\n",
    "    if count==0:\n",
    "        return ret\n",
    "    for _ in range(4):\n",
    "        X = [convert(i,N) for i in B]\n",
    "        if X != B:\n",
    "            ret = max(ret,dfs(N,X,count-1))\n",
    "        B = rotate90(B,N)\n",
    "    return ret\n",
    "\n",
    "\n",
    "\n",
    "print(dfs(N,Board,5))\n",
    "\n",
    "\n",
    "\n",
    "#BoardCopy = deepcopy(Board) \n",
    "#ㅍㅏ이썬에서 =만하면 주소값만 복사할 수 있음, 주소값말고 값을 모두 복사 \n"
   ]
  }
 ],
 "metadata": {
  "kernelspec": {
   "display_name": "Python 3",
   "language": "python",
   "name": "python3"
  },
  "language_info": {
   "codemirror_mode": {
    "name": "ipython",
    "version": 3
   },
   "file_extension": ".py",
   "mimetype": "text/x-python",
   "name": "python",
   "nbconvert_exporter": "python",
   "pygments_lexer": "ipython3",
   "version": "3.8.5"
  }
 },
 "nbformat": 4,
 "nbformat_minor": 4
}
