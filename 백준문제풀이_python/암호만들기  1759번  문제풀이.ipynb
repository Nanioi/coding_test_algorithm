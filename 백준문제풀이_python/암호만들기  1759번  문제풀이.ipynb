{
 "cells": [
  {
   "cell_type": "code",
   "execution_count": null,
   "metadata": {},
   "outputs": [],
   "source": [
    "## 백트래킹\n",
    "## 난이도 중\n",
    "\n",
    "from itertools import combinations\n",
    "\n",
    "vowels=('a','e','i','o','u')\n",
    "l,c=map(int,input().split())\n",
    "\n",
    "a=input().split()\n",
    "a.sort()\n",
    "\n",
    "#길이가 l인 모든 조합 확인\n",
    "for pw in combinations(a,l):\n",
    "    cnt=0\n",
    "    for i in pw:\n",
    "        if i in vowels:\n",
    "            cnt+=1\n",
    "    if cnt>=1 and l-cnt>=2:\n",
    "        print(''.join(pw))"
   ]
  }
 ],
 "metadata": {
  "kernelspec": {
   "display_name": "Python 3",
   "language": "python",
   "name": "python3"
  },
  "language_info": {
   "codemirror_mode": {
    "name": "ipython",
    "version": 3
   },
   "file_extension": ".py",
   "mimetype": "text/x-python",
   "name": "python",
   "nbconvert_exporter": "python",
   "pygments_lexer": "ipython3",
   "version": "3.8.5"
  }
 },
 "nbformat": 4,
 "nbformat_minor": 4
}
