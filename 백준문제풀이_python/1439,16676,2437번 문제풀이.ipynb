{
 "cells": [
  {
   "cell_type": "code",
   "execution_count": null,
   "metadata": {},
   "outputs": [],
   "source": [
    "#1439\n",
    "\n",
    "s,tot=input(),0\n",
    "for i in range(1,len(s)):\n",
    "    if s[i]!=s[i-1]:\n",
    "        tot+=1\n",
    "print((tot+1)//2)"
   ]
  },
  {
   "cell_type": "code",
   "execution_count": null,
   "metadata": {},
   "outputs": [],
   "source": [
    "#16676\n",
    "\n",
    "n=input()\n",
    "s='1'*len(n)\n",
    "\n",
    "if len(n)==1:\n",
    "    print(1)\n",
    "elif int(n)>=int(s):\n",
    "    print(len(n))\n",
    "else:\n",
    "    print(len(n)-1)"
   ]
  },
  {
   "cell_type": "code",
   "execution_count": null,
   "metadata": {},
   "outputs": [],
   "source": [
    "#2437\n",
    "\n",
    "n= int(input())\n",
    "A = list(map(int,input().split()))\n",
    "A = sorted(A)\n",
    "\n",
    "#만들 수 있는 최저\n",
    "ans =0 \n",
    "\n",
    "for i in A:\n",
    "    if i<=ans+1:\n",
    "        ans+=i\n",
    "    else:\n",
    "        break\n",
    "\n",
    "print(ans+1)"
   ]
  }
 ],
 "metadata": {
  "kernelspec": {
   "display_name": "Python 3",
   "language": "python",
   "name": "python3"
  },
  "language_info": {
   "codemirror_mode": {
    "name": "ipython",
    "version": 3
   },
   "file_extension": ".py",
   "mimetype": "text/x-python",
   "name": "python",
   "nbconvert_exporter": "python",
   "pygments_lexer": "ipython3",
   "version": "3.8.5"
  }
 },
 "nbformat": 4,
 "nbformat_minor": 4
}
