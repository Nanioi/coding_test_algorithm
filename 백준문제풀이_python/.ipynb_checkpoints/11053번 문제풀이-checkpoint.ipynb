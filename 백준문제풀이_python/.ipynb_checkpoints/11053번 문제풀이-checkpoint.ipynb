{
 "cells": [
  {
   "cell_type": "code",
   "execution_count": null,
   "metadata": {},
   "outputs": [],
   "source": [
    "n=int(input())\n",
    "v=list(map(int,input().split()))\n",
    "dp=[1]*n\n",
    "for i in range(n):\n",
    "    for j in range(i):\n",
    "        if v[j]<v[i]:\n",
    "            dp[i]=max(dp[i],dp[j]+1)\n",
    "\n",
    "print(max(dp))"
   ]
  }
 ],
 "metadata": {
  "kernelspec": {
   "display_name": "Python 3",
   "language": "python",
   "name": "python3"
  },
  "language_info": {
   "codemirror_mode": {
    "name": "ipython",
    "version": 3
   },
   "file_extension": ".py",
   "mimetype": "text/x-python",
   "name": "python",
   "nbconvert_exporter": "python",
   "pygments_lexer": "ipython3",
   "version": "3.8.5"
  }
 },
 "nbformat": 4,
 "nbformat_minor": 4
}
