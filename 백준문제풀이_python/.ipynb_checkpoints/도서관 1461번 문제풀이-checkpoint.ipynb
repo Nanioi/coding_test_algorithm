{
 "cells": [
  {
   "cell_type": "code",
   "execution_count": null,
   "metadata": {},
   "outputs": [],
   "source": [
    "## 탐욕알고리즘, 그리디\n",
    "## 난이도 중\n",
    "\n",
    "import heapq\n",
    "\n",
    "n,m=map(int,input().split())\n",
    "a=list(map(int,input().split()))\n",
    "positive=[]\n",
    "negative=[]\n",
    "\n",
    "#가장 먼 거리\n",
    "largest=max(max(a),-min(a))\n",
    "\n",
    "#최대힙 구현 -> 모든 원소를 음수로\n",
    "for i in a:\n",
    "    if i>0:\n",
    "        heapq.heappush(positive,-i)\n",
    "    else:\n",
    "        heapq.heappush(negative,i)\n",
    "\n",
    "result=0\n",
    "\n",
    "# m개씩 원소 빼내기\n",
    "while positive:\n",
    "    result +=heapq.heappop(positive)\n",
    "    for i in range(m-1):\n",
    "        if positive:\n",
    "            heapq.heappop(positive)\n",
    "            \n",
    "\n",
    "while negative:\n",
    "    result +=heapq.heappop(negative)\n",
    "    for i in range(m-1):\n",
    "        if negative:\n",
    "            heapq.heappop(negative)\n",
    "\n",
    "# 왕복거리 - 가장 먼거리(0으로 돌아갈 필요가 없으므로)\n",
    "print(-result*2-largest)"
   ]
  }
 ],
 "metadata": {
  "kernelspec": {
   "display_name": "Python 3",
   "language": "python",
   "name": "python3"
  },
  "language_info": {
   "codemirror_mode": {
    "name": "ipython",
    "version": 3
   },
   "file_extension": ".py",
   "mimetype": "text/x-python",
   "name": "python",
   "nbconvert_exporter": "python",
   "pygments_lexer": "ipython3",
   "version": "3.8.5"
  }
 },
 "nbformat": 4,
 "nbformat_minor": 4
}
