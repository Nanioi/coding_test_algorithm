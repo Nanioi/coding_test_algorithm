{
 "cells": [
  {
   "cell_type": "code",
   "execution_count": null,
   "metadata": {},
   "outputs": [],
   "source": [
    "n=int(input())\n",
    "m=int(input())\n",
    "\n",
    "visit=[False]*(n+1)\n",
    "count=0\n",
    "\n",
    "adj=[[] for _ in range(n+1)]\n",
    "for _ in range(m):\n",
    "    x,y=map(int,input().split())\n",
    "    adj[x].append(y)\n",
    "    adj[y].append(x)\n",
    "\n",
    "def dfs(s):\n",
    "    global count\n",
    "    visit[s]=True\n",
    "    count+=1\n",
    "    for e in adj[s]:\n",
    "        if not(visit[e]):\n",
    "            dfs(e)\n",
    "dfs(1)\n",
    "print(count-1)"
   ]
  }
 ],
 "metadata": {
  "kernelspec": {
   "display_name": "Python 3",
   "language": "python",
   "name": "python3"
  },
  "language_info": {
   "codemirror_mode": {
    "name": "ipython",
    "version": 3
   },
   "file_extension": ".py",
   "mimetype": "text/x-python",
   "name": "python",
   "nbconvert_exporter": "python",
   "pygments_lexer": "ipython3",
   "version": "3.8.5"
  }
 },
 "nbformat": 4,
 "nbformat_minor": 4
}
