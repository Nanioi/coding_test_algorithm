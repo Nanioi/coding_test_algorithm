{
 "cells": [
  {
   "cell_type": "code",
   "execution_count": null,
   "metadata": {},
   "outputs": [],
   "source": [
    "from collections import deque\n",
    "\n",
    "n,m=map(int,input().split())\n",
    "adj=[[]for _ in range(n+1)]\n",
    "\n",
    "for _ in range(m):\n",
    "    a,b=map(int,input().split())\n",
    "    adj[b].append(a)\n",
    "\n",
    "def bfs(s):\n",
    "    q=deque([s])\n",
    "    visit=[False]*(n+1)\n",
    "    visit[s]=True\n",
    "    count=1\n",
    "    while q:\n",
    "        v=q.popleft()\n",
    "        for e in adj[v]:\n",
    "            if not visit[e]:\n",
    "                q.append(e)\n",
    "                visit[e]=True\n",
    "                count+=1\n",
    "    return count\n",
    "\n",
    "result=[]\n",
    "max_value=-1\n",
    "\n",
    "for i  in range(1,n+1):\n",
    "    c=bfs(i)\n",
    "    if c>max_value:\n",
    "        result=[i]\n",
    "        max_value=c\n",
    "    elif c==max_value:\n",
    "        result.append(i)\n",
    "\n",
    "for e in result:\n",
    "    print(e,end=' ')"
   ]
  }
 ],
 "metadata": {
  "kernelspec": {
   "display_name": "Python 3",
   "language": "python",
   "name": "python3"
  },
  "language_info": {
   "codemirror_mode": {
    "name": "ipython",
    "version": 3
   },
   "file_extension": ".py",
   "mimetype": "text/x-python",
   "name": "python",
   "nbconvert_exporter": "python",
   "pygments_lexer": "ipython3",
   "version": "3.8.5"
  }
 },
 "nbformat": 4,
 "nbformat_minor": 4
}
