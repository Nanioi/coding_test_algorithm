{
 "cells": [
  {
   "cell_type": "code",
   "execution_count": null,
   "metadata": {},
   "outputs": [],
   "source": [
    "#1080\n",
    "\n",
    "n,m = map(int,input().split())\n",
    "a=[list(map(int,list(input())))for _ in range(n)]\n",
    "b=[list(map(int,list(input())))for _ in range(n)]\n",
    "\n",
    "def flip(x,y,a):\n",
    "    for i in range(3):\n",
    "        for j in range(3):\n",
    "            a[x+i][y+j] ^=1\n",
    "ans=0\n",
    "for i in range(n-2):\n",
    "    for j in range(m-2):\n",
    "        if a[i][j]!=b[i][j]:\n",
    "            flip(i,j,a)\n",
    "            ans+=1\n",
    "\n",
    "\n",
    "if a!=b:\n",
    "    print(-1)\n",
    "\n",
    "else:\n",
    "    print(ans)\n",
    "\n",
    "# == print( ans if a==b else -1)"
   ]
  },
  {
   "cell_type": "code",
   "execution_count": null,
   "metadata": {},
   "outputs": [],
   "source": [
    "#2014\n",
    "\n",
    "import heapq\n",
    "import copy\n",
    "\n",
    "K,N = map(int,input().split())\n",
    "lst=list(map(int,input().split()))\n",
    "c_lst,ck = copy.deepcopy(lst),set()\n",
    "\n",
    "heapq.heapify(c_lst)\n",
    "ith=0\n",
    "\n",
    "while ith < N:\n",
    "    mn = heapq.heappop(c_lst)\n",
    "    if mn in ck:\n",
    "        continue\n",
    "    ith+=1\n",
    "    ck.add(mn)\n",
    "    for i in lst:\n",
    "        heapq.heappush(c_lst,mn*i)\n",
    "\n",
    "print(mn)"
   ]
  }
 ],
 "metadata": {
  "kernelspec": {
   "display_name": "Python 3",
   "language": "python",
   "name": "python3"
  },
  "language_info": {
   "codemirror_mode": {
    "name": "ipython",
    "version": 3
   },
   "file_extension": ".py",
   "mimetype": "text/x-python",
   "name": "python",
   "nbconvert_exporter": "python",
   "pygments_lexer": "ipython3",
   "version": "3.8.5"
  }
 },
 "nbformat": 4,
 "nbformat_minor": 4
}
