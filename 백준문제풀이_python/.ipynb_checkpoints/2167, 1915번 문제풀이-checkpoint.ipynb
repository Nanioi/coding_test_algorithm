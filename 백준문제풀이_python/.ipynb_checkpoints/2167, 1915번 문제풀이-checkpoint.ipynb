{
 "cells": [
  {
   "cell_type": "code",
   "execution_count": null,
   "metadata": {},
   "outputs": [],
   "source": [
    "#2167\n",
    "\n",
    "# dp[i] : i까지 누적합\n",
    "# i~j까지 합 : dp[j] - dp[i-1]\n",
    "\n",
    "n,m = map(int,input().split())\n",
    "arr=[list(map(int,input().split())) for _ in range(n)]\n",
    "#dp[i][j] = 1,1부터 (i,j)까지의 부분합\n",
    "dp = [[0 for i in range(m+1)]for _ in range(n+1)]\n",
    "\n",
    "for i in range(1,n+1):\n",
    "    for j in range(1,m+1):\n",
    "        dp[i][j] = dp[i-1][j]+dp[i][j-1]-dp[i-1][j-1]+arr[i-1][j-1]\n",
    "\n",
    "for _ in range(int(input())):\n",
    "    i,j,x,y = map(int,input().split())\n",
    "    print(dp[x][y]-dp[i-1][y]-dp[x][j-1]+dp[i-1][j-1])"
   ]
  },
  {
   "cell_type": "code",
   "execution_count": null,
   "metadata": {},
   "outputs": [],
   "source": [
    "#1915\n",
    "\n",
    "n,m = map(int,input().split())\n",
    "a = [[0 for _ in range(m+1)] for i in range(n+1)]\n",
    "#dp[i][j] = i,j 까지 왔을때, 가장 큰 정사각형의 한 변의 길이\n",
    "#dp[i][j] = min(dp[i-1][j],dp[i-1][j-1],dp[i][j-1])+1\n",
    "dp = [[0 for _ in range(m+1)] for i in range(n+1)]\n",
    "\n",
    "for i in range(n):\n",
    "    for idx,j in enumerate(list(map(int,list(input())))):\n",
    "        a[i+1][idx+1] = j\n",
    "mx=0\n",
    "\n",
    "for i in range(1,n+1):\n",
    "    for j in range(1,m+1):\n",
    "        if a[i][j]:\n",
    "            dp[i][j] = min(dp[i-1][j],dp[i-1][j-1],dp[i][j-1])+1 \n",
    "            mx = max(dp[i][j],mx)\n",
    "\n",
    "print(mx**2)"
   ]
  },
  {
   "cell_type": "code",
   "execution_count": null,
   "metadata": {},
   "outputs": [],
   "source": [
    "for i in range(1,n+1):\n",
    "    for j in range(1,m+1):\n",
    "        if a[i][j]:\n",
    "            dp[i][j] = min(dp[i-1][j],dp[i-1][j-1],dp[i][j-1])+1 \n",
    "\n",
    "print(max([max(i) for i in dp])**2)"
   ]
  }
 ],
 "metadata": {
  "kernelspec": {
   "display_name": "Python 3",
   "language": "python",
   "name": "python3"
  },
  "language_info": {
   "codemirror_mode": {
    "name": "ipython",
    "version": 3
   },
   "file_extension": ".py",
   "mimetype": "text/x-python",
   "name": "python",
   "nbconvert_exporter": "python",
   "pygments_lexer": "ipython3",
   "version": "3.8.5"
  }
 },
 "nbformat": 4,
 "nbformat_minor": 4
}
