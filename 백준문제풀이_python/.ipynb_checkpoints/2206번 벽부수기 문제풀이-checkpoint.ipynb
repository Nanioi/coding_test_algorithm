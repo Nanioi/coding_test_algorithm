{
 "cells": [
  {
   "cell_type": "code",
   "execution_count": null,
   "metadata": {},
   "outputs": [],
   "source": [
    "# 벽부수고 이동하기\n",
    "# bfs 인데 재방문 가능한\n",
    "\n",
    "N×M의 행렬로 표현되는 맵이 있다. 맵에서 0은 이동할 수 있는 곳을 나타내고, 1은 이동할 수 없는 벽이 있는 곳을 나타낸다. \n",
    "당신은 (1, 1)에서 (N, M)의 위치까지 이동하려 하는데, 이때 최단 경로로 이동하려 한다. \n",
    "최단경로는 맵에서 가장 적은 개수의 칸을 지나는 경로를 말하는데, 이때 시작하는 칸과 끝나는 칸도 포함해서 센다.\n",
    "\n",
    "만약에 이동하는 도중에 한 개의 벽을 부수고 이동하는 것이 좀 더 경로가 짧아진다면, 벽을 한 개 까지 부수고 이동하여도 된다.\n",
    "\n",
    "한 칸에서 이동할 수 있는 칸은 상하좌우로 인접한 칸이다.\n",
    "\n",
    "맵이 주어졌을 때, 최단 경로를 구해 내는 프로그램을 작성하시오.\n",
    "\n",
    "첫째 줄에 N(1 ≤ N ≤ 1,000), M(1 ≤ M ≤ 1,000)이 주어진다.\n",
    "다음 N개의 줄에 M개의 숫자로 맵이 주어진다. (1, 1)과 (N, M)은 항상 0이라고 가정하자."
   ]
  },
  {
   "cell_type": "code",
   "execution_count": null,
   "metadata": {},
   "outputs": [],
   "source": [
    "# 입력예시 \n",
    "6 4\n",
    "0100\n",
    "1110\n",
    "1000\n",
    "0000\n",
    "0111\n",
    "0000\n",
    "\n",
    "4 4\n",
    "0111\n",
    "1111\n",
    "1111\n",
    "1110\n",
    "\n",
    "# 출력 \n",
    "15 \n",
    "-1"
   ]
  },
  {
   "cell_type": "code",
   "execution_count": 10,
   "metadata": {},
   "outputs": [
    {
     "name": "stdout",
     "output_type": "stream",
     "text": [
      "15\n"
     ]
    }
   ],
   "source": [
    "from collections import deque\n",
    "\n",
    "\n",
    "board = [[0,1,0,0],[1,1,1,0],[1,0,0,0],[0,0,0,0],[0,1,1,1],[0,0,0,0]]\n",
    "dx,dy = [0,1,0,-1],[1,0,-1,0]\n",
    "\n",
    "def bfs():\n",
    "    visited = visit = [[[0] * 2 for _ in range(4)] for __ in range(6)]\n",
    "    # visited[x][y][w] 에서 w가 0이라면 벽을 한번 뚫은 상태이고, 1이라면 아직 벽을 한번 뚫을 수 있는 상태\n",
    "    visit[0][0][1]=1\n",
    "\n",
    "    q = deque() # x,y,distance,cnt\n",
    "    q.append([0,0,1])\n",
    "    \n",
    "    while q : \n",
    "        x,y,w = q.popleft()\n",
    "        if x == 5 and y == 3 : \n",
    "            return visit[x][y][w]\n",
    "\n",
    "        for i in range(4):\n",
    "            nx,ny = x+dx[i],y+dy[i]\n",
    "            if 0<=nx<6 and 0<=ny<4 :\n",
    "                if board[nx][ny]==1 and w==1:\n",
    "                    visit[nx][ny][0] = visit[x][y][1]+1\n",
    "                    q.append([nx,ny,0])\n",
    "                elif board[nx][ny]==0 and visit[nx][ny][w]==0:\n",
    "                    visit[nx][ny][w]=visit[x][y][w]+1\n",
    "                    q.append([nx,ny,w])\n",
    "\n",
    "    return -1    \n",
    "\n",
    "\n",
    "print(bfs())"
   ]
  }
 ],
 "metadata": {
  "kernelspec": {
   "display_name": "Python 3",
   "language": "python",
   "name": "python3"
  },
  "language_info": {
   "codemirror_mode": {
    "name": "ipython",
    "version": 3
   },
   "file_extension": ".py",
   "mimetype": "text/x-python",
   "name": "python",
   "nbconvert_exporter": "python",
   "pygments_lexer": "ipython3",
   "version": "3.8.5"
  }
 },
 "nbformat": 4,
 "nbformat_minor": 4
}
