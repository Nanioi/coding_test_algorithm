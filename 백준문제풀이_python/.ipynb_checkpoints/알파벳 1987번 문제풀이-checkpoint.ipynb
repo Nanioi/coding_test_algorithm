{
 "cells": [
  {
   "cell_type": "code",
   "execution_count": null,
   "metadata": {},
   "outputs": [],
   "source": [
    "## 백트래킹\n",
    "## 난이도 중\n",
    "\n",
    "def bfs(x,y):\n",
    "    global result\n",
    "\n",
    "    #동일한 경우는 한 번만 계산하기 위해 set사용\n",
    "    q=set()\n",
    "    q.add((x,y,a[x][y]))\n",
    "\n",
    "    while q:\n",
    "        x,y,step=q.pop()\n",
    "        # 가장 긴 이동거리 저장\n",
    "        result=max(result,len(step))\n",
    "        \n",
    "        for i in range(4):\n",
    "            xx,yy=x+dx[i],y+dy[i]\n",
    "            if xx>=0 and xx<n and yy>=0 and yy<m and a[xx][yy] not in step:\n",
    "                q.add((xx,yy,step+a[xx][yy]))\n",
    "\n",
    "n,m=map(int,input().split())\n",
    "a=[]\n",
    "dx,dy=[0,-1,0,1],[1,0,-1,0]\n",
    "for _ in range(n):\n",
    "    a.append(input())\n",
    "\n",
    "result=0\n",
    "bfs(0,0)\n",
    "print(result)"
   ]
  }
 ],
 "metadata": {
  "kernelspec": {
   "display_name": "Python 3",
   "language": "python",
   "name": "python3"
  },
  "language_info": {
   "codemirror_mode": {
    "name": "ipython",
    "version": 3
   },
   "file_extension": ".py",
   "mimetype": "text/x-python",
   "name": "python",
   "nbconvert_exporter": "python",
   "pygments_lexer": "ipython3",
   "version": "3.8.5"
  }
 },
 "nbformat": 4,
 "nbformat_minor": 4
}
