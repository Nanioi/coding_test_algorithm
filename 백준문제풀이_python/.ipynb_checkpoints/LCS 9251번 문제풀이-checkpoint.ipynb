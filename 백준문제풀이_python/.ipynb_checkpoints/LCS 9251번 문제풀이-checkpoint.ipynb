{
 "cells": [
  {
   "cell_type": "code",
   "execution_count": null,
   "metadata": {},
   "outputs": [],
   "source": [
    "## 난이도 하\n",
    "## 동적프로그래밍, LCS\n",
    "\n",
    "x=input()\n",
    "y=input()\n",
    "\n",
    "lenx= len(x)+1\n",
    "leny= len(y)+1\n",
    "\n",
    "dp=[[0]*leny for _ in range(lenx)]\n",
    "\n",
    "for i in range(1,lenx):\n",
    "    for j in range(1,leny):\n",
    "        if x[i-1]==y[j-1]:\n",
    "            dp[i][j]=dp[i-1][j-1]+1\n",
    "        else:\n",
    "            dp[i][j]=max(dp[i][j-1],dp[i-1][j])\n",
    "\n",
    "print(dp[lenx-1][leny-1])"
   ]
  }
 ],
 "metadata": {
  "kernelspec": {
   "display_name": "Python 3",
   "language": "python",
   "name": "python3"
  },
  "language_info": {
   "codemirror_mode": {
    "name": "ipython",
    "version": 3
   },
   "file_extension": ".py",
   "mimetype": "text/x-python",
   "name": "python",
   "nbconvert_exporter": "python",
   "pygments_lexer": "ipython3",
   "version": "3.8.5"
  }
 },
 "nbformat": 4,
 "nbformat_minor": 4
}
