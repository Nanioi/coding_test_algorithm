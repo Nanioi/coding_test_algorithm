{
 "cells": [
  {
   "cell_type": "code",
   "execution_count": null,
   "metadata": {},
   "outputs": [],
   "source": [
    "from  collections import deque\n",
    "\n",
    "def dfs(v):\n",
    "    print(v,end=' ')\n",
    "    visit[v]=True\n",
    "    for e in adj[v]:\n",
    "        if not(visit[e]):\n",
    "            dfs(e)\n",
    "\n",
    "def bfs(v):\n",
    "    q=deque([v])\n",
    "    while q:\n",
    "        v=q.popleft()\n",
    "        if not(visit[v]):\n",
    "            visit[v]=True\n",
    "            print(v,end=' ')\n",
    "            for e in adj[v]:\n",
    "                if not(visit[e]):\n",
    "                    q.append(e)\n",
    "\n",
    "n,m,v=map(int,input().split())\n",
    "adj=[[] for _ in range(n+1)]\n",
    "\n",
    "for _ in  range(m):\n",
    "    x,y=map(int,input().split())\n",
    "    adj[x].append(y)\n",
    "    adj[y].append(x)\n",
    "\n",
    "for e in adj:\n",
    "    e.sort()\n",
    "\n",
    "\n",
    "visit=[False]*(n+1)\n",
    "dfs(v)\n",
    "print()\n",
    "visit=[False]*(n+1)\n",
    "bfs(v)"
   ]
  }
 ],
 "metadata": {
  "kernelspec": {
   "display_name": "Python 3",
   "language": "python",
   "name": "python3"
  },
  "language_info": {
   "codemirror_mode": {
    "name": "ipython",
    "version": 3
   },
   "file_extension": ".py",
   "mimetype": "text/x-python",
   "name": "python",
   "nbconvert_exporter": "python",
   "pygments_lexer": "ipython3",
   "version": "3.8.5"
  }
 },
 "nbformat": 4,
 "nbformat_minor": 4
}
