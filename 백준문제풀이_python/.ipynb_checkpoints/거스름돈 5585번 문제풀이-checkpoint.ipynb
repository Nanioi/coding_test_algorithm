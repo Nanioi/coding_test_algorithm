{
 "cells": [
  {
   "cell_type": "code",
   "execution_count": null,
   "metadata": {},
   "outputs": [],
   "source": [
    "## 탐욕알고리즘, 그리디\n",
    "## 난이도 하\n",
    "\n",
    "n=int(input())\n",
    "\n",
    "money = 1000-n\n",
    "m=[500,100,50,10,5,1]\n",
    "cnt=0\n",
    "\n",
    "for i in m:\n",
    "    if money<=0:\n",
    "        break\n",
    "    while money>=i:\n",
    "        money-=i\n",
    "        cnt+=1\n",
    "\n",
    "print(cnt)"
   ]
  },
  {
   "cell_type": "code",
   "execution_count": null,
   "metadata": {},
   "outputs": [],
   "source": [
    "## 문제 다른 풀이(강의)\n",
    "\n",
    "changes = 1000-int(input())\n",
    "count=0\n",
    "\n",
    "for i in [500,100,50,10,5,1]:\n",
    "    count+=changes//i\n",
    "    changes%=i\n",
    "    \n",
    "print(count)"
   ]
  }
 ],
 "metadata": {
  "kernelspec": {
   "display_name": "Python 3",
   "language": "python",
   "name": "python3"
  },
  "language_info": {
   "codemirror_mode": {
    "name": "ipython",
    "version": 3
   },
   "file_extension": ".py",
   "mimetype": "text/x-python",
   "name": "python",
   "nbconvert_exporter": "python",
   "pygments_lexer": "ipython3",
   "version": "3.8.5"
  }
 },
 "nbformat": 4,
 "nbformat_minor": 4
}
