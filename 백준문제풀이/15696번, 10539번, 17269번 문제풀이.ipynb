{
 "cells": [
  {
   "cell_type": "code",
   "execution_count": null,
   "metadata": {},
   "outputs": [],
   "source": [
    "#15696\n",
    "\n",
    "n, lst=input(),list(map(int,input().split()))\n",
    "\n",
    "print(max(lst)-min(lst))"
   ]
  },
  {
   "cell_type": "code",
   "execution_count": null,
   "metadata": {},
   "outputs": [],
   "source": [
    "#10539\n",
    "\n",
    "n, B=int(input()),list(map(int,input().split()))\n",
    "\n",
    "A= [B[0]]\n",
    "\n",
    "for i in range(1,n):\n",
    "    A.append(B[i]*(i+1)-sum(A))\n",
    "\n",
    "for i in A:\n",
    "    print(i,end=' ')\n",
    "    \n",
    "    \n",
    "#수가 많은 경우 이방법이 더 빠름 ( append > [0]초기화 후 대입)\n",
    "n, B=int(input()),list(map(int,input().split()))\n",
    "\n",
    "A=[0 for i in range(n)]\n",
    "A[0] = B[0]\n",
    "\n",
    "for i in range(1,n):\n",
    "    A[i] = (B[i]*(i+1)-sum(A))\n",
    "\n",
    "for i in A:\n",
    "    print(i,end=' ')\n",
    "    "
   ]
  },
  {
   "cell_type": "code",
   "execution_count": null,
   "metadata": {},
   "outputs": [],
   "source": [
    "#17269\n",
    "n,m = map(int,input().split())\n",
    "a,b = input().split()\n",
    "\n",
    "alp = [3,2,1,2,4,3,1,3,1,1,3,1,3,2,1,2,2,2,1,2,1,1,1,2,2,1]\n",
    "\n",
    "ab=''\n",
    "min_len = min(n,m)\n",
    "for i in range(min_len):\n",
    "    ab += a[i]+b[i]\n",
    "\n",
    "ab+=a[min_len:] + b[min_len:]\n",
    "\n",
    "lst= [ alp[ord(i)-ord('A')] for i in ab]\n",
    "\n",
    "for i in range(n+m-2):\n",
    "    for j in range(n+m-1-i):\n",
    "        lst[j] +=lst[j+1]\n",
    "\n",
    "\n",
    "print(\"{}%\".format(lst[0]%10*10 + lst[1]%10))\n",
    "\n",
    "\n",
    "#참고 : 반복문 대신 함수사용 방법\n",
    "def f(lst):\n",
    "    ret=[]\n",
    "    for i in range(lst-1):\n",
    "        ret.append((lst[i]+lst[i+1])%10)\n",
    "    return ret"
   ]
  }
 ],
 "metadata": {
  "kernelspec": {
   "display_name": "Python 3",
   "language": "python",
   "name": "python3"
  },
  "language_info": {
   "codemirror_mode": {
    "name": "ipython",
    "version": 3
   },
   "file_extension": ".py",
   "mimetype": "text/x-python",
   "name": "python",
   "nbconvert_exporter": "python",
   "pygments_lexer": "ipython3",
   "version": "3.8.5"
  }
 },
 "nbformat": 4,
 "nbformat_minor": 4
}
