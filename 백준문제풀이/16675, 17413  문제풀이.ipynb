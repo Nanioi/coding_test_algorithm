{
 "cells": [
  {
   "cell_type": "code",
   "execution_count": null,
   "metadata": {},
   "outputs": [],
   "source": [
    "#16675\n",
    "\n",
    "ML, MR,TL,TR = ('SRP'.index(i) for i in input().split())\n",
    "# s 0 - r 1\n",
    "# r 1 - p 2\n",
    "# p 2 - s 0\n",
    "if ML == MR and (ML+1)%3 in [TL,TR]:\n",
    "    print(\"TK\")\n",
    "elif TL==TR and (TL+1)%3 in [ML,MR]:\n",
    "    print(\"MS\")\n",
    "else:\n",
    "    print('?')"
   ]
  },
  {
   "cell_type": "code",
   "execution_count": null,
   "metadata": {},
   "outputs": [],
   "source": [
    "#17413\n",
    "\n",
    "s,tmp = input(),\"\"\n",
    "\n",
    "ck = False\n",
    "\n",
    "for i in s:\n",
    "    if i == ' ':\n",
    "        if not ck:\n",
    "            print(tmp[::-1],end=\" \")\n",
    "            tmp=\"\"\n",
    "        else:\n",
    "            print(\" \",end=\"\")\n",
    "    elif i == '<':\n",
    "        ck=True\n",
    "        print(tmp[::-1]+\"<\",end=\"\")\n",
    "        tmp=\"\"\n",
    "    elif i == '>':\n",
    "        ck=False\n",
    "        print(\">\",end=\"\")\n",
    "    else: #알파벳/숫자\n",
    "        if ck:\n",
    "            print(i,end=\"\")\n",
    "        else:\n",
    "            tmp +=i\n",
    "\n",
    "print(tmp[::-1],end=\" \")"
   ]
  },
  {
   "cell_type": "code",
   "execution_count": null,
   "metadata": {},
   "outputs": [],
   "source": [
    "#17413\n",
    "\n",
    "s= input()\n",
    "\n",
    "tmp,ans,ck =\"\",\"\", False\n",
    "\n",
    "for i in s:\n",
    "    if i == ' ':\n",
    "        if not ck:\n",
    "            ans +=tmp[::-1]+ \" \"\n",
    "            tmp=\"\"\n",
    "        else: ans+=\" \"\n",
    "    elif i == '<':\n",
    "        ck=True\n",
    "        ans +=tmp[::-1]+ '<'\n",
    "        tmp=\"\"\n",
    "    elif i == '>':\n",
    "        ck=False\n",
    "        ans+='>'\n",
    "    else: #알파벳/숫자\n",
    "        if ck: ans+=i\n",
    "        else: tmp +=i\n",
    "ans+=tmp[::-1]\n",
    "print(ans)"
   ]
  }
 ],
 "metadata": {
  "kernelspec": {
   "display_name": "Python 3",
   "language": "python",
   "name": "python3"
  },
  "language_info": {
   "codemirror_mode": {
    "name": "ipython",
    "version": 3
   },
   "file_extension": ".py",
   "mimetype": "text/x-python",
   "name": "python",
   "nbconvert_exporter": "python",
   "pygments_lexer": "ipython3",
   "version": "3.8.5"
  }
 },
 "nbformat": 4,
 "nbformat_minor": 4
}
