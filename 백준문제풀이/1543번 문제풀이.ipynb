{
 "cells": [
  {
   "cell_type": "code",
   "execution_count": null,
   "metadata": {},
   "outputs": [],
   "source": [
    "document = input()\n",
    "word = input()\n",
    "\n",
    "index=0\n",
    "result=0\n",
    "\n",
    "while len(document) - index >= len(word):\n",
    "    if document[index:index+len(word)]==word:\n",
    "        result+=1\n",
    "        index+=len(word)\n",
    "    else:\n",
    "        index+=1\n",
    "        \n",
    "print(result)"
   ]
  }
 ],
 "metadata": {
  "kernelspec": {
   "display_name": "Python 3",
   "language": "python",
   "name": "python3"
  },
  "language_info": {
   "codemirror_mode": {
    "name": "ipython",
    "version": 3
   },
   "file_extension": ".py",
   "mimetype": "text/x-python",
   "name": "python",
   "nbconvert_exporter": "python",
   "pygments_lexer": "ipython3",
   "version": "3.8.5"
  }
 },
 "nbformat": 4,
 "nbformat_minor": 4
}
