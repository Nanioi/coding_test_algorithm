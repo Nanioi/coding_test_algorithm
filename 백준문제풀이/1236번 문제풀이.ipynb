{
 "cells": [
  {
   "cell_type": "code",
   "execution_count": null,
   "metadata": {},
   "outputs": [],
   "source": [
    "n,m=map(int,input().split())\n",
    "array=[]\n",
    "\n",
    "for _ in range(n):\n",
    "    array.append(input())\n",
    "    \n",
    "row = [0]*n\n",
    "column = [0]*m\n",
    "\n",
    "for i in range(n):\n",
    "    for j in range(m):\n",
    "        if array[i][j] == 'X':\n",
    "            row[i]=1\n",
    "            column[j]=1\n",
    "row_count=0\n",
    "for i in range(n):\n",
    "    if row[i]==0:\n",
    "        row_count+=1\n",
    "column_count=0\n",
    "for j in range(m):\n",
    "    if column[j]==0:\n",
    "        column_count+=1\n",
    "        \n",
    "print(max(row_count,column_count))"
   ]
  }
 ],
 "metadata": {
  "kernelspec": {
   "display_name": "Python 3",
   "language": "python",
   "name": "python3"
  },
  "language_info": {
   "codemirror_mode": {
    "name": "ipython",
    "version": 3
   },
   "file_extension": ".py",
   "mimetype": "text/x-python",
   "name": "python",
   "nbconvert_exporter": "python",
   "pygments_lexer": "ipython3",
   "version": "3.8.5"
  }
 },
 "nbformat": 4,
 "nbformat_minor": 4
}
