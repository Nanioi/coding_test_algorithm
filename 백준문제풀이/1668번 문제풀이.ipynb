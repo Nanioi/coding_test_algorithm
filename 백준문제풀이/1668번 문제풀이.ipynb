{
 "cells": [
  {
   "cell_type": "code",
   "execution_count": 3,
   "metadata": {},
   "outputs": [
    {
     "name": "stdout",
     "output_type": "stream",
     "text": [
      "5\n",
      "1\n",
      "2\n",
      "3\n",
      "4\n",
      "5\n",
      "5\n",
      "1\n"
     ]
    }
   ],
   "source": [
    "n=int(input())\n",
    "array=[]\n",
    "\n",
    "for _ in range(n):\n",
    "    array.append(int(input()))\n",
    "    \n",
    "left_cnt =1\n",
    "right_cnt=1\n",
    "left_index=0\n",
    "right_index=n-1\n",
    "for i in range(1,n):\n",
    "    if array[left_index]<array[i] :\n",
    "        left_cnt+=1\n",
    "        left_index=i\n",
    "    if array[right_index]<array[n-(i+1)] :\n",
    "        right_cnt+=1\n",
    "        right_index=n-(i+1)\n",
    "        \n",
    "print(left_cnt)\n",
    "print(right_cnt)"
   ]
  },
  {
   "cell_type": "code",
   "execution_count": null,
   "metadata": {},
   "outputs": [],
   "source": [
    "def ascending(array):\n",
    "    now=array[0]\n",
    "    result=1\n",
    "    for i in range(1,len(array)):\n",
    "        if now < array[i]:\n",
    "            result +=1\n",
    "            now = array[i]\n",
    "    return result\n",
    "\n",
    "n=int(input())\n",
    "array=[]\n",
    "\n",
    "for _ in range(n):\n",
    "    array.append(int(input()))\n",
    "    \n",
    "print(ascending(array))\n",
    "array.reverse()\n",
    "print(ascending(array))"
   ]
  }
 ],
 "metadata": {
  "kernelspec": {
   "display_name": "Python 3",
   "language": "python",
   "name": "python3"
  },
  "language_info": {
   "codemirror_mode": {
    "name": "ipython",
    "version": 3
   },
   "file_extension": ".py",
   "mimetype": "text/x-python",
   "name": "python",
   "nbconvert_exporter": "python",
   "pygments_lexer": "ipython3",
   "version": "3.8.5"
  }
 },
 "nbformat": 4,
 "nbformat_minor": 4
}
