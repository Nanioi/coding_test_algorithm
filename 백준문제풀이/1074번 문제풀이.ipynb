{
 "cells": [
  {
   "cell_type": "code",
   "execution_count": null,
   "metadata": {},
   "outputs": [],
   "source": [
    "def solve(n,x,y):\n",
    "    global result\n",
    "    if n==2:\n",
    "        if x==X and y==Y:\n",
    "            print(result)\n",
    "            return\n",
    "        result+=1\n",
    "        if x==X and y+1==Y:\n",
    "            print(result)\n",
    "            return\n",
    "        result+=1\n",
    "        if x+1==X and y==Y:\n",
    "            print(result)\n",
    "            return\n",
    "        result+=1\n",
    "        if x+1==X and y+1==Y:\n",
    "            print(result)\n",
    "            return\n",
    "        result+=1\n",
    "        return\n",
    "    solve(n/2,x,y)\n",
    "    solve(n/2,x,y+n/2)\n",
    "    solve(n/2,x+n/2,y)\n",
    "    solve(n/2,x+n/2,y+n/2)\n",
    "    \n",
    "result=0\n",
    "N,X,Y=map(int,input().split(' '))\n",
    "solve(2**N,0,0)"
   ]
  },
  {
   "cell_type": "code",
   "execution_count": null,
   "metadata": {},
   "outputs": [],
   "source": [
    "n,r,c = map(int,input().split())\n",
    "\n",
    "# Z : 0,0을 기준으로 x,y의 숫자\n",
    "def Z(sz,x,y):\n",
    "    if sz ==1:\n",
    "        return 0\n",
    "    sz //=2\n",
    "    for i in range(2):\n",
    "        for j in range(2):\n",
    "            if x <sz*(i+1) and y <sz*(j+1):\n",
    "                return (i*2+j)*sz*sz + Z(sz,x-sz*i,y-sz*j)\n",
    "\n",
    "#  (0,0),(0,1),(1,0),(1,1) = 0,1,2,3 = i*2+j\n",
    "# sz*sz = 사각형 한개의 크기 \n",
    "\n",
    "print(Z(2**n,r,c))"
   ]
  }
 ],
 "metadata": {
  "kernelspec": {
   "display_name": "Python 3",
   "language": "python",
   "name": "python3"
  },
  "language_info": {
   "codemirror_mode": {
    "name": "ipython",
    "version": 3
   },
   "file_extension": ".py",
   "mimetype": "text/x-python",
   "name": "python",
   "nbconvert_exporter": "python",
   "pygments_lexer": "ipython3",
   "version": "3.8.5"
  }
 },
 "nbformat": 4,
 "nbformat_minor": 4
}
