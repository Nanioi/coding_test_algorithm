{
 "cells": [
  {
   "cell_type": "code",
   "execution_count": null,
   "metadata": {},
   "outputs": [],
   "source": [
    "#17389\n",
    "\n",
    "N,S = int(input()),input()\n",
    "\n",
    "score, bonus = 0,0\n",
    "\n",
    "for idx,OX in enumerate(S):\n",
    "    if OX=='O':\n",
    "        score,bonus = score+idx+1+bonus, bonus+1\n",
    "    else:\n",
    "        bonus =0\n",
    "\n",
    "print(score)"
   ]
  },
  {
   "cell_type": "code",
   "execution_count": null,
   "metadata": {},
   "outputs": [],
   "source": [
    "#16165\n",
    "\n",
    "n,m = map(int,input().split())\n",
    "\n",
    "team_mem, mem_team = {},{}\n",
    "\n",
    "for i in range(n):\n",
    "    team_name, mem_num = input(), int(input())\n",
    "    team_mem[team_name] = []\n",
    "    for j in range(mem_num):\n",
    "        name = input()\n",
    "        team_mem[team_name].append(name)\n",
    "        mem_team[name]=team_name\n",
    "\n",
    "for i in range(m):\n",
    "    name , q = input() , int(input())\n",
    "    if q:\n",
    "        print(mem_team[name])\n",
    "    else:\n",
    "        for mem in sorted(team_mem[name]) : \n",
    "            print(mem)"
   ]
  }
 ],
 "metadata": {
  "kernelspec": {
   "display_name": "Python 3",
   "language": "python",
   "name": "python3"
  },
  "language_info": {
   "codemirror_mode": {
    "name": "ipython",
    "version": 3
   },
   "file_extension": ".py",
   "mimetype": "text/x-python",
   "name": "python",
   "nbconvert_exporter": "python",
   "pygments_lexer": "ipython3",
   "version": "3.8.5"
  }
 },
 "nbformat": 4,
 "nbformat_minor": 4
}
