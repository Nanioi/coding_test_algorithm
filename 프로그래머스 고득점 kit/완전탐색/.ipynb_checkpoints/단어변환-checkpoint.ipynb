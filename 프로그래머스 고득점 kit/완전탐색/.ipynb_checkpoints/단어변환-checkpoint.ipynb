{
 "cells": [
  {
   "cell_type": "code",
   "execution_count": null,
   "metadata": {},
   "outputs": [],
   "source": [
    "def solution(begin, target, words):\n",
    "    answer = 0\n",
    "    queue = [begin]\n",
    "\n",
    "    while True:\n",
    "        lst = []\n",
    "        for w in queue:\n",
    "            if w == target:\n",
    "                    return answer\n",
    "            for i in range(len(words)-1,-1,-1):\n",
    "                w2 = words[i]\n",
    "                if sum([x!=y for x, y in zip(w, w2)]) == 1:\n",
    "                    lst.append(words.pop(i))\n",
    "\n",
    "        if not lst:\n",
    "            return 0\n",
    "        queue = lst\n",
    "        answer += 1"
   ]
  }
 ],
 "metadata": {
  "kernelspec": {
   "display_name": "Python 3",
   "language": "python",
   "name": "python3"
  },
  "language_info": {
   "codemirror_mode": {
    "name": "ipython",
    "version": 3
   },
   "file_extension": ".py",
   "mimetype": "text/x-python",
   "name": "python",
   "nbconvert_exporter": "python",
   "pygments_lexer": "ipython3",
   "version": "3.8.5"
  }
 },
 "nbformat": 4,
 "nbformat_minor": 4
}
