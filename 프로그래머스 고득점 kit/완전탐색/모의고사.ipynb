{
 "cells": [
  {
   "cell_type": "code",
   "execution_count": null,
   "metadata": {},
   "outputs": [],
   "source": [
    "def solution(answers):\n",
    "    answer = []\n",
    "    p1 = [1,2,3,4,5]\n",
    "    p2 = [2,1,2,3,2,4,2,5]\n",
    "    p3 = [3,3,1,1,2,2,4,4,5,5]\n",
    "    \n",
    "    s = [0,0,0]\n",
    "    \n",
    "    for i in range(len(answers)):\n",
    "        if answers[i] == p1[i%5]:\n",
    "            s[0]+=1\n",
    "        if answers[i] == p2[i%8]:\n",
    "            s[1]+=1\n",
    "        if answers[i] == p3[i%10]:\n",
    "            s[2]+=1\n",
    "            \n",
    "    for i in range(3):\n",
    "        if s[i] == max(s):\n",
    "            answer.append(i+1)\n",
    "    \n",
    "    return answer"
   ]
  }
 ],
 "metadata": {
  "kernelspec": {
   "display_name": "Python 3",
   "language": "python",
   "name": "python3"
  },
  "language_info": {
   "codemirror_mode": {
    "name": "ipython",
    "version": 3
   },
   "file_extension": ".py",
   "mimetype": "text/x-python",
   "name": "python",
   "nbconvert_exporter": "python",
   "pygments_lexer": "ipython3",
   "version": "3.8.5"
  }
 },
 "nbformat": 4,
 "nbformat_minor": 4
}
