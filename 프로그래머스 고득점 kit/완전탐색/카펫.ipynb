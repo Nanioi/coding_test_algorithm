{
 "cells": [
  {
   "cell_type": "code",
   "execution_count": null,
   "metadata": {},
   "outputs": [],
   "source": [
    "def solution(brown, yellow):\n",
    "    s = brown+yellow\n",
    "    \n",
    "    for i in range(s,2,-1):\n",
    "        if s%i == 0:\n",
    "            j=s//i\n",
    "            if (i-2)*(j-2)==yellow:\n",
    "                return [i,j]"
   ]
  },
  {
   "cell_type": "code",
   "execution_count": null,
   "metadata": {},
   "outputs": [],
   "source": [
    "def solution(brown, yellow):\n",
    "    cnt = brown+yellow\n",
    "    \n",
    "    for i in range(1,cnt+1):\n",
    "        if cnt %i==0:\n",
    "            j = cnt//i\n",
    "            if (i-2)*(j-2)==yellow:\n",
    "                return [j,i]\n",
    "    "
   ]
  }
 ],
 "metadata": {
  "kernelspec": {
   "display_name": "Python 3",
   "language": "python",
   "name": "python3"
  },
  "language_info": {
   "codemirror_mode": {
    "name": "ipython",
    "version": 3
   },
   "file_extension": ".py",
   "mimetype": "text/x-python",
   "name": "python",
   "nbconvert_exporter": "python",
   "pygments_lexer": "ipython3",
   "version": "3.8.5"
  }
 },
 "nbformat": 4,
 "nbformat_minor": 4
}
