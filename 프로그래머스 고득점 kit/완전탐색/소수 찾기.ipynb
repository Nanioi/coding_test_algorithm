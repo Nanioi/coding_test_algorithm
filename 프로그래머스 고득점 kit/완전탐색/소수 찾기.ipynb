{
 "cells": [
  {
   "cell_type": "code",
   "execution_count": null,
   "metadata": {},
   "outputs": [],
   "source": [
    "from itertools import permutations\n",
    "\n",
    "def solution(numbers):\n",
    "    l = set()\n",
    "    \n",
    "    for i in range(len(numbers)):\n",
    "        l |= set(map(int, map(''.join, permutations(list(numbers),i+1))))\n",
    "    l-=set(range(0,2))\n",
    "    \n",
    "    for i in range(2, int(max(l)**0.5)+1):\n",
    "        l-=set(range(i*2,max(l)+1,i))\n",
    "    print(l)\n",
    "    return len(l)"
   ]
  }
 ],
 "metadata": {
  "kernelspec": {
   "display_name": "Python 3",
   "language": "python",
   "name": "python3"
  },
  "language_info": {
   "codemirror_mode": {
    "name": "ipython",
    "version": 3
   },
   "file_extension": ".py",
   "mimetype": "text/x-python",
   "name": "python",
   "nbconvert_exporter": "python",
   "pygments_lexer": "ipython3",
   "version": "3.8.5"
  }
 },
 "nbformat": 4,
 "nbformat_minor": 4
}
