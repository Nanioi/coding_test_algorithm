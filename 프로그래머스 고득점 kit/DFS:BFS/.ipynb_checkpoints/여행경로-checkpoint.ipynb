{
 "cells": [
  {
   "cell_type": "code",
   "execution_count": null,
   "metadata": {},
   "outputs": [],
   "source": [
    "from collections import defaultdict\n",
    "\n",
    "def dfs(graph,N,key,path):\n",
    "    if len(path)==N:\n",
    "        return path\n",
    "    \n",
    "    for i,country in enumerate(graph[key]):\n",
    "        graph[key].pop(i)\n",
    "        \n",
    "        lst = path\n",
    "        lst.append(country)\n",
    "        \n",
    "        p = dfs(graph,N,country,lst)\n",
    "        if p :# 모든 티켓을 사용해 통과한 경우\n",
    "            print(p)\n",
    "            return p\n",
    "        \n",
    "        graph[key].insert(i, country) # 통과 못했으면 티켓 반환\n",
    "    \n",
    "    \n",
    "def solution(tickets):\n",
    "    answer = []\n",
    "    graph=defaultdict(list)\n",
    "    \n",
    "    for key,value in tickets:\n",
    "        graph[key].append(value)\n",
    "        graph[key].sort()\n",
    "        \n",
    "    N = len(tickets)+1\n",
    "    answer=dfs(graph,N,\"ICN\",[\"ICN\"])\n",
    "        \n",
    "    return answer"
   ]
  }
 ],
 "metadata": {
  "kernelspec": {
   "display_name": "Python 3",
   "language": "python",
   "name": "python3"
  },
  "language_info": {
   "codemirror_mode": {
    "name": "ipython",
    "version": 3
   },
   "file_extension": ".py",
   "mimetype": "text/x-python",
   "name": "python",
   "nbconvert_exporter": "python",
   "pygments_lexer": "ipython3",
   "version": "3.8.5"
  }
 },
 "nbformat": 4,
 "nbformat_minor": 4
}
