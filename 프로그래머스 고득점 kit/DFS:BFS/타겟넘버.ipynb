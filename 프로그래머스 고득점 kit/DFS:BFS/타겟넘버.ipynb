{
 "cells": [
  {
   "cell_type": "code",
   "execution_count": null,
   "metadata": {},
   "outputs": [],
   "source": [
    "from itertools import product\n",
    "\n",
    "def solution(numbers, target):\n",
    "    l = [(x, -x) for x in numbers]\n",
    "    print(l)\n",
    "    s = list(map(sum, product(*l)))\n",
    "    print(list(product(*l)))\n",
    "    return s.count(target)"
   ]
  },
  {
   "cell_type": "code",
   "execution_count": null,
   "metadata": {},
   "outputs": [],
   "source": [
    "def solution(numbers, target):\n",
    "    if not numbers and target == 0 :\n",
    "        return 1\n",
    "    elif not numbers:\n",
    "        return 0\n",
    "    else:\n",
    "        return solution(numbers[1:], target-numbers[0]) + solution(numbers[1:], target+numbers[0])"
   ]
  }
 ],
 "metadata": {
  "kernelspec": {
   "display_name": "Python 3",
   "language": "python",
   "name": "python3"
  },
  "language_info": {
   "codemirror_mode": {
    "name": "ipython",
    "version": 3
   },
   "file_extension": ".py",
   "mimetype": "text/x-python",
   "name": "python",
   "nbconvert_exporter": "python",
   "pygments_lexer": "ipython3",
   "version": "3.8.5"
  }
 },
 "nbformat": 4,
 "nbformat_minor": 4
}
