{
 "cells": [
  {
   "cell_type": "code",
   "execution_count": null,
   "metadata": {},
   "outputs": [],
   "source": [
    "def dfs(i,computers,visit):\n",
    "    visit[i]=True\n",
    "    \n",
    "    for index,j in enumerate(computers[i]):\n",
    "        if index != i and j==1 and visit[index]==False:\n",
    "            dfs(index,computers,visit)\n",
    "\n",
    "\n",
    "def solution(n, computers):\n",
    "    answer = 0\n",
    "    visit = [False for _ in range(n)]\n",
    "    \n",
    "    for i in range(n):\n",
    "        if visit[i] == False:\n",
    "            dfs(i,computers,visit)\n",
    "            answer+=1\n",
    "    return answer"
   ]
  }
 ],
 "metadata": {
  "kernelspec": {
   "display_name": "Python 3",
   "language": "python",
   "name": "python3"
  },
  "language_info": {
   "codemirror_mode": {
    "name": "ipython",
    "version": 3
   },
   "file_extension": ".py",
   "mimetype": "text/x-python",
   "name": "python",
   "nbconvert_exporter": "python",
   "pygments_lexer": "ipython3",
   "version": "3.8.5"
  }
 },
 "nbformat": 4,
 "nbformat_minor": 4
}
