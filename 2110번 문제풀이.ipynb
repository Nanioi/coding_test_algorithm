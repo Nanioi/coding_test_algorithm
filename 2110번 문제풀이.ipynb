{
 "cells": [
  {
   "cell_type": "code",
   "execution_count": 2,
   "metadata": {},
   "outputs": [
    {
     "name": "stdout",
     "output_type": "stream",
     "text": [
      "5 3\n",
      "1\n",
      "2\n",
      "8\n",
      "4\n",
      "9\n",
      "3\n"
     ]
    }
   ],
   "source": [
    "n,c = list(map(int,input().split(' ')))\n",
    "array=[]\n",
    "\n",
    "for _ in range(n):\n",
    "    array.append(int(input()))\n",
    "array = sorted(array)\n",
    "\n",
    "start = array[1] - array[0]\n",
    "end = array[-1] - array[0]\n",
    "result=0\n",
    "\n",
    "while(start<=end):\n",
    "    mid = (start+end)//2\n",
    "    value=array[0]\n",
    "    count=1\n",
    "    for i in range(1,len(array)):\n",
    "        if array[i] >= value+mid:\n",
    "            value = array[i]\n",
    "            count+=1\n",
    "    if count>=c:\n",
    "        start=mid+1\n",
    "        result=mid\n",
    "    else:\n",
    "        end=mid-1\n",
    "    \n",
    "print(result)"
   ]
  }
 ],
 "metadata": {
  "kernelspec": {
   "display_name": "Python 3",
   "language": "python",
   "name": "python3"
  },
  "language_info": {
   "codemirror_mode": {
    "name": "ipython",
    "version": 3
   },
   "file_extension": ".py",
   "mimetype": "text/x-python",
   "name": "python",
   "nbconvert_exporter": "python",
   "pygments_lexer": "ipython3",
   "version": "3.8.5"
  }
 },
 "nbformat": 4,
 "nbformat_minor": 4
}
