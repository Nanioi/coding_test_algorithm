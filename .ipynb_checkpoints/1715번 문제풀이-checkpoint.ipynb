{
 "cells": [
  {
   "cell_type": "code",
   "execution_count": null,
   "metadata": {},
   "outputs": [],
   "source": [
    "import heapq\n",
    "\n",
    "n= int(input())\n",
    "heap=[]\n",
    "\n",
    "for i in range(n):\n",
    "    data=int(input())\n",
    "    heapq.heappush(heap,data)\n",
    "    \n",
    "result =0\n",
    "\n",
    "while len(heap)!=1:\n",
    "    one = heapq.heappop(heap)\n",
    "    two = heapq.heappop(heap)\n",
    "    sum_value = one+two\n",
    "    result+=sum_value\n",
    "    heapq.heappush(heap,sum_value)\n",
    "    \n",
    "print(result)"
   ]
  }
 ],
 "metadata": {
  "kernelspec": {
   "display_name": "Python 3",
   "language": "python",
   "name": "python3"
  },
  "language_info": {
   "codemirror_mode": {
    "name": "ipython",
    "version": 3
   },
   "file_extension": ".py",
   "mimetype": "text/x-python",
   "name": "python",
   "nbconvert_exporter": "python",
   "pygments_lexer": "ipython3",
   "version": "3.8.5"
  }
 },
 "nbformat": 4,
 "nbformat_minor": 4
}
