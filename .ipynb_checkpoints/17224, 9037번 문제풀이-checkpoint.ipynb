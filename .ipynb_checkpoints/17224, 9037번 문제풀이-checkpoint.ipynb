{
 "cells": [
  {
   "cell_type": "code",
   "execution_count": null,
   "metadata": {},
   "outputs": [],
   "source": [
    "#17224\n",
    "\n",
    "n,l,k = map(int,input().split())\n",
    "\n",
    "easy,hard =0,0\n",
    "\n",
    "for i in range(n):\n",
    "    sub1,sub2 = map(int,input().split())\n",
    "    if sub2 <=l:\n",
    "        hard+=1\n",
    "    elif sub1 <= l:\n",
    "        easy+=1\n",
    "\n",
    "# hard문제\n",
    "ans = min(hard,k)*140\n",
    "\n",
    "#easy\n",
    "\n",
    "if hard<k:\n",
    "    ans += min(k-hard,easy)*100\n",
    "\n",
    "print(ans)"
   ]
  },
  {
   "cell_type": "code",
   "execution_count": null,
   "metadata": {},
   "outputs": [],
   "source": [
    "#9037\n",
    "\n",
    "def check(n,candy):\n",
    "    for i in range(n):\n",
    "        if candy[i]%2==1 :\n",
    "            candy[i] +=1\n",
    "    return len(set(candy))==1\n",
    "    #전부 같은지 체크\n",
    "\n",
    "def teacher(n,candy):\n",
    "    tmp_list = [0 for i in range(n)]\n",
    "    #오른쪽으로 전달해줘야하는 사탕수 저장\n",
    "    for idx in range(n):\n",
    "        if candy[idx]%2:\n",
    "            candy[idx]+=1\n",
    "        candy[idx]//=2\n",
    "        tmp_list[(idx+1)%n]= candy[idx]\n",
    "    \n",
    "    for idx in range(n):\n",
    "        candy[idx] += tmp_list[idx]\n",
    "\n",
    "    return candy\n",
    "\n",
    "def process():\n",
    "    n,candy = int(input()), list(map(int,input().split()))\n",
    "    cnt=0\n",
    "    while not check(n,candy):\n",
    "        cnt+=1\n",
    "        candy = teacher(n,candy)\n",
    "    print(cnt)\n",
    "\n",
    "for i in range(int(input())):\n",
    "    process()\n"
   ]
  }
 ],
 "metadata": {
  "kernelspec": {
   "display_name": "Python 3",
   "language": "python",
   "name": "python3"
  },
  "language_info": {
   "codemirror_mode": {
    "name": "ipython",
    "version": 3
   },
   "file_extension": ".py",
   "mimetype": "text/x-python",
   "name": "python",
   "nbconvert_exporter": "python",
   "pygments_lexer": "ipython3",
   "version": "3.8.5"
  }
 },
 "nbformat": 4,
 "nbformat_minor": 4
}
