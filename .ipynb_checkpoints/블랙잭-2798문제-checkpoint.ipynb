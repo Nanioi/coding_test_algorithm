{
 "cells": [
  {
   "cell_type": "code",
   "execution_count": null,
   "metadata": {},
   "outputs": [],
   "source": [
    "n,m = list(map(int,input().split(' ')))\n",
    "data = list(map(int,input().split(' ')))\n",
    "\n",
    "max_sum = 0\n",
    "length = len(data)\n",
    "\n",
    "for i  in range(0,length):\n",
    "    for j in range(i+1,length):\n",
    "        for k in range(j+1,length):\n",
    "            value = data[i] + data[j] + data[k]\n",
    "            if value <= m :\n",
    "                max_sum = max(max_sum,value)\n",
    "                \n",
    "print(max_sum)"
   ]
  },
  {
   "cell_type": "code",
   "execution_count": null,
   "metadata": {},
   "outputs": [],
   "source": []
  }
 ],
 "metadata": {
  "kernelspec": {
   "display_name": "Python 3",
   "language": "python",
   "name": "python3"
  },
  "language_info": {
   "codemirror_mode": {
    "name": "ipython",
    "version": 3
   },
   "file_extension": ".py",
   "mimetype": "text/x-python",
   "name": "python",
   "nbconvert_exporter": "python",
   "pygments_lexer": "ipython3",
   "version": "3.8.5"
  }
 },
 "nbformat": 4,
 "nbformat_minor": 4
}
