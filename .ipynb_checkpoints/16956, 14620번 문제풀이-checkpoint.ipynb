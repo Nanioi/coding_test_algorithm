{
 "cells": [
  {
   "cell_type": "code",
   "execution_count": null,
   "metadata": {},
   "outputs": [],
   "source": [
    "#16956\n",
    "#방향벡터\n",
    "\n",
    "R, C =map(int,input().split())\n",
    "M = [list(input()) for i in range(R)]\n",
    "\n",
    "dx,dy = [0,1,0,-1],[1,0,-1,0]\n",
    "\n",
    "ck=False\n",
    "\n",
    "for i in range(R):\n",
    "    for j in range(C):\n",
    "        if M[i][j]=='W':\n",
    "            for w in range(4):\n",
    "                ii,jj = i+dx[w],j+dy[w]\n",
    "                if ii<0 or ii==R or jj<0 or jj==C: #범위넘어가는거 예외처리\n",
    "                    continue\n",
    "                if M[ii][jj]=='S':\n",
    "                    ck=True\n",
    "if ck:\n",
    "    print(0)\n",
    "else:\n",
    "    print(1)\n",
    "    for i in range(R):\n",
    "        for j in range(C):\n",
    "            if M[i][j] not in 'SW':\n",
    "                M[i][j]='D'\n",
    "    for i in M:\n",
    "        print(''.join(i))\n"
   ]
  },
  {
   "cell_type": "code",
   "execution_count": null,
   "metadata": {},
   "outputs": [],
   "source": [
    "#14620\n",
    "#전수조사,방향벡터\n",
    "\n",
    "N=int(input())\n",
    "G=[list(map(int,input().split())) for i in range(N)]\n",
    "\n",
    "ans = 10000\n",
    "\n",
    "dx,dy = [0,0,0,1,-1],[0,1,-1,0,0]\n",
    "#꽃이 a,b,c있을때 비용 가능할때만 리턴\n",
    "def ck(lst):\n",
    "    ret=0\n",
    "    F=[]\n",
    "    for flower in lst:\n",
    "        x=flower // N\n",
    "        y=flower % N\n",
    "        if x==0 or x==N-1 or y==0 or y==N-1 :\n",
    "            return 10000\n",
    "        for w in range(5):\n",
    "            F.append((x+dx[w],y+dy[w])) \n",
    "            ret += G[x+dx[w]][y+dy[w]]\n",
    "    if len(set(F))!=15: #겹치는게 있는경우\n",
    "        return 10000\n",
    "    return ret\n",
    "\n",
    "\n",
    "# 전수조사\n",
    "for i in range(N*N):\n",
    "    for j in range(i+1, N*N):\n",
    "        for k in range(j+1 ,N*N):\n",
    "            ans = min(ans,ck([i,j,k]))\n",
    "\n",
    "print(ans)"
   ]
  }
 ],
 "metadata": {
  "kernelspec": {
   "display_name": "Python 3",
   "language": "python",
   "name": "python3"
  },
  "language_info": {
   "codemirror_mode": {
    "name": "ipython",
    "version": 3
   },
   "file_extension": ".py",
   "mimetype": "text/x-python",
   "name": "python",
   "nbconvert_exporter": "python",
   "pygments_lexer": "ipython3",
   "version": "3.8.5"
  }
 },
 "nbformat": 4,
 "nbformat_minor": 4
}
